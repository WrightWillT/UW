{
 "cells": [
  {
   "cell_type": "code",
   "execution_count": 18,
   "metadata": {},
   "outputs": [],
   "source": [
    "import json\n",
    "import requests\n",
    "import pandas as pd\n",
    "import matplotlib.pyplot as plt"
   ]
  },
  {
   "cell_type": "code",
   "execution_count": 2,
   "metadata": {},
   "outputs": [],
   "source": [
    "endpoint_legacy = 'https://wikimedia.org/api/rest_v1/metrics/legacy/pagecounts/aggregate/{project}/{access-site}/{granularity}/{start}/{end}'\n",
    "\n",
    "endpoint_modern = 'https://wikimedia.org/api/rest_v1/metrics/pageviews/aggregate/{project}/{access}/{agent}/{granularity}/{start}/{end}'"
   ]
  },
  {
   "cell_type": "code",
   "execution_count": 3,
   "metadata": {},
   "outputs": [],
   "source": [
    "# There are 5 data sources needed for the analysis: legacy-desktop, legacy-mobile, modern-desktop,\n",
    "    # modern-mobile-web, and modern-mobile-app\n",
    "# Below, parameters are specified for each api call\n",
    "\n",
    "# For legacy calls, see: https://wikimedia.org/api/rest_v1/#!/Legacy_data/get_metrics_legacy_pagecounts_aggregate_project_access_site_granularity_start_end\n",
    "# legacy-desktop has data through July 2016 so the end parameter is the first day on the following month\n",
    "params_legacy_desktop = {\"project\" : \"en.wikipedia.org\",\n",
    "                         \"access-site\" : \"desktop-site\",\n",
    "                         \"granularity\" : \"monthly\",\n",
    "                         \"start\" : \"2007120100\",\n",
    "                         \"end\" : \"2016080100\"\n",
    "                        }\n",
    "\n",
    "# legacy-mobile has the same date range as legacy-desktop\n",
    "params_legacy_mobile = {\"project\" : \"en.wikipedia.org\",\n",
    "                         \"access-site\" : \"mobile-site\",\n",
    "                         \"granularity\" : \"monthly\",\n",
    "                         \"start\" : \"2007120100\",\n",
    "                         \"end\" : \"2016080100\"\n",
    "                        }\n",
    "\n",
    "# For modern calls, see: https://wikimedia.org/api/rest_v1/#!/Pageviews_data/get_metrics_pageviews_aggregate_project_access_agent_granularity_start_end\n",
    "# modern-desktop has data from July 2015 through the present date, but we'll use Sep 2019\n",
    "params_modern_desktop = {\"project\" : \"en.wikipedia.org\",\n",
    "                        \"access\" : \"desktop\",\n",
    "                        \"agent\" : \"user\",\n",
    "                        \"granularity\" : \"monthly\",\n",
    "                        \"start\" : \"2015070100\",\n",
    "                        \"end\" : '2019101000'\n",
    "                        }\n",
    "\n",
    "# modern-mobile-web has the same timeframe as modern-desktop\n",
    "params_modern_mobile_web = {\"project\" : \"en.wikipedia.org\",\n",
    "                            \"access\" : \"mobile-web\",\n",
    "                            \"agent\" : \"user\",\n",
    "                            \"granularity\" : \"monthly\",\n",
    "                            \"start\" : \"2015070100\",\n",
    "                            \"end\" : '2019101000'\n",
    "                           }\n",
    "\n",
    "# modern-mobile-app has the same timeframe as modern-desktop\n",
    "params_modern_mobile_app = {\"project\" : \"en.wikipedia.org\",\n",
    "                            \"access\" : \"mobile-app\",\n",
    "                            \"agent\" : \"user\",\n",
    "                            \"granularity\" : \"monthly\",\n",
    "                            \"start\" : \"2015070100\",\n",
    "                            \"end\" : '2019101000'\n",
    "                           }\n",
    "\n",
    "# Customize calls with my information\n",
    "headers = {\n",
    "            'User-Agent': 'https://github.com/WrightWillT',\n",
    "            'From': 'wtwright@uw.edu'\n",
    "}"
   ]
  },
  {
   "cell_type": "code",
   "execution_count": 4,
   "metadata": {},
   "outputs": [],
   "source": [
    "def api_call(endpoint,parameters):\n",
    "    call = requests.get(endpoint.format(**parameters), headers=headers)\n",
    "    response = call.json()\n",
    "    \n",
    "    return response"
   ]
  },
  {
   "cell_type": "code",
   "execution_count": 5,
   "metadata": {},
   "outputs": [],
   "source": [
    "# Make api calls and store json data\n",
    "legacy_desktop_pagecounts = api_call(endpoint_legacy, params_legacy_desktop)\n",
    "legacy_mobile_pagecounts = api_call(endpoint_legacy, params_legacy_mobile)\n",
    "modern_desktop_pageviews = api_call(endpoint_modern, params_modern_desktop)\n",
    "modern_mobile_web_pageviews = api_call(endpoint_modern, params_modern_mobile_web)\n",
    "modern_mobile_app_pageviews = api_call(endpoint_modern, params_modern_mobile_app)"
   ]
  },
  {
   "cell_type": "code",
   "execution_count": 6,
   "metadata": {},
   "outputs": [],
   "source": [
    "# save json data into the 'data_raw' folder\n",
    "with open(\"../data_raw/pagecounts_desktop-site_200712-201608.json\", \"w\") as write_file:\n",
    "    json.dump(legacy_desktop_pagecounts, write_file)\n",
    "with open(\"../data_raw/pagecounts_mobile-site_200712-201608.json\", \"w\") as write_file:\n",
    "    json.dump(legacy_mobile_pagecounts, write_file)\n",
    "with open(\"../data_raw/pageviews_desktop_2015107-201910.json\", \"w\") as write_file:\n",
    "    json.dump(modern_desktop_pageviews, write_file)\n",
    "with open(\"../data_raw/pageviews_mobile-web_2015107-201910.json\", \"w\") as write_file:\n",
    "    json.dump(modern_mobile_web_pageviews, write_file)\n",
    "with open(\"../data_raw/pageviews_mobile_app_2015107-201910.json\", \"w\") as write_file:\n",
    "    json.dump(modern_mobile_app_pageviews, write_file)"
   ]
  },
  {
   "cell_type": "code",
   "execution_count": 7,
   "metadata": {},
   "outputs": [],
   "source": [
    "# read data from hard disk (start here to avoid the api calls)\n",
    "with open(\"../data_raw/pagecounts_desktop-site_200712-201608.json\", \"r\") as read_file:\n",
    "    legacy_desktop_pagecounts = json.load(read_file)\n",
    "with open(\"../data_raw/pagecounts_mobile-site_200712-201608.json\", \"r\") as read_file:\n",
    "    legacy_mobile_pagecounts = json.load(read_file)\n",
    "with open(\"../data_raw/pageviews_desktop_2015107-201910.json\", \"r\") as read_file:\n",
    "    modern_desktop_pageviews = json.load(read_file)\n",
    "with open(\"../data_raw/pageviews_mobile-web_2015107-201910.json\", \"r\") as read_file:\n",
    "    modern_mobile_web_pageviews = json.load(read_file)\n",
    "with open(\"../data_raw/pageviews_mobile_app_2015107-201910.json\", \"r\") as read_file:\n",
    "    modern_mobile_app_pageviews = json.load(read_file)"
   ]
  },
  {
   "cell_type": "code",
   "execution_count": 8,
   "metadata": {},
   "outputs": [],
   "source": [
    "# convert each json object into dataframe\n",
    "legacy_desktop_pagecounts_df = pd.DataFrame(legacy_desktop_pagecounts['items'])\n",
    "legacy_mobile_pagecounts_df = pd.DataFrame(legacy_mobile_pagecounts['items'])\n",
    "modern_desktop_pageviews_df = pd.DataFrame(modern_desktop_pageviews['items'])\n",
    "modern_mobile_web_pageviews_df = pd.DataFrame(modern_mobile_web_pageviews['items'])\n",
    "modern_mobile_app_pageviews_df = pd.DataFrame(modern_mobile_app_pageviews['items'])"
   ]
  },
  {
   "cell_type": "code",
   "execution_count": 9,
   "metadata": {},
   "outputs": [],
   "source": [
    "# initialize dictionary for a unified dataframe with all months\n",
    "date_data = {'timestamp': pd.date_range('2007-12-01','2019-09-01', \n",
    "                                 freq='MS').strftime(\"%Y%m%d%H\").tolist()}\n",
    "\n",
    "# convert to dataframe\n",
    "wiki_traffic = pd.DataFrame(date_data)\n",
    "\n",
    "# create columns for year and month from the timestamp\n",
    "wiki_traffic['year'] = wiki_traffic['timestamp'].str[:4]\n",
    "wiki_traffic['month'] = wiki_traffic['timestamp'].str[4:6]"
   ]
  },
  {
   "cell_type": "code",
   "execution_count": 10,
   "metadata": {},
   "outputs": [],
   "source": [
    "# note: there's definitely a better way to do this, but python is a second language to me and this works\n",
    "# join the other dataframes by timestamp to create a unified table, relabeling as needed\n",
    "wiki_traffic = pd.merge(wiki_traffic,\n",
    "                       legacy_desktop_pagecounts_df[['timestamp','count']],\n",
    "                       left_on = \"timestamp\",\n",
    "                       right_on = \"timestamp\",\n",
    "                       how = \"left\")\n",
    "wiki_traffic = wiki_traffic.rename(columns={'count': 'pagecount_desktop_views'})\n",
    "\n",
    "wiki_traffic = pd.merge(wiki_traffic,\n",
    "                       legacy_mobile_pagecounts_df[['timestamp','count']],\n",
    "                       left_on = \"timestamp\",\n",
    "                       right_on = \"timestamp\",\n",
    "                       how = \"left\")\n",
    "wiki_traffic = wiki_traffic.rename(columns={'count': 'pagecount_mobile_views'})\n",
    "\n",
    "wiki_traffic = pd.merge(wiki_traffic,\n",
    "                       modern_desktop_pageviews_df[['timestamp','views']],\n",
    "                       left_on = \"timestamp\",\n",
    "                       right_on = \"timestamp\",\n",
    "                       how = \"left\")\n",
    "wiki_traffic = wiki_traffic.rename(columns={'views': 'pageview_desktop_views'})\n",
    "\n",
    "wiki_traffic = pd.merge(wiki_traffic,\n",
    "                       modern_mobile_web_pageviews_df[['timestamp','views']],\n",
    "                       left_on = \"timestamp\",\n",
    "                       right_on = \"timestamp\",\n",
    "                       how = \"left\")\n",
    "wiki_traffic = wiki_traffic.rename(columns={'views': 'pageview_mobile_web_views'})\n",
    "\n",
    "wiki_traffic = pd.merge(wiki_traffic,\n",
    "                       modern_mobile_app_pageviews_df[['timestamp','views']],\n",
    "                       left_on = \"timestamp\",\n",
    "                       right_on = \"timestamp\",\n",
    "                       how = \"left\")\n",
    "wiki_traffic = wiki_traffic.rename(columns={'views': 'pageview_mobile_app_views'})"
   ]
  },
  {
   "cell_type": "code",
   "execution_count": 11,
   "metadata": {},
   "outputs": [],
   "source": [
    "# convert all NaNs to 0s\n",
    "wiki_traffic = wiki_traffic.fillna(0)"
   ]
  },
  {
   "cell_type": "code",
   "execution_count": 12,
   "metadata": {},
   "outputs": [],
   "source": [
    "# create sum columns for pagecounts and pageviews as well as a sum for all mobile pageviews\n",
    "wiki_traffic['pagecount_all_views'] = wiki_traffic['pagecount_desktop_views'] + wiki_traffic['pagecount_mobile_views']\n",
    "wiki_traffic['pageview_mobile_views'] = wiki_traffic['pageview_mobile_web_views'] + wiki_traffic['pageview_mobile_app_views']\n",
    "wiki_traffic['pageview_all_views'] = wiki_traffic['pageview_desktop_views'] + wiki_traffic['pageview_mobile_views']"
   ]
  },
  {
   "cell_type": "code",
   "execution_count": 13,
   "metadata": {},
   "outputs": [],
   "source": [
    "# subset to columns needed for the analysis and rearrange to match expected format\n",
    "wiki_traffic = wiki_traffic[['year',\n",
    "                           'month',\n",
    "                           'pagecount_all_views',\n",
    "                           'pagecount_desktop_views',\n",
    "                           'pagecount_mobile_views',\n",
    "                           'pageview_all_views',\n",
    "                           'pageview_desktop_views',\n",
    "                           'pageview_mobile_views']]"
   ]
  },
  {
   "cell_type": "code",
   "execution_count": 15,
   "metadata": {
    "scrolled": true
   },
   "outputs": [],
   "source": [
    "# write to csv in the data_clean folder\n",
    "wiki_traffic.to_csv(\"../data_clean/en-wikipedia_traffic_200712-201809.csv\", index = False)"
   ]
  },
  {
   "cell_type": "code",
   "execution_count": 16,
   "metadata": {},
   "outputs": [],
   "source": [
    "# read csv from hard disk (optional to start here if data is on hard disk)\n",
    "wiki_traffic = pd.read_csv(\"../data_clean/en-wikipedia_traffic_200712-201809.csv\")"
   ]
  },
  {
   "cell_type": "code",
   "execution_count": null,
   "metadata": {},
   "outputs": [],
   "source": [
    "# plot the data\n",
    "plt.plot()"
   ]
  }
 ],
 "metadata": {
  "kernelspec": {
   "display_name": "Python 3",
   "language": "python",
   "name": "python3"
  },
  "language_info": {
   "codemirror_mode": {
    "name": "ipython",
    "version": 3
   },
   "file_extension": ".py",
   "mimetype": "text/x-python",
   "name": "python",
   "nbconvert_exporter": "python",
   "pygments_lexer": "ipython3",
   "version": "3.7.1"
  }
 },
 "nbformat": 4,
 "nbformat_minor": 2
}
