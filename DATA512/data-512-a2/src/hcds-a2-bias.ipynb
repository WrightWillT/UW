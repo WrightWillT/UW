{
 "cells": [
  {
   "cell_type": "markdown",
   "metadata": {},
   "source": [
    "# DATA 512 - Human-Centered Data Science\n",
    "## Assignment 2\n",
    "Will Wright \n",
    "Q4 2019"
   ]
  },
  {
   "cell_type": "markdown",
   "metadata": {},
   "source": [
    "### Purpose and Methodology\n",
    "TODO"
   ]
  },
  {
   "cell_type": "markdown",
   "metadata": {},
   "source": [
    "### Load Modules and Set Parameters"
   ]
  },
  {
   "cell_type": "code",
   "execution_count": 129,
   "metadata": {},
   "outputs": [],
   "source": [
    "import pandas as pd\n",
    "import numpy as np"
   ]
  },
  {
   "cell_type": "code",
   "execution_count": 69,
   "metadata": {},
   "outputs": [],
   "source": [
    "pd.options.display.max_rows = 500"
   ]
  },
  {
   "cell_type": "markdown",
   "metadata": {},
   "source": [
    "### Get Data"
   ]
  },
  {
   "cell_type": "code",
   "execution_count": 5,
   "metadata": {},
   "outputs": [],
   "source": [
    "page_data = pd.read_csv(\"../data_raw/page_data.csv\")\n",
    "pop_data = pd.read_csv(\"../data_raw/WPDS_2018_data.csv\")"
   ]
  },
  {
   "cell_type": "code",
   "execution_count": 6,
   "metadata": {},
   "outputs": [
    {
     "data": {
      "text/html": [
       "<div>\n",
       "<style scoped>\n",
       "    .dataframe tbody tr th:only-of-type {\n",
       "        vertical-align: middle;\n",
       "    }\n",
       "\n",
       "    .dataframe tbody tr th {\n",
       "        vertical-align: top;\n",
       "    }\n",
       "\n",
       "    .dataframe thead th {\n",
       "        text-align: right;\n",
       "    }\n",
       "</style>\n",
       "<table border=\"1\" class=\"dataframe\">\n",
       "  <thead>\n",
       "    <tr style=\"text-align: right;\">\n",
       "      <th></th>\n",
       "      <th>page</th>\n",
       "      <th>country</th>\n",
       "      <th>rev_id</th>\n",
       "    </tr>\n",
       "  </thead>\n",
       "  <tbody>\n",
       "    <tr>\n",
       "      <td>0</td>\n",
       "      <td>Template:ZambiaProvincialMinisters</td>\n",
       "      <td>Zambia</td>\n",
       "      <td>235107991</td>\n",
       "    </tr>\n",
       "    <tr>\n",
       "      <td>1</td>\n",
       "      <td>Bir I of Kanem</td>\n",
       "      <td>Chad</td>\n",
       "      <td>355319463</td>\n",
       "    </tr>\n",
       "    <tr>\n",
       "      <td>2</td>\n",
       "      <td>Template:Zimbabwe-politician-stub</td>\n",
       "      <td>Zimbabwe</td>\n",
       "      <td>391862046</td>\n",
       "    </tr>\n",
       "    <tr>\n",
       "      <td>3</td>\n",
       "      <td>Template:Uganda-politician-stub</td>\n",
       "      <td>Uganda</td>\n",
       "      <td>391862070</td>\n",
       "    </tr>\n",
       "    <tr>\n",
       "      <td>4</td>\n",
       "      <td>Template:Namibia-politician-stub</td>\n",
       "      <td>Namibia</td>\n",
       "      <td>391862409</td>\n",
       "    </tr>\n",
       "  </tbody>\n",
       "</table>\n",
       "</div>"
      ],
      "text/plain": [
       "                                 page   country     rev_id\n",
       "0  Template:ZambiaProvincialMinisters    Zambia  235107991\n",
       "1                      Bir I of Kanem      Chad  355319463\n",
       "2   Template:Zimbabwe-politician-stub  Zimbabwe  391862046\n",
       "3     Template:Uganda-politician-stub    Uganda  391862070\n",
       "4    Template:Namibia-politician-stub   Namibia  391862409"
      ]
     },
     "execution_count": 6,
     "metadata": {},
     "output_type": "execute_result"
    }
   ],
   "source": [
    "page_data.head()"
   ]
  },
  {
   "cell_type": "code",
   "execution_count": 7,
   "metadata": {
    "scrolled": true
   },
   "outputs": [
    {
     "data": {
      "text/html": [
       "<div>\n",
       "<style scoped>\n",
       "    .dataframe tbody tr th:only-of-type {\n",
       "        vertical-align: middle;\n",
       "    }\n",
       "\n",
       "    .dataframe tbody tr th {\n",
       "        vertical-align: top;\n",
       "    }\n",
       "\n",
       "    .dataframe thead th {\n",
       "        text-align: right;\n",
       "    }\n",
       "</style>\n",
       "<table border=\"1\" class=\"dataframe\">\n",
       "  <thead>\n",
       "    <tr style=\"text-align: right;\">\n",
       "      <th></th>\n",
       "      <th>Geography</th>\n",
       "      <th>Population mid-2018 (millions)</th>\n",
       "    </tr>\n",
       "  </thead>\n",
       "  <tbody>\n",
       "    <tr>\n",
       "      <td>0</td>\n",
       "      <td>AFRICA</td>\n",
       "      <td>1,284</td>\n",
       "    </tr>\n",
       "    <tr>\n",
       "      <td>1</td>\n",
       "      <td>Algeria</td>\n",
       "      <td>42.7</td>\n",
       "    </tr>\n",
       "    <tr>\n",
       "      <td>2</td>\n",
       "      <td>Egypt</td>\n",
       "      <td>97</td>\n",
       "    </tr>\n",
       "    <tr>\n",
       "      <td>3</td>\n",
       "      <td>Libya</td>\n",
       "      <td>6.5</td>\n",
       "    </tr>\n",
       "    <tr>\n",
       "      <td>4</td>\n",
       "      <td>Morocco</td>\n",
       "      <td>35.2</td>\n",
       "    </tr>\n",
       "  </tbody>\n",
       "</table>\n",
       "</div>"
      ],
      "text/plain": [
       "  Geography Population mid-2018 (millions)\n",
       "0    AFRICA                          1,284\n",
       "1   Algeria                           42.7\n",
       "2     Egypt                             97\n",
       "3     Libya                            6.5\n",
       "4   Morocco                           35.2"
      ]
     },
     "execution_count": 7,
     "metadata": {},
     "output_type": "execute_result"
    }
   ],
   "source": [
    "pop_data.head()"
   ]
  },
  {
   "cell_type": "markdown",
   "metadata": {},
   "source": [
    "### Clean Data\n",
    "As can be seen above, the page_data table has rows within the 'page' column that start with \"Template.\" These are not wikipedia articles and will need to be removed."
   ]
  },
  {
   "cell_type": "code",
   "execution_count": 8,
   "metadata": {},
   "outputs": [
    {
     "data": {
      "text/html": [
       "<div>\n",
       "<style scoped>\n",
       "    .dataframe tbody tr th:only-of-type {\n",
       "        vertical-align: middle;\n",
       "    }\n",
       "\n",
       "    .dataframe tbody tr th {\n",
       "        vertical-align: top;\n",
       "    }\n",
       "\n",
       "    .dataframe thead th {\n",
       "        text-align: right;\n",
       "    }\n",
       "</style>\n",
       "<table border=\"1\" class=\"dataframe\">\n",
       "  <thead>\n",
       "    <tr style=\"text-align: right;\">\n",
       "      <th></th>\n",
       "      <th>page</th>\n",
       "      <th>country</th>\n",
       "      <th>rev_id</th>\n",
       "    </tr>\n",
       "  </thead>\n",
       "  <tbody>\n",
       "    <tr>\n",
       "      <td>1</td>\n",
       "      <td>Bir I of Kanem</td>\n",
       "      <td>Chad</td>\n",
       "      <td>355319463</td>\n",
       "    </tr>\n",
       "    <tr>\n",
       "      <td>10</td>\n",
       "      <td>Information Minister of the Palestinian Nation...</td>\n",
       "      <td>Palestinian Territory</td>\n",
       "      <td>393276188</td>\n",
       "    </tr>\n",
       "    <tr>\n",
       "      <td>12</td>\n",
       "      <td>Yos Por</td>\n",
       "      <td>Cambodia</td>\n",
       "      <td>393822005</td>\n",
       "    </tr>\n",
       "    <tr>\n",
       "      <td>23</td>\n",
       "      <td>Julius Gregr</td>\n",
       "      <td>Czech Republic</td>\n",
       "      <td>395521877</td>\n",
       "    </tr>\n",
       "    <tr>\n",
       "      <td>24</td>\n",
       "      <td>Edvard Gregr</td>\n",
       "      <td>Czech Republic</td>\n",
       "      <td>395526568</td>\n",
       "    </tr>\n",
       "  </tbody>\n",
       "</table>\n",
       "</div>"
      ],
      "text/plain": [
       "                                                 page                country  \\\n",
       "1                                      Bir I of Kanem                   Chad   \n",
       "10  Information Minister of the Palestinian Nation...  Palestinian Territory   \n",
       "12                                            Yos Por               Cambodia   \n",
       "23                                       Julius Gregr         Czech Republic   \n",
       "24                                       Edvard Gregr         Czech Republic   \n",
       "\n",
       "       rev_id  \n",
       "1   355319463  \n",
       "10  393276188  \n",
       "12  393822005  \n",
       "23  395521877  \n",
       "24  395526568  "
      ]
     },
     "execution_count": 8,
     "metadata": {},
     "output_type": "execute_result"
    }
   ],
   "source": [
    "# Use regex to remove rows that start with \"Template\"\n",
    "page_data = page_data[~page_data.page.str.contains(\"^Template:.*\")]\n",
    "page_data.head()"
   ]
  },
  {
   "cell_type": "markdown",
   "metadata": {},
   "source": [
    "Additionally, the pop_data table has some rows for 'Geography' in all-caps to indicate that they are the population for the entire region.  We'll want to retain these values, but put them in a different table.  After looking through the data, I verified that only the region-level rows were in all caps (no cases of 'USA' or similar) and it's safe to use all-caps as a signal to split the table."
   ]
  },
  {
   "cell_type": "code",
   "execution_count": 9,
   "metadata": {},
   "outputs": [],
   "source": [
    "pop_region_data = pop_data[pop_data.Geography.str.contains(\"^[^a-z]*$\")] # retain only uppercase strings\n",
    "pop_country_data = pop_data[~pop_data.Geography.str.contains(\"^[^a-z]*$\")] # retain only lowercase strings"
   ]
  },
  {
   "cell_type": "code",
   "execution_count": 10,
   "metadata": {},
   "outputs": [
    {
     "data": {
      "text/html": [
       "<div>\n",
       "<style scoped>\n",
       "    .dataframe tbody tr th:only-of-type {\n",
       "        vertical-align: middle;\n",
       "    }\n",
       "\n",
       "    .dataframe tbody tr th {\n",
       "        vertical-align: top;\n",
       "    }\n",
       "\n",
       "    .dataframe thead th {\n",
       "        text-align: right;\n",
       "    }\n",
       "</style>\n",
       "<table border=\"1\" class=\"dataframe\">\n",
       "  <thead>\n",
       "    <tr style=\"text-align: right;\">\n",
       "      <th></th>\n",
       "      <th>Geography</th>\n",
       "      <th>Population mid-2018 (millions)</th>\n",
       "    </tr>\n",
       "  </thead>\n",
       "  <tbody>\n",
       "    <tr>\n",
       "      <td>0</td>\n",
       "      <td>AFRICA</td>\n",
       "      <td>1,284</td>\n",
       "    </tr>\n",
       "    <tr>\n",
       "      <td>56</td>\n",
       "      <td>NORTHERN AMERICA</td>\n",
       "      <td>365</td>\n",
       "    </tr>\n",
       "    <tr>\n",
       "      <td>59</td>\n",
       "      <td>LATIN AMERICA AND THE CARIBBEAN</td>\n",
       "      <td>649</td>\n",
       "    </tr>\n",
       "    <tr>\n",
       "      <td>95</td>\n",
       "      <td>ASIA</td>\n",
       "      <td>4,536</td>\n",
       "    </tr>\n",
       "    <tr>\n",
       "      <td>144</td>\n",
       "      <td>EUROPE</td>\n",
       "      <td>746</td>\n",
       "    </tr>\n",
       "    <tr>\n",
       "      <td>189</td>\n",
       "      <td>OCEANIA</td>\n",
       "      <td>41</td>\n",
       "    </tr>\n",
       "  </tbody>\n",
       "</table>\n",
       "</div>"
      ],
      "text/plain": [
       "                           Geography Population mid-2018 (millions)\n",
       "0                             AFRICA                          1,284\n",
       "56                  NORTHERN AMERICA                            365\n",
       "59   LATIN AMERICA AND THE CARIBBEAN                            649\n",
       "95                              ASIA                          4,536\n",
       "144                           EUROPE                            746\n",
       "189                          OCEANIA                             41"
      ]
     },
     "execution_count": 10,
     "metadata": {},
     "output_type": "execute_result"
    }
   ],
   "source": [
    "pop_region_data"
   ]
  },
  {
   "cell_type": "code",
   "execution_count": 11,
   "metadata": {},
   "outputs": [
    {
     "data": {
      "text/html": [
       "<div>\n",
       "<style scoped>\n",
       "    .dataframe tbody tr th:only-of-type {\n",
       "        vertical-align: middle;\n",
       "    }\n",
       "\n",
       "    .dataframe tbody tr th {\n",
       "        vertical-align: top;\n",
       "    }\n",
       "\n",
       "    .dataframe thead th {\n",
       "        text-align: right;\n",
       "    }\n",
       "</style>\n",
       "<table border=\"1\" class=\"dataframe\">\n",
       "  <thead>\n",
       "    <tr style=\"text-align: right;\">\n",
       "      <th></th>\n",
       "      <th>Geography</th>\n",
       "      <th>Population mid-2018 (millions)</th>\n",
       "    </tr>\n",
       "  </thead>\n",
       "  <tbody>\n",
       "    <tr>\n",
       "      <td>1</td>\n",
       "      <td>Algeria</td>\n",
       "      <td>42.7</td>\n",
       "    </tr>\n",
       "    <tr>\n",
       "      <td>2</td>\n",
       "      <td>Egypt</td>\n",
       "      <td>97</td>\n",
       "    </tr>\n",
       "    <tr>\n",
       "      <td>3</td>\n",
       "      <td>Libya</td>\n",
       "      <td>6.5</td>\n",
       "    </tr>\n",
       "    <tr>\n",
       "      <td>4</td>\n",
       "      <td>Morocco</td>\n",
       "      <td>35.2</td>\n",
       "    </tr>\n",
       "    <tr>\n",
       "      <td>5</td>\n",
       "      <td>Sudan</td>\n",
       "      <td>41.7</td>\n",
       "    </tr>\n",
       "  </tbody>\n",
       "</table>\n",
       "</div>"
      ],
      "text/plain": [
       "  Geography Population mid-2018 (millions)\n",
       "1   Algeria                           42.7\n",
       "2     Egypt                             97\n",
       "3     Libya                            6.5\n",
       "4   Morocco                           35.2\n",
       "5     Sudan                           41.7"
      ]
     },
     "execution_count": 11,
     "metadata": {},
     "output_type": "execute_result"
    }
   ],
   "source": [
    "pop_country_data.head()"
   ]
  },
  {
   "cell_type": "markdown",
   "metadata": {},
   "source": [
    "With this data cleaned, we'll then write page_data to a .csv to be read into the 'hcds-a2-bias_ores-rating.R' script.  This is done because neither of the options provided in Python seem to be working (installing ORES or using the API) despite much testing. "
   ]
  },
  {
   "cell_type": "code",
   "execution_count": 12,
   "metadata": {},
   "outputs": [],
   "source": [
    "page_data.to_csv(\"../data_raw/page_data_nonTemplate.csv\", index = False)"
   ]
  },
  {
   "cell_type": "markdown",
   "metadata": {},
   "source": [
    "#### \\*\\*Generating Article Scores Using ORES Done in R and Written to .csv\\*\\*\n",
    "Pick up ORES prediction results and join on the country of the page_data"
   ]
  },
  {
   "cell_type": "code",
   "execution_count": 38,
   "metadata": {},
   "outputs": [],
   "source": [
    "prediction_data = pd.read_csv(\"../data_raw/page_data_predictions.csv\")"
   ]
  },
  {
   "cell_type": "code",
   "execution_count": 39,
   "metadata": {},
   "outputs": [],
   "source": [
    "page_predictions = pd.merge(page_data,\n",
    "                       prediction_data,\n",
    "                       left_on = \"rev_id\",\n",
    "                       right_on = \"rev_id\",\n",
    "                       how = \"left\")"
   ]
  },
  {
   "cell_type": "code",
   "execution_count": 40,
   "metadata": {
    "scrolled": true
   },
   "outputs": [
    {
     "data": {
      "text/html": [
       "<div>\n",
       "<style scoped>\n",
       "    .dataframe tbody tr th:only-of-type {\n",
       "        vertical-align: middle;\n",
       "    }\n",
       "\n",
       "    .dataframe tbody tr th {\n",
       "        vertical-align: top;\n",
       "    }\n",
       "\n",
       "    .dataframe thead th {\n",
       "        text-align: right;\n",
       "    }\n",
       "</style>\n",
       "<table border=\"1\" class=\"dataframe\">\n",
       "  <thead>\n",
       "    <tr style=\"text-align: right;\">\n",
       "      <th></th>\n",
       "      <th>page</th>\n",
       "      <th>country</th>\n",
       "      <th>rev_id</th>\n",
       "      <th>prediction</th>\n",
       "    </tr>\n",
       "  </thead>\n",
       "  <tbody>\n",
       "    <tr>\n",
       "      <td>0</td>\n",
       "      <td>Bir I of Kanem</td>\n",
       "      <td>Chad</td>\n",
       "      <td>355319463</td>\n",
       "      <td>Stub</td>\n",
       "    </tr>\n",
       "    <tr>\n",
       "      <td>1</td>\n",
       "      <td>Information Minister of the Palestinian Nation...</td>\n",
       "      <td>Palestinian Territory</td>\n",
       "      <td>393276188</td>\n",
       "      <td>Stub</td>\n",
       "    </tr>\n",
       "    <tr>\n",
       "      <td>2</td>\n",
       "      <td>Yos Por</td>\n",
       "      <td>Cambodia</td>\n",
       "      <td>393822005</td>\n",
       "      <td>Stub</td>\n",
       "    </tr>\n",
       "    <tr>\n",
       "      <td>3</td>\n",
       "      <td>Julius Gregr</td>\n",
       "      <td>Czech Republic</td>\n",
       "      <td>395521877</td>\n",
       "      <td>Stub</td>\n",
       "    </tr>\n",
       "    <tr>\n",
       "      <td>4</td>\n",
       "      <td>Edvard Gregr</td>\n",
       "      <td>Czech Republic</td>\n",
       "      <td>395526568</td>\n",
       "      <td>Stub</td>\n",
       "    </tr>\n",
       "  </tbody>\n",
       "</table>\n",
       "</div>"
      ],
      "text/plain": [
       "                                                page                country  \\\n",
       "0                                     Bir I of Kanem                   Chad   \n",
       "1  Information Minister of the Palestinian Nation...  Palestinian Territory   \n",
       "2                                            Yos Por               Cambodia   \n",
       "3                                       Julius Gregr         Czech Republic   \n",
       "4                                       Edvard Gregr         Czech Republic   \n",
       "\n",
       "      rev_id prediction  \n",
       "0  355319463       Stub  \n",
       "1  393276188       Stub  \n",
       "2  393822005       Stub  \n",
       "3  395521877       Stub  \n",
       "4  395526568       Stub  "
      ]
     },
     "execution_count": 40,
     "metadata": {},
     "output_type": "execute_result"
    }
   ],
   "source": [
    "page_predictions.head()"
   ]
  },
  {
   "cell_type": "code",
   "execution_count": 41,
   "metadata": {},
   "outputs": [
    {
     "data": {
      "text/plain": [
       "Stub                                                    24255\n",
       "Start                                                   14650\n",
       "C                                                        5856\n",
       "B                                                         755\n",
       "GA                                                        755\n",
       "FA                                                        275\n",
       "RevisionNotFound                                          146\n",
       "TextDeleted: Text deleted (datasource.revision.text)        9\n",
       "Name: prediction, dtype: int64"
      ]
     },
     "execution_count": 41,
     "metadata": {},
     "output_type": "execute_result"
    }
   ],
   "source": [
    "page_predictions.prediction.value_counts()"
   ]
  },
  {
   "cell_type": "markdown",
   "metadata": {},
   "source": [
    "Looks like there were 146 cases of RevisionNotFound and 9 cases of Text Deleted. These results will be separated into a log of unused articles."
   ]
  },
  {
   "cell_type": "code",
   "execution_count": 42,
   "metadata": {},
   "outputs": [],
   "source": [
    "# set aside RevisionNotFound and TextDeleted predictions\n",
    "page_predictions_unused = page_predictions[page_predictions.prediction.str.contains('RevisionNotFound') |\n",
    "                                          page_predictions.prediction.str.contains('TextDeleted')]\n",
    "page_predictions_unused.to_csv(\"../data_raw/page_predictions_unused.csv\", index = False)\n",
    "\n",
    "# remove from the predictions dataframe\n",
    "page_predictions = page_predictions[~(page_predictions.prediction.str.contains('RevisionNotFound') |\n",
    "                                          page_predictions.prediction.str.contains('TextDeleted'))]"
   ]
  },
  {
   "cell_type": "code",
   "execution_count": 43,
   "metadata": {},
   "outputs": [
    {
     "data": {
      "text/plain": [
       "Stub     24255\n",
       "Start    14650\n",
       "C         5856\n",
       "B          755\n",
       "GA         755\n",
       "FA         275\n",
       "Name: prediction, dtype: int64"
      ]
     },
     "execution_count": 43,
     "metadata": {},
     "output_type": "execute_result"
    }
   ],
   "source": [
    "page_predictions.prediction.value_counts()"
   ]
  },
  {
   "cell_type": "markdown",
   "metadata": {},
   "source": [
    "Add the country population data from the pop_data dataframe"
   ]
  },
  {
   "cell_type": "code",
   "execution_count": 44,
   "metadata": {},
   "outputs": [],
   "source": [
    "page_predictions_pop_data = pd.merge(page_predictions,\n",
    "                       pop_data,\n",
    "                       left_on = \"country\",\n",
    "                       right_on = \"Geography\",\n",
    "                       how = \"left\")"
   ]
  },
  {
   "cell_type": "markdown",
   "metadata": {},
   "source": [
    "Because not all the countries in the page dataset will necessarily map to the countries in the population dataset, let's investigate which countries aren't matching and by how much."
   ]
  },
  {
   "cell_type": "code",
   "execution_count": 48,
   "metadata": {
    "scrolled": true
   },
   "outputs": [
    {
     "data": {
      "text/plain": [
       "Czech Republic                      251\n",
       "Hondura                             187\n",
       "Palestinian Territory               179\n",
       "Congo, Dem. Rep. of                 142\n",
       "Salvadoran                          116\n",
       "South Korean                         96\n",
       "Cape Colony                          81\n",
       "Samoan                               76\n",
       "Rhodesian                            75\n",
       "Faroese                              74\n",
       "Ivorian                              72\n",
       "Cook Island                          67\n",
       "Jersey                               61\n",
       "Guadeloupe                           49\n",
       "Saint Lucian                         47\n",
       "Pitcairn Islands                     43\n",
       "Chechen                              38\n",
       "East Timorese                        36\n",
       "Martinique                           34\n",
       "Swaziland                            31\n",
       "Saint Kitts and Nevis                30\n",
       "French Guiana                        27\n",
       "Montserratian                        27\n",
       "Guernsey                             25\n",
       "Omani                                24\n",
       "Carniolan                            22\n",
       "Niuean                               22\n",
       "Palauan                              21\n",
       "Saint Vincent and the Grenadines     21\n",
       "South Ossetian                       18\n",
       "Tokelauan                            17\n",
       "Abkhazia                             16\n",
       "South African Republic               15\n",
       "Greenlandic                          13\n",
       "Ossetian                              9\n",
       "Dagestani                             7\n",
       "Incan                                 7\n",
       "Somaliland                            4\n",
       "Rojava                                2\n",
       "Name: country, dtype: int64"
      ]
     },
     "execution_count": 48,
     "metadata": {},
     "output_type": "execute_result"
    }
   ],
   "source": [
    "page_predictions_pop_data.country[page_predictions_pop_data['Population mid-2018 (millions)'].isnull()].value_counts()"
   ]
  },
  {
   "cell_type": "code",
   "execution_count": 51,
   "metadata": {},
   "outputs": [
    {
     "data": {
      "text/html": [
       "<div>\n",
       "<style scoped>\n",
       "    .dataframe tbody tr th:only-of-type {\n",
       "        vertical-align: middle;\n",
       "    }\n",
       "\n",
       "    .dataframe tbody tr th {\n",
       "        vertical-align: top;\n",
       "    }\n",
       "\n",
       "    .dataframe thead th {\n",
       "        text-align: right;\n",
       "    }\n",
       "</style>\n",
       "<table border=\"1\" class=\"dataframe\">\n",
       "  <thead>\n",
       "    <tr style=\"text-align: right;\">\n",
       "      <th></th>\n",
       "      <th>Geography</th>\n",
       "      <th>Population mid-2018 (millions)</th>\n",
       "    </tr>\n",
       "  </thead>\n",
       "  <tbody>\n",
       "    <tr>\n",
       "      <td>166</td>\n",
       "      <td>Czechia</td>\n",
       "      <td>10.6</td>\n",
       "    </tr>\n",
       "  </tbody>\n",
       "</table>\n",
       "</div>"
      ],
      "text/plain": [
       "    Geography Population mid-2018 (millions)\n",
       "166   Czechia                           10.6"
      ]
     },
     "execution_count": 51,
     "metadata": {},
     "output_type": "execute_result"
    }
   ],
   "source": [
    "pop_data[pop_data.Geography.str.contains(\"Czech\")]"
   ]
  },
  {
   "cell_type": "code",
   "execution_count": 52,
   "metadata": {},
   "outputs": [
    {
     "data": {
      "text/html": [
       "<div>\n",
       "<style scoped>\n",
       "    .dataframe tbody tr th:only-of-type {\n",
       "        vertical-align: middle;\n",
       "    }\n",
       "\n",
       "    .dataframe tbody tr th {\n",
       "        vertical-align: top;\n",
       "    }\n",
       "\n",
       "    .dataframe thead th {\n",
       "        text-align: right;\n",
       "    }\n",
       "</style>\n",
       "<table border=\"1\" class=\"dataframe\">\n",
       "  <thead>\n",
       "    <tr style=\"text-align: right;\">\n",
       "      <th></th>\n",
       "      <th>Geography</th>\n",
       "      <th>Population mid-2018 (millions)</th>\n",
       "    </tr>\n",
       "  </thead>\n",
       "  <tbody>\n",
       "    <tr>\n",
       "      <td>64</td>\n",
       "      <td>Honduras</td>\n",
       "      <td>9</td>\n",
       "    </tr>\n",
       "  </tbody>\n",
       "</table>\n",
       "</div>"
      ],
      "text/plain": [
       "   Geography Population mid-2018 (millions)\n",
       "64  Honduras                              9"
      ]
     },
     "execution_count": 52,
     "metadata": {},
     "output_type": "execute_result"
    }
   ],
   "source": [
    "pop_data[pop_data.Geography.str.contains(\"Hondura\")]"
   ]
  },
  {
   "cell_type": "markdown",
   "metadata": {},
   "source": [
    "Just based on the top two offenders, it looks like we could manually map many (if not all) of the exceptions that were caused by minor differences in spelling or naming format.  In these cases \"Czechia\" is actually a short-term for \"Czech Republic\" and \"Honduras\" is the correct spelling of \"Hondura\". \n",
    "\n",
    "However, given that the instructions grant that we can simply set these exceptions aside and avoid this tedious process, I'm going to opt for that route. If the result of this investigation were to have a real impact, obviously this mapping would make a lot more sense."
   ]
  },
  {
   "cell_type": "code",
   "execution_count": 57,
   "metadata": {},
   "outputs": [],
   "source": [
    "# set aside cases where there isn't a direct match\n",
    "page_predictions_pop_data_unused = page_predictions_pop_data[page_predictions_pop_data['Population mid-2018 (millions)'].isnull()]\n",
    "page_predictions_pop_data_unused.to_csv(\"../data_raw/wp_wpds_countries-no_match.csv\", index = False)\n",
    "\n",
    "# remove these exceptions from clean data\n",
    "page_predictions_pop_data = page_predictions_pop_data[~page_predictions_pop_data['Population mid-2018 (millions)'].isnull()]"
   ]
  },
  {
   "cell_type": "markdown",
   "metadata": {},
   "source": [
    "Finally, we'll make some changes to the dataframe to match the expected schema and save to the data_clean folder"
   ]
  },
  {
   "cell_type": "code",
   "execution_count": 61,
   "metadata": {},
   "outputs": [],
   "source": [
    "# drop geography and reorder\n",
    "page_predictions_pop_data = page_predictions_pop_data[['country','page','rev_id','prediction','Population mid-2018 (millions)']]"
   ]
  },
  {
   "cell_type": "code",
   "execution_count": 63,
   "metadata": {},
   "outputs": [],
   "source": [
    "# rename\n",
    "page_predictions_pop_data.columns = ['country','article_name','revision_id','article_quality','population']"
   ]
  },
  {
   "cell_type": "code",
   "execution_count": 64,
   "metadata": {},
   "outputs": [
    {
     "data": {
      "text/html": [
       "<div>\n",
       "<style scoped>\n",
       "    .dataframe tbody tr th:only-of-type {\n",
       "        vertical-align: middle;\n",
       "    }\n",
       "\n",
       "    .dataframe tbody tr th {\n",
       "        vertical-align: top;\n",
       "    }\n",
       "\n",
       "    .dataframe thead th {\n",
       "        text-align: right;\n",
       "    }\n",
       "</style>\n",
       "<table border=\"1\" class=\"dataframe\">\n",
       "  <thead>\n",
       "    <tr style=\"text-align: right;\">\n",
       "      <th></th>\n",
       "      <th>country</th>\n",
       "      <th>article_name</th>\n",
       "      <th>revision_id</th>\n",
       "      <th>article_quality</th>\n",
       "      <th>population</th>\n",
       "    </tr>\n",
       "  </thead>\n",
       "  <tbody>\n",
       "    <tr>\n",
       "      <td>0</td>\n",
       "      <td>Chad</td>\n",
       "      <td>Bir I of Kanem</td>\n",
       "      <td>355319463</td>\n",
       "      <td>Stub</td>\n",
       "      <td>15.4</td>\n",
       "    </tr>\n",
       "    <tr>\n",
       "      <td>2</td>\n",
       "      <td>Cambodia</td>\n",
       "      <td>Yos Por</td>\n",
       "      <td>393822005</td>\n",
       "      <td>Stub</td>\n",
       "      <td>16</td>\n",
       "    </tr>\n",
       "    <tr>\n",
       "      <td>5</td>\n",
       "      <td>Canada</td>\n",
       "      <td>Robert Douglas Cook</td>\n",
       "      <td>401577829</td>\n",
       "      <td>Stub</td>\n",
       "      <td>37.2</td>\n",
       "    </tr>\n",
       "    <tr>\n",
       "      <td>6</td>\n",
       "      <td>Egypt</td>\n",
       "      <td>List of Grand Viziers of Egypt</td>\n",
       "      <td>442937236</td>\n",
       "      <td>Stub</td>\n",
       "      <td>97</td>\n",
       "    </tr>\n",
       "    <tr>\n",
       "      <td>7</td>\n",
       "      <td>Pakistan</td>\n",
       "      <td>Sehba Musharraf</td>\n",
       "      <td>448555418</td>\n",
       "      <td>Stub</td>\n",
       "      <td>200.6</td>\n",
       "    </tr>\n",
       "  </tbody>\n",
       "</table>\n",
       "</div>"
      ],
      "text/plain": [
       "    country                    article_name  revision_id article_quality  \\\n",
       "0      Chad                  Bir I of Kanem    355319463            Stub   \n",
       "2  Cambodia                         Yos Por    393822005            Stub   \n",
       "5    Canada             Robert Douglas Cook    401577829            Stub   \n",
       "6     Egypt  List of Grand Viziers of Egypt    442937236            Stub   \n",
       "7  Pakistan                 Sehba Musharraf    448555418            Stub   \n",
       "\n",
       "  population  \n",
       "0       15.4  \n",
       "2         16  \n",
       "5       37.2  \n",
       "6         97  \n",
       "7      200.6  "
      ]
     },
     "execution_count": 64,
     "metadata": {},
     "output_type": "execute_result"
    }
   ],
   "source": [
    "page_predictions_pop_data.head()"
   ]
  },
  {
   "cell_type": "code",
   "execution_count": 65,
   "metadata": {},
   "outputs": [],
   "source": [
    "# write to csv\n",
    "page_predictions_pop_data.to_csv(\"../data_clean/wp_wpds_politicians_by_country.csv\", index = False)"
   ]
  },
  {
   "cell_type": "markdown",
   "metadata": {},
   "source": [
    "### Analysis\n",
    "In this section, we explore the cleaned and joined data with a focus on the source of possible biases.  In particular, we're interested in uncovering the articles-per-population and the percent of articles within a country that are high quality ('FA' or 'GA' for 'Featured Article' and 'Good Article').  This will be summarized into 6 tables: \n",
    "1. **Top 10 countries by coverage**: 10 highest-ranked countries in terms of number of politician articles as a proportion of country population\n",
    "2. **Bottom 10 countries by coverage**: 10 lowest-ranked countries in terms of number of politician articles as a proportion of country population\n",
    "3. **Top 10 countries by relative quality**: 10 highest-ranked countries in terms of the relative proportion of politician articles that are of GA and FA-quality\n",
    "4. **Bottom 10 countries by relative quality**: 10 lowest-ranked countries in terms of the relative proportion of politician articles that are of GA and FA-quality\n",
    "5. **Geographic regions by coverage**: Ranking of geographic regions (in descending order) in terms of the total count of politician articles from countries in each region as a proportion of total regional population\n",
    "6. **Geographic regions by relative quality**: Ranking of geographic regions (in descending order) in terms of the relative proportion of politician articles from countries in each region that are of GA and FA-quality\n",
    "\n",
    "The general methodology will be to build a single country-centric table with columns for article counts, coverage (in articles per million population), high quality article counts, and percent high quality.  This will then be subset into the first 4 tables and written to .csv.  Next, a geographic region table will be put together similary for the final two tables."
   ]
  },
  {
   "cell_type": "code",
   "execution_count": 150,
   "metadata": {},
   "outputs": [],
   "source": [
    "# read data back in (in case starting from here)\n",
    "page_predictions_pop_data = pd.read_csv(\"../data_clean/wp_wpds_politicians_by_country.csv\")"
   ]
  },
  {
   "cell_type": "markdown",
   "metadata": {},
   "source": [
    "For tables 1 and 2, we'll need to create a 'coverage' metric. We can calculate this by grouping on 'country', getting a count of articles per country, dividing by the population, and sorting."
   ]
  },
  {
   "cell_type": "code",
   "execution_count": 151,
   "metadata": {},
   "outputs": [],
   "source": [
    "# calculate coverage\n",
    "article_results = page_predictions_pop_data.groupby('country', as_index = False) \\\n",
    "    .agg({'article_name':'count','population':'first'}) \\\n",
    "    .rename(columns={'article_name':'article_count'})"
   ]
  },
  {
   "cell_type": "code",
   "execution_count": 152,
   "metadata": {
    "scrolled": true
   },
   "outputs": [
    {
     "data": {
      "text/plain": [
       "country          object\n",
       "article_count     int64\n",
       "population       object\n",
       "dtype: object"
      ]
     },
     "execution_count": 152,
     "metadata": {},
     "output_type": "execute_result"
    }
   ],
   "source": [
    "article_results.dtypes"
   ]
  },
  {
   "cell_type": "markdown",
   "metadata": {},
   "source": [
    "Looks like 'population' is a string that needs to be converted to float to do the calculation"
   ]
  },
  {
   "cell_type": "code",
   "execution_count": 153,
   "metadata": {
    "scrolled": true
   },
   "outputs": [
    {
     "data": {
      "text/plain": [
       "34    1,393.8\n",
       "69    1,371.3\n",
       "Name: population, dtype: object"
      ]
     },
     "execution_count": 153,
     "metadata": {},
     "output_type": "execute_result"
    }
   ],
   "source": [
    "article_results.population[article_results.population.str.contains(\",\")]"
   ]
  },
  {
   "cell_type": "markdown",
   "metadata": {},
   "source": [
    "Ah, the presence of a \",\" in two of the values is the reason it can't be converted so we'll remove the commas, then convert to float and sort."
   ]
  },
  {
   "cell_type": "code",
   "execution_count": 154,
   "metadata": {},
   "outputs": [],
   "source": [
    "article_results.population.replace(regex = True, inplace = True, to_replace = r',', value = r'')\n",
    "article_results['article_coverage'] = article_results['article_count']/article_results['population'].astype(float)\n",
    "article_results = article_results.sort_values('article_coverage', ascending = False)"
   ]
  },
  {
   "cell_type": "code",
   "execution_count": 156,
   "metadata": {},
   "outputs": [
    {
     "data": {
      "text/html": [
       "<div>\n",
       "<style scoped>\n",
       "    .dataframe tbody tr th:only-of-type {\n",
       "        vertical-align: middle;\n",
       "    }\n",
       "\n",
       "    .dataframe tbody tr th {\n",
       "        vertical-align: top;\n",
       "    }\n",
       "\n",
       "    .dataframe thead th {\n",
       "        text-align: right;\n",
       "    }\n",
       "</style>\n",
       "<table border=\"1\" class=\"dataframe\">\n",
       "  <thead>\n",
       "    <tr style=\"text-align: right;\">\n",
       "      <th></th>\n",
       "      <th>country</th>\n",
       "      <th>article_count</th>\n",
       "      <th>population</th>\n",
       "      <th>article_coverage</th>\n",
       "    </tr>\n",
       "  </thead>\n",
       "  <tbody>\n",
       "    <tr>\n",
       "      <td>166</td>\n",
       "      <td>Tuvalu</td>\n",
       "      <td>54</td>\n",
       "      <td>0.01</td>\n",
       "      <td>5400.0</td>\n",
       "    </tr>\n",
       "    <tr>\n",
       "      <td>115</td>\n",
       "      <td>Nauru</td>\n",
       "      <td>52</td>\n",
       "      <td>0.01</td>\n",
       "      <td>5200.0</td>\n",
       "    </tr>\n",
       "    <tr>\n",
       "      <td>135</td>\n",
       "      <td>San Marino</td>\n",
       "      <td>81</td>\n",
       "      <td>0.03</td>\n",
       "      <td>2700.0</td>\n",
       "    </tr>\n",
       "    <tr>\n",
       "      <td>108</td>\n",
       "      <td>Monaco</td>\n",
       "      <td>40</td>\n",
       "      <td>0.04</td>\n",
       "      <td>1000.0</td>\n",
       "    </tr>\n",
       "    <tr>\n",
       "      <td>93</td>\n",
       "      <td>Liechtenstein</td>\n",
       "      <td>28</td>\n",
       "      <td>0.04</td>\n",
       "      <td>700.0</td>\n",
       "    </tr>\n",
       "  </tbody>\n",
       "</table>\n",
       "</div>"
      ],
      "text/plain": [
       "           country  article_count population  article_coverage\n",
       "166         Tuvalu             54       0.01            5400.0\n",
       "115          Nauru             52       0.01            5200.0\n",
       "135     San Marino             81       0.03            2700.0\n",
       "108         Monaco             40       0.04            1000.0\n",
       "93   Liechtenstein             28       0.04             700.0"
      ]
     },
     "execution_count": 156,
     "metadata": {},
     "output_type": "execute_result"
    }
   ],
   "source": [
    "article_results.head()"
   ]
  },
  {
   "cell_type": "markdown",
   "metadata": {},
   "source": [
    "For the article quality metrics, we'll need to get a count of 'FA' and 'GA' articles per country and then generate the proportion that have either of those ratings."
   ]
  },
  {
   "cell_type": "code",
   "execution_count": 157,
   "metadata": {},
   "outputs": [],
   "source": [
    "# calculate quality as 'FA' or 'GA' per country and percent of articles within country that are quality articles\n",
    "quality_signals = ['FA','GA']\n",
    "\n",
    "# get count of 'FA' or 'GA' articles per country\n",
    "article_results['high_quality_count'] = \\\n",
    "    page_predictions_pop_data.groupby('country', as_index = False)['article_quality'] \\\n",
    "    .apply(lambda x: x[x.str.contains('|'.join(quality_signals))].count())\n",
    "\n",
    "# calculate pct high quality\n",
    "article_results['high_quality_pct'] = article_results.high_quality_count/article_results.article_count"
   ]
  },
  {
   "cell_type": "code",
   "execution_count": 160,
   "metadata": {},
   "outputs": [
    {
     "data": {
      "text/html": [
       "<div>\n",
       "<style scoped>\n",
       "    .dataframe tbody tr th:only-of-type {\n",
       "        vertical-align: middle;\n",
       "    }\n",
       "\n",
       "    .dataframe tbody tr th {\n",
       "        vertical-align: top;\n",
       "    }\n",
       "\n",
       "    .dataframe thead th {\n",
       "        text-align: right;\n",
       "    }\n",
       "</style>\n",
       "<table border=\"1\" class=\"dataframe\">\n",
       "  <thead>\n",
       "    <tr style=\"text-align: right;\">\n",
       "      <th></th>\n",
       "      <th>country</th>\n",
       "      <th>article_count</th>\n",
       "      <th>population</th>\n",
       "      <th>article_coverage</th>\n",
       "      <th>high_quality_count</th>\n",
       "      <th>high_quality_pct</th>\n",
       "    </tr>\n",
       "  </thead>\n",
       "  <tbody>\n",
       "    <tr>\n",
       "      <td>82</td>\n",
       "      <td>Korea, North</td>\n",
       "      <td>36</td>\n",
       "      <td>25.6</td>\n",
       "      <td>1.406250</td>\n",
       "      <td>7</td>\n",
       "      <td>0.194444</td>\n",
       "    </tr>\n",
       "    <tr>\n",
       "      <td>137</td>\n",
       "      <td>Saudi Arabia</td>\n",
       "      <td>118</td>\n",
       "      <td>33.4</td>\n",
       "      <td>3.532934</td>\n",
       "      <td>15</td>\n",
       "      <td>0.127119</td>\n",
       "    </tr>\n",
       "    <tr>\n",
       "      <td>104</td>\n",
       "      <td>Mauritania</td>\n",
       "      <td>48</td>\n",
       "      <td>4.5</td>\n",
       "      <td>10.666667</td>\n",
       "      <td>6</td>\n",
       "      <td>0.125000</td>\n",
       "    </tr>\n",
       "    <tr>\n",
       "      <td>31</td>\n",
       "      <td>Central African Republic</td>\n",
       "      <td>66</td>\n",
       "      <td>4.7</td>\n",
       "      <td>14.042553</td>\n",
       "      <td>8</td>\n",
       "      <td>0.121212</td>\n",
       "    </tr>\n",
       "    <tr>\n",
       "      <td>132</td>\n",
       "      <td>Romania</td>\n",
       "      <td>343</td>\n",
       "      <td>19.5</td>\n",
       "      <td>17.589744</td>\n",
       "      <td>39</td>\n",
       "      <td>0.113703</td>\n",
       "    </tr>\n",
       "  </tbody>\n",
       "</table>\n",
       "</div>"
      ],
      "text/plain": [
       "                      country  article_count population  article_coverage  \\\n",
       "82               Korea, North             36       25.6          1.406250   \n",
       "137              Saudi Arabia            118       33.4          3.532934   \n",
       "104                Mauritania             48        4.5         10.666667   \n",
       "31   Central African Republic             66        4.7         14.042553   \n",
       "132                   Romania            343       19.5         17.589744   \n",
       "\n",
       "     high_quality_count  high_quality_pct  \n",
       "82                    7          0.194444  \n",
       "137                  15          0.127119  \n",
       "104                   6          0.125000  \n",
       "31                    8          0.121212  \n",
       "132                  39          0.113703  "
      ]
     },
     "execution_count": 160,
     "metadata": {},
     "output_type": "execute_result"
    }
   ],
   "source": [
    "article_results.sort_values('high_quality_pct', ascending = False).head()"
   ]
  },
  {
   "cell_type": "markdown",
   "metadata": {},
   "source": [
    "Now that all the data is in one results table, we can simply divide it into the top/bottom 10 per article coverage and high_quality_pct to generate tables 1-4."
   ]
  },
  {
   "cell_type": "code",
   "execution_count": 172,
   "metadata": {},
   "outputs": [],
   "source": [
    "article_results_top10_coverage = article_results.sort_values('article_coverage', ascending = False).head(10)\n",
    "article_results_bottom10_coverage = article_results.sort_values('article_coverage', ascending = True).head(10)\n",
    "article_results_top10_quality = article_results.sort_values('high_quality_pct', ascending = False).head(10)\n",
    "article_results_bottom10_quality = article_results.sort_values('high_quality_pct', ascending = True).head(10)"
   ]
  },
  {
   "cell_type": "markdown",
   "metadata": {},
   "source": [
    "Results for the first 4 tables:"
   ]
  },
  {
   "cell_type": "code",
   "execution_count": 173,
   "metadata": {
    "scrolled": true
   },
   "outputs": [
    {
     "data": {
      "text/html": [
       "<div>\n",
       "<style scoped>\n",
       "    .dataframe tbody tr th:only-of-type {\n",
       "        vertical-align: middle;\n",
       "    }\n",
       "\n",
       "    .dataframe tbody tr th {\n",
       "        vertical-align: top;\n",
       "    }\n",
       "\n",
       "    .dataframe thead th {\n",
       "        text-align: right;\n",
       "    }\n",
       "</style>\n",
       "<table border=\"1\" class=\"dataframe\">\n",
       "  <thead>\n",
       "    <tr style=\"text-align: right;\">\n",
       "      <th></th>\n",
       "      <th>country</th>\n",
       "      <th>article_count</th>\n",
       "      <th>population</th>\n",
       "      <th>article_coverage</th>\n",
       "      <th>high_quality_count</th>\n",
       "      <th>high_quality_pct</th>\n",
       "    </tr>\n",
       "  </thead>\n",
       "  <tbody>\n",
       "    <tr>\n",
       "      <td>166</td>\n",
       "      <td>Tuvalu</td>\n",
       "      <td>54</td>\n",
       "      <td>0.01</td>\n",
       "      <td>5400.000000</td>\n",
       "      <td>5</td>\n",
       "      <td>0.092593</td>\n",
       "    </tr>\n",
       "    <tr>\n",
       "      <td>115</td>\n",
       "      <td>Nauru</td>\n",
       "      <td>52</td>\n",
       "      <td>0.01</td>\n",
       "      <td>5200.000000</td>\n",
       "      <td>0</td>\n",
       "      <td>0.000000</td>\n",
       "    </tr>\n",
       "    <tr>\n",
       "      <td>135</td>\n",
       "      <td>San Marino</td>\n",
       "      <td>81</td>\n",
       "      <td>0.03</td>\n",
       "      <td>2700.000000</td>\n",
       "      <td>0</td>\n",
       "      <td>0.000000</td>\n",
       "    </tr>\n",
       "    <tr>\n",
       "      <td>108</td>\n",
       "      <td>Monaco</td>\n",
       "      <td>40</td>\n",
       "      <td>0.04</td>\n",
       "      <td>1000.000000</td>\n",
       "      <td>0</td>\n",
       "      <td>0.000000</td>\n",
       "    </tr>\n",
       "    <tr>\n",
       "      <td>93</td>\n",
       "      <td>Liechtenstein</td>\n",
       "      <td>28</td>\n",
       "      <td>0.04</td>\n",
       "      <td>700.000000</td>\n",
       "      <td>0</td>\n",
       "      <td>0.000000</td>\n",
       "    </tr>\n",
       "    <tr>\n",
       "      <td>161</td>\n",
       "      <td>Tonga</td>\n",
       "      <td>63</td>\n",
       "      <td>0.1</td>\n",
       "      <td>630.000000</td>\n",
       "      <td>0</td>\n",
       "      <td>0.000000</td>\n",
       "    </tr>\n",
       "    <tr>\n",
       "      <td>103</td>\n",
       "      <td>Marshall Islands</td>\n",
       "      <td>37</td>\n",
       "      <td>0.06</td>\n",
       "      <td>616.666667</td>\n",
       "      <td>0</td>\n",
       "      <td>0.000000</td>\n",
       "    </tr>\n",
       "    <tr>\n",
       "      <td>68</td>\n",
       "      <td>Iceland</td>\n",
       "      <td>201</td>\n",
       "      <td>0.4</td>\n",
       "      <td>502.500000</td>\n",
       "      <td>2</td>\n",
       "      <td>0.009950</td>\n",
       "    </tr>\n",
       "    <tr>\n",
       "      <td>3</td>\n",
       "      <td>Andorra</td>\n",
       "      <td>34</td>\n",
       "      <td>0.08</td>\n",
       "      <td>425.000000</td>\n",
       "      <td>0</td>\n",
       "      <td>0.000000</td>\n",
       "    </tr>\n",
       "    <tr>\n",
       "      <td>61</td>\n",
       "      <td>Grenada</td>\n",
       "      <td>36</td>\n",
       "      <td>0.1</td>\n",
       "      <td>360.000000</td>\n",
       "      <td>1</td>\n",
       "      <td>0.027778</td>\n",
       "    </tr>\n",
       "  </tbody>\n",
       "</table>\n",
       "</div>"
      ],
      "text/plain": [
       "              country  article_count population  article_coverage  \\\n",
       "166            Tuvalu             54       0.01       5400.000000   \n",
       "115             Nauru             52       0.01       5200.000000   \n",
       "135        San Marino             81       0.03       2700.000000   \n",
       "108            Monaco             40       0.04       1000.000000   \n",
       "93      Liechtenstein             28       0.04        700.000000   \n",
       "161             Tonga             63        0.1        630.000000   \n",
       "103  Marshall Islands             37       0.06        616.666667   \n",
       "68            Iceland            201        0.4        502.500000   \n",
       "3             Andorra             34       0.08        425.000000   \n",
       "61            Grenada             36        0.1        360.000000   \n",
       "\n",
       "     high_quality_count  high_quality_pct  \n",
       "166                   5          0.092593  \n",
       "115                   0          0.000000  \n",
       "135                   0          0.000000  \n",
       "108                   0          0.000000  \n",
       "93                    0          0.000000  \n",
       "161                   0          0.000000  \n",
       "103                   0          0.000000  \n",
       "68                    2          0.009950  \n",
       "3                     0          0.000000  \n",
       "61                    1          0.027778  "
      ]
     },
     "execution_count": 173,
     "metadata": {},
     "output_type": "execute_result"
    }
   ],
   "source": [
    "article_results_top10_coverage"
   ]
  },
  {
   "cell_type": "code",
   "execution_count": 174,
   "metadata": {},
   "outputs": [
    {
     "data": {
      "text/html": [
       "<div>\n",
       "<style scoped>\n",
       "    .dataframe tbody tr th:only-of-type {\n",
       "        vertical-align: middle;\n",
       "    }\n",
       "\n",
       "    .dataframe tbody tr th {\n",
       "        vertical-align: top;\n",
       "    }\n",
       "\n",
       "    .dataframe thead th {\n",
       "        text-align: right;\n",
       "    }\n",
       "</style>\n",
       "<table border=\"1\" class=\"dataframe\">\n",
       "  <thead>\n",
       "    <tr style=\"text-align: right;\">\n",
       "      <th></th>\n",
       "      <th>country</th>\n",
       "      <th>article_count</th>\n",
       "      <th>population</th>\n",
       "      <th>article_coverage</th>\n",
       "      <th>high_quality_count</th>\n",
       "      <th>high_quality_pct</th>\n",
       "    </tr>\n",
       "  </thead>\n",
       "  <tbody>\n",
       "    <tr>\n",
       "      <td>69</td>\n",
       "      <td>India</td>\n",
       "      <td>980</td>\n",
       "      <td>1371.3</td>\n",
       "      <td>0.714650</td>\n",
       "      <td>17</td>\n",
       "      <td>0.017347</td>\n",
       "    </tr>\n",
       "    <tr>\n",
       "      <td>70</td>\n",
       "      <td>Indonesia</td>\n",
       "      <td>210</td>\n",
       "      <td>265.2</td>\n",
       "      <td>0.791855</td>\n",
       "      <td>10</td>\n",
       "      <td>0.047619</td>\n",
       "    </tr>\n",
       "    <tr>\n",
       "      <td>34</td>\n",
       "      <td>China</td>\n",
       "      <td>1130</td>\n",
       "      <td>1393.8</td>\n",
       "      <td>0.810733</td>\n",
       "      <td>41</td>\n",
       "      <td>0.036283</td>\n",
       "    </tr>\n",
       "    <tr>\n",
       "      <td>173</td>\n",
       "      <td>Uzbekistan</td>\n",
       "      <td>28</td>\n",
       "      <td>32.9</td>\n",
       "      <td>0.851064</td>\n",
       "      <td>2</td>\n",
       "      <td>0.071429</td>\n",
       "    </tr>\n",
       "    <tr>\n",
       "      <td>51</td>\n",
       "      <td>Ethiopia</td>\n",
       "      <td>101</td>\n",
       "      <td>107.5</td>\n",
       "      <td>0.939535</td>\n",
       "      <td>2</td>\n",
       "      <td>0.019802</td>\n",
       "    </tr>\n",
       "    <tr>\n",
       "      <td>82</td>\n",
       "      <td>Korea, North</td>\n",
       "      <td>36</td>\n",
       "      <td>25.6</td>\n",
       "      <td>1.406250</td>\n",
       "      <td>7</td>\n",
       "      <td>0.194444</td>\n",
       "    </tr>\n",
       "    <tr>\n",
       "      <td>178</td>\n",
       "      <td>Zambia</td>\n",
       "      <td>25</td>\n",
       "      <td>17.7</td>\n",
       "      <td>1.412429</td>\n",
       "      <td>0</td>\n",
       "      <td>0.000000</td>\n",
       "    </tr>\n",
       "    <tr>\n",
       "      <td>159</td>\n",
       "      <td>Thailand</td>\n",
       "      <td>112</td>\n",
       "      <td>66.2</td>\n",
       "      <td>1.691843</td>\n",
       "      <td>3</td>\n",
       "      <td>0.026786</td>\n",
       "    </tr>\n",
       "    <tr>\n",
       "      <td>112</td>\n",
       "      <td>Mozambique</td>\n",
       "      <td>58</td>\n",
       "      <td>30.5</td>\n",
       "      <td>1.901639</td>\n",
       "      <td>0</td>\n",
       "      <td>0.000000</td>\n",
       "    </tr>\n",
       "    <tr>\n",
       "      <td>13</td>\n",
       "      <td>Bangladesh</td>\n",
       "      <td>319</td>\n",
       "      <td>166.4</td>\n",
       "      <td>1.917067</td>\n",
       "      <td>3</td>\n",
       "      <td>0.009404</td>\n",
       "    </tr>\n",
       "  </tbody>\n",
       "</table>\n",
       "</div>"
      ],
      "text/plain": [
       "          country  article_count population  article_coverage  \\\n",
       "69          India            980     1371.3          0.714650   \n",
       "70      Indonesia            210      265.2          0.791855   \n",
       "34          China           1130     1393.8          0.810733   \n",
       "173    Uzbekistan             28       32.9          0.851064   \n",
       "51       Ethiopia            101      107.5          0.939535   \n",
       "82   Korea, North             36       25.6          1.406250   \n",
       "178        Zambia             25       17.7          1.412429   \n",
       "159      Thailand            112       66.2          1.691843   \n",
       "112    Mozambique             58       30.5          1.901639   \n",
       "13     Bangladesh            319      166.4          1.917067   \n",
       "\n",
       "     high_quality_count  high_quality_pct  \n",
       "69                   17          0.017347  \n",
       "70                   10          0.047619  \n",
       "34                   41          0.036283  \n",
       "173                   2          0.071429  \n",
       "51                    2          0.019802  \n",
       "82                    7          0.194444  \n",
       "178                   0          0.000000  \n",
       "159                   3          0.026786  \n",
       "112                   0          0.000000  \n",
       "13                    3          0.009404  "
      ]
     },
     "execution_count": 174,
     "metadata": {},
     "output_type": "execute_result"
    }
   ],
   "source": [
    "article_results_bottom10_coverage"
   ]
  },
  {
   "cell_type": "code",
   "execution_count": 175,
   "metadata": {},
   "outputs": [
    {
     "data": {
      "text/html": [
       "<div>\n",
       "<style scoped>\n",
       "    .dataframe tbody tr th:only-of-type {\n",
       "        vertical-align: middle;\n",
       "    }\n",
       "\n",
       "    .dataframe tbody tr th {\n",
       "        vertical-align: top;\n",
       "    }\n",
       "\n",
       "    .dataframe thead th {\n",
       "        text-align: right;\n",
       "    }\n",
       "</style>\n",
       "<table border=\"1\" class=\"dataframe\">\n",
       "  <thead>\n",
       "    <tr style=\"text-align: right;\">\n",
       "      <th></th>\n",
       "      <th>country</th>\n",
       "      <th>article_count</th>\n",
       "      <th>population</th>\n",
       "      <th>article_coverage</th>\n",
       "      <th>high_quality_count</th>\n",
       "      <th>high_quality_pct</th>\n",
       "    </tr>\n",
       "  </thead>\n",
       "  <tbody>\n",
       "    <tr>\n",
       "      <td>82</td>\n",
       "      <td>Korea, North</td>\n",
       "      <td>36</td>\n",
       "      <td>25.6</td>\n",
       "      <td>1.406250</td>\n",
       "      <td>7</td>\n",
       "      <td>0.194444</td>\n",
       "    </tr>\n",
       "    <tr>\n",
       "      <td>137</td>\n",
       "      <td>Saudi Arabia</td>\n",
       "      <td>118</td>\n",
       "      <td>33.4</td>\n",
       "      <td>3.532934</td>\n",
       "      <td>15</td>\n",
       "      <td>0.127119</td>\n",
       "    </tr>\n",
       "    <tr>\n",
       "      <td>104</td>\n",
       "      <td>Mauritania</td>\n",
       "      <td>48</td>\n",
       "      <td>4.5</td>\n",
       "      <td>10.666667</td>\n",
       "      <td>6</td>\n",
       "      <td>0.125000</td>\n",
       "    </tr>\n",
       "    <tr>\n",
       "      <td>31</td>\n",
       "      <td>Central African Republic</td>\n",
       "      <td>66</td>\n",
       "      <td>4.7</td>\n",
       "      <td>14.042553</td>\n",
       "      <td>8</td>\n",
       "      <td>0.121212</td>\n",
       "    </tr>\n",
       "    <tr>\n",
       "      <td>132</td>\n",
       "      <td>Romania</td>\n",
       "      <td>343</td>\n",
       "      <td>19.5</td>\n",
       "      <td>17.589744</td>\n",
       "      <td>39</td>\n",
       "      <td>0.113703</td>\n",
       "    </tr>\n",
       "    <tr>\n",
       "      <td>166</td>\n",
       "      <td>Tuvalu</td>\n",
       "      <td>54</td>\n",
       "      <td>0.01</td>\n",
       "      <td>5400.000000</td>\n",
       "      <td>5</td>\n",
       "      <td>0.092593</td>\n",
       "    </tr>\n",
       "    <tr>\n",
       "      <td>19</td>\n",
       "      <td>Bhutan</td>\n",
       "      <td>33</td>\n",
       "      <td>0.8</td>\n",
       "      <td>41.250000</td>\n",
       "      <td>3</td>\n",
       "      <td>0.090909</td>\n",
       "    </tr>\n",
       "    <tr>\n",
       "      <td>44</td>\n",
       "      <td>Dominica</td>\n",
       "      <td>12</td>\n",
       "      <td>0.07</td>\n",
       "      <td>171.428571</td>\n",
       "      <td>1</td>\n",
       "      <td>0.083333</td>\n",
       "    </tr>\n",
       "    <tr>\n",
       "      <td>155</td>\n",
       "      <td>Syria</td>\n",
       "      <td>128</td>\n",
       "      <td>18.3</td>\n",
       "      <td>6.994536</td>\n",
       "      <td>10</td>\n",
       "      <td>0.078125</td>\n",
       "    </tr>\n",
       "    <tr>\n",
       "      <td>18</td>\n",
       "      <td>Benin</td>\n",
       "      <td>91</td>\n",
       "      <td>11.5</td>\n",
       "      <td>7.913043</td>\n",
       "      <td>7</td>\n",
       "      <td>0.076923</td>\n",
       "    </tr>\n",
       "  </tbody>\n",
       "</table>\n",
       "</div>"
      ],
      "text/plain": [
       "                      country  article_count population  article_coverage  \\\n",
       "82               Korea, North             36       25.6          1.406250   \n",
       "137              Saudi Arabia            118       33.4          3.532934   \n",
       "104                Mauritania             48        4.5         10.666667   \n",
       "31   Central African Republic             66        4.7         14.042553   \n",
       "132                   Romania            343       19.5         17.589744   \n",
       "166                    Tuvalu             54       0.01       5400.000000   \n",
       "19                     Bhutan             33        0.8         41.250000   \n",
       "44                   Dominica             12       0.07        171.428571   \n",
       "155                     Syria            128       18.3          6.994536   \n",
       "18                      Benin             91       11.5          7.913043   \n",
       "\n",
       "     high_quality_count  high_quality_pct  \n",
       "82                    7          0.194444  \n",
       "137                  15          0.127119  \n",
       "104                   6          0.125000  \n",
       "31                    8          0.121212  \n",
       "132                  39          0.113703  \n",
       "166                   5          0.092593  \n",
       "19                    3          0.090909  \n",
       "44                    1          0.083333  \n",
       "155                  10          0.078125  \n",
       "18                    7          0.076923  "
      ]
     },
     "execution_count": 175,
     "metadata": {},
     "output_type": "execute_result"
    }
   ],
   "source": [
    "article_results_top10_quality"
   ]
  },
  {
   "cell_type": "code",
   "execution_count": 176,
   "metadata": {
    "scrolled": true
   },
   "outputs": [
    {
     "data": {
      "text/html": [
       "<div>\n",
       "<style scoped>\n",
       "    .dataframe tbody tr th:only-of-type {\n",
       "        vertical-align: middle;\n",
       "    }\n",
       "\n",
       "    .dataframe tbody tr th {\n",
       "        vertical-align: top;\n",
       "    }\n",
       "\n",
       "    .dataframe thead th {\n",
       "        text-align: right;\n",
       "    }\n",
       "</style>\n",
       "<table border=\"1\" class=\"dataframe\">\n",
       "  <thead>\n",
       "    <tr style=\"text-align: right;\">\n",
       "      <th></th>\n",
       "      <th>country</th>\n",
       "      <th>article_count</th>\n",
       "      <th>population</th>\n",
       "      <th>article_coverage</th>\n",
       "      <th>high_quality_count</th>\n",
       "      <th>high_quality_pct</th>\n",
       "    </tr>\n",
       "  </thead>\n",
       "  <tbody>\n",
       "    <tr>\n",
       "      <td>4</td>\n",
       "      <td>Angola</td>\n",
       "      <td>106</td>\n",
       "      <td>30.4</td>\n",
       "      <td>3.486842</td>\n",
       "      <td>0</td>\n",
       "      <td>0.0</td>\n",
       "    </tr>\n",
       "    <tr>\n",
       "      <td>136</td>\n",
       "      <td>Sao Tome and Principe</td>\n",
       "      <td>21</td>\n",
       "      <td>0.2</td>\n",
       "      <td>105.000000</td>\n",
       "      <td>0</td>\n",
       "      <td>0.0</td>\n",
       "    </tr>\n",
       "    <tr>\n",
       "      <td>54</td>\n",
       "      <td>Finland</td>\n",
       "      <td>569</td>\n",
       "      <td>5.5</td>\n",
       "      <td>103.454545</td>\n",
       "      <td>0</td>\n",
       "      <td>0.0</td>\n",
       "    </tr>\n",
       "    <tr>\n",
       "      <td>178</td>\n",
       "      <td>Zambia</td>\n",
       "      <td>25</td>\n",
       "      <td>17.7</td>\n",
       "      <td>1.412429</td>\n",
       "      <td>0</td>\n",
       "      <td>0.0</td>\n",
       "    </tr>\n",
       "    <tr>\n",
       "      <td>90</td>\n",
       "      <td>Lesotho</td>\n",
       "      <td>29</td>\n",
       "      <td>2.3</td>\n",
       "      <td>12.608696</td>\n",
       "      <td>0</td>\n",
       "      <td>0.0</td>\n",
       "    </tr>\n",
       "    <tr>\n",
       "      <td>114</td>\n",
       "      <td>Namibia</td>\n",
       "      <td>162</td>\n",
       "      <td>2.5</td>\n",
       "      <td>64.800000</td>\n",
       "      <td>0</td>\n",
       "      <td>0.0</td>\n",
       "    </tr>\n",
       "    <tr>\n",
       "      <td>165</td>\n",
       "      <td>Turkmenistan</td>\n",
       "      <td>32</td>\n",
       "      <td>5.9</td>\n",
       "      <td>5.423729</td>\n",
       "      <td>0</td>\n",
       "      <td>0.0</td>\n",
       "    </tr>\n",
       "    <tr>\n",
       "      <td>36</td>\n",
       "      <td>Comoros</td>\n",
       "      <td>51</td>\n",
       "      <td>0.8</td>\n",
       "      <td>63.750000</td>\n",
       "      <td>0</td>\n",
       "      <td>0.0</td>\n",
       "    </tr>\n",
       "    <tr>\n",
       "      <td>30</td>\n",
       "      <td>Cape Verde</td>\n",
       "      <td>37</td>\n",
       "      <td>0.6</td>\n",
       "      <td>61.666667</td>\n",
       "      <td>0</td>\n",
       "      <td>0.0</td>\n",
       "    </tr>\n",
       "    <tr>\n",
       "      <td>11</td>\n",
       "      <td>Bahamas</td>\n",
       "      <td>20</td>\n",
       "      <td>0.4</td>\n",
       "      <td>50.000000</td>\n",
       "      <td>0</td>\n",
       "      <td>0.0</td>\n",
       "    </tr>\n",
       "  </tbody>\n",
       "</table>\n",
       "</div>"
      ],
      "text/plain": [
       "                   country  article_count population  article_coverage  \\\n",
       "4                   Angola            106       30.4          3.486842   \n",
       "136  Sao Tome and Principe             21        0.2        105.000000   \n",
       "54                 Finland            569        5.5        103.454545   \n",
       "178                 Zambia             25       17.7          1.412429   \n",
       "90                 Lesotho             29        2.3         12.608696   \n",
       "114                Namibia            162        2.5         64.800000   \n",
       "165           Turkmenistan             32        5.9          5.423729   \n",
       "36                 Comoros             51        0.8         63.750000   \n",
       "30              Cape Verde             37        0.6         61.666667   \n",
       "11                 Bahamas             20        0.4         50.000000   \n",
       "\n",
       "     high_quality_count  high_quality_pct  \n",
       "4                     0               0.0  \n",
       "136                   0               0.0  \n",
       "54                    0               0.0  \n",
       "178                   0               0.0  \n",
       "90                    0               0.0  \n",
       "114                   0               0.0  \n",
       "165                   0               0.0  \n",
       "36                    0               0.0  \n",
       "30                    0               0.0  \n",
       "11                    0               0.0  "
      ]
     },
     "execution_count": 176,
     "metadata": {},
     "output_type": "execute_result"
    }
   ],
   "source": [
    "article_results_bottom10_quality"
   ]
  },
  {
   "cell_type": "markdown",
   "metadata": {},
   "source": [
    "For geograhic regions, we have population data by region, but not page counts or quality.  I attempted to use another mapping [at this link, which has a CC-BY-SA license](https://github.com/lukes/ISO-3166-Countries-with-Regional-Codes/blob/master/all/all.csv), but there were about 30 countries that didn't map.  Thankfully, I realized that the pop_data table is ordered such that all the countries in a region appear just below that all-caps region.  Thus, we'll need to create a mapping from that data, join it on the article_results table, summarize by region, append the pop_region_data, and perform the final calculations and formatting.\n",
    "\n",
    "After deliberation, I decided to build the mapping manually in Excel since automation would require a ton of code to handle all the very-specific places data would need to flow in a seemingly-patternless way (or at least difficult because the lines-between-uppcase-cells are dynamic and too tedious to code up).  \n",
    "\n",
    "(After explaining how annoying the process of mapping would be to a colleague, I realized I could write a function that would find the matching country in the pop_data table, then simply go up to the nearest uppercase row and that'd reliably provide the region.  That said, I'll go back and do this if time is permitting, but doing it manually was like 3m)"
   ]
  },
  {
   "cell_type": "code",
   "execution_count": 187,
   "metadata": {},
   "outputs": [],
   "source": [
    "country_region_mapping = pd.read_csv(\"../data_raw/country_region_mapping.csv\")"
   ]
  },
  {
   "cell_type": "code",
   "execution_count": 191,
   "metadata": {},
   "outputs": [
    {
     "data": {
      "text/html": [
       "<div>\n",
       "<style scoped>\n",
       "    .dataframe tbody tr th:only-of-type {\n",
       "        vertical-align: middle;\n",
       "    }\n",
       "\n",
       "    .dataframe tbody tr th {\n",
       "        vertical-align: top;\n",
       "    }\n",
       "\n",
       "    .dataframe thead th {\n",
       "        text-align: right;\n",
       "    }\n",
       "</style>\n",
       "<table border=\"1\" class=\"dataframe\">\n",
       "  <thead>\n",
       "    <tr style=\"text-align: right;\">\n",
       "      <th></th>\n",
       "      <th>country</th>\n",
       "      <th>region</th>\n",
       "    </tr>\n",
       "  </thead>\n",
       "  <tbody>\n",
       "    <tr>\n",
       "      <td>0</td>\n",
       "      <td>Algeria</td>\n",
       "      <td>AFRICA</td>\n",
       "    </tr>\n",
       "    <tr>\n",
       "      <td>1</td>\n",
       "      <td>Egypt</td>\n",
       "      <td>AFRICA</td>\n",
       "    </tr>\n",
       "    <tr>\n",
       "      <td>2</td>\n",
       "      <td>Libya</td>\n",
       "      <td>AFRICA</td>\n",
       "    </tr>\n",
       "    <tr>\n",
       "      <td>3</td>\n",
       "      <td>Morocco</td>\n",
       "      <td>AFRICA</td>\n",
       "    </tr>\n",
       "    <tr>\n",
       "      <td>4</td>\n",
       "      <td>Sudan</td>\n",
       "      <td>AFRICA</td>\n",
       "    </tr>\n",
       "  </tbody>\n",
       "</table>\n",
       "</div>"
      ],
      "text/plain": [
       "   country  region\n",
       "0  Algeria  AFRICA\n",
       "1    Egypt  AFRICA\n",
       "2    Libya  AFRICA\n",
       "3  Morocco  AFRICA\n",
       "4    Sudan  AFRICA"
      ]
     },
     "execution_count": 191,
     "metadata": {},
     "output_type": "execute_result"
    }
   ],
   "source": [
    "country_region_mapping.head()"
   ]
  },
  {
   "cell_type": "code",
   "execution_count": 194,
   "metadata": {},
   "outputs": [],
   "source": [
    "# append region to article_results\n",
    "article_results_regionDetails = pd.merge(article_results,\n",
    "                                         country_region_mapping,\n",
    "                                         left_on = \"country\",\n",
    "                                         right_on = \"country\",\n",
    "                                         how = \"left\")"
   ]
  },
  {
   "cell_type": "code",
   "execution_count": 205,
   "metadata": {},
   "outputs": [],
   "source": [
    "# summarize article count and high_quality_count by region\n",
    "article_results_regionSummary = article_results_regionDetails.groupby('region', as_index = False) \\\n",
    "    .agg({'article_count':'sum','high_quality_count':'sum'})\n",
    "\n",
    "# join in population data\n",
    "article_results_regionSummary = pd.merge(article_results_regionSummary,\n",
    "                                        pop_region_data,\n",
    "                                        left_on = \"region\",\n",
    "                                        right_on = \"Geography\",\n",
    "                                        how = \"left\")\n",
    "\n",
    "# drop 'Geography' and rename population\n",
    "article_results_regionSummary = article_results_regionSummary[['region','article_count','Population mid-2018 (millions)', 'high_quality_count']]\n",
    "article_results_regionSummary.columns = ['region','article_count','population','high_quality_count']\n",
    "\n",
    "# like with the country-centric data, remove \",\"s in the population data and convert to float\n",
    "article_results_regionSummary.population.replace(regex = True, inplace = True, to_replace = r',', value = r'')\n",
    "\n",
    "# calculate article_coverage and high_quality_pct\n",
    "article_results_regionSummary['article_coverage'] = article_results_regionSummary.article_count/article_results_regionSummary.population.astype(float)\n",
    "article_results_regionSummary['high_quality_pct'] = article_results_regionSummary.high_quality_count/article_results_regionSummary.article_count"
   ]
  },
  {
   "cell_type": "code",
   "execution_count": 206,
   "metadata": {},
   "outputs": [
    {
     "data": {
      "text/html": [
       "<div>\n",
       "<style scoped>\n",
       "    .dataframe tbody tr th:only-of-type {\n",
       "        vertical-align: middle;\n",
       "    }\n",
       "\n",
       "    .dataframe tbody tr th {\n",
       "        vertical-align: top;\n",
       "    }\n",
       "\n",
       "    .dataframe thead th {\n",
       "        text-align: right;\n",
       "    }\n",
       "</style>\n",
       "<table border=\"1\" class=\"dataframe\">\n",
       "  <thead>\n",
       "    <tr style=\"text-align: right;\">\n",
       "      <th></th>\n",
       "      <th>region</th>\n",
       "      <th>article_count</th>\n",
       "      <th>population</th>\n",
       "      <th>high_quality_count</th>\n",
       "      <th>article_coverage</th>\n",
       "      <th>high_quality_pct</th>\n",
       "    </tr>\n",
       "  </thead>\n",
       "  <tbody>\n",
       "    <tr>\n",
       "      <td>0</td>\n",
       "      <td>AFRICA</td>\n",
       "      <td>6851</td>\n",
       "      <td>1284</td>\n",
       "      <td>125</td>\n",
       "      <td>5.335670</td>\n",
       "      <td>0.018246</td>\n",
       "    </tr>\n",
       "    <tr>\n",
       "      <td>1</td>\n",
       "      <td>ASIA</td>\n",
       "      <td>11531</td>\n",
       "      <td>4536</td>\n",
       "      <td>310</td>\n",
       "      <td>2.542108</td>\n",
       "      <td>0.026884</td>\n",
       "    </tr>\n",
       "    <tr>\n",
       "      <td>2</td>\n",
       "      <td>EUROPE</td>\n",
       "      <td>15864</td>\n",
       "      <td>746</td>\n",
       "      <td>322</td>\n",
       "      <td>21.265416</td>\n",
       "      <td>0.020298</td>\n",
       "    </tr>\n",
       "    <tr>\n",
       "      <td>3</td>\n",
       "      <td>LATIN AMERICA AND THE CARIBBEAN</td>\n",
       "      <td>5169</td>\n",
       "      <td>649</td>\n",
       "      <td>69</td>\n",
       "      <td>7.964561</td>\n",
       "      <td>0.013349</td>\n",
       "    </tr>\n",
       "    <tr>\n",
       "      <td>4</td>\n",
       "      <td>NORTHERN AMERICA</td>\n",
       "      <td>1921</td>\n",
       "      <td>365</td>\n",
       "      <td>99</td>\n",
       "      <td>5.263014</td>\n",
       "      <td>0.051536</td>\n",
       "    </tr>\n",
       "    <tr>\n",
       "      <td>5</td>\n",
       "      <td>OCEANIA</td>\n",
       "      <td>3128</td>\n",
       "      <td>41</td>\n",
       "      <td>66</td>\n",
       "      <td>76.292683</td>\n",
       "      <td>0.021100</td>\n",
       "    </tr>\n",
       "  </tbody>\n",
       "</table>\n",
       "</div>"
      ],
      "text/plain": [
       "                            region  article_count population  \\\n",
       "0                           AFRICA           6851       1284   \n",
       "1                             ASIA          11531       4536   \n",
       "2                           EUROPE          15864        746   \n",
       "3  LATIN AMERICA AND THE CARIBBEAN           5169        649   \n",
       "4                 NORTHERN AMERICA           1921        365   \n",
       "5                          OCEANIA           3128         41   \n",
       "\n",
       "   high_quality_count  article_coverage  high_quality_pct  \n",
       "0                 125          5.335670          0.018246  \n",
       "1                 310          2.542108          0.026884  \n",
       "2                 322         21.265416          0.020298  \n",
       "3                  69          7.964561          0.013349  \n",
       "4                  99          5.263014          0.051536  \n",
       "5                  66         76.292683          0.021100  "
      ]
     },
     "execution_count": 206,
     "metadata": {},
     "output_type": "execute_result"
    }
   ],
   "source": [
    "article_results_regionSummary"
   ]
  },
  {
   "cell_type": "markdown",
   "metadata": {},
   "source": [
    "To finish up, we'll just need to create two tables descending on coverage and high_quality_pct (like we did with countries)"
   ]
  },
  {
   "cell_type": "code",
   "execution_count": 209,
   "metadata": {},
   "outputs": [],
   "source": [
    "article_results_regionSummary_sortDesc_coverage = article_results_regionSummary.sort_values('article_coverage', ascending = False)\n",
    "article_results_regionSummary_sortDesc_quality = article_results_regionSummary.sort_values('high_quality_pct', ascending = False)"
   ]
  },
  {
   "cell_type": "markdown",
   "metadata": {},
   "source": [
    "Now, all that's left is to write the 6 tables we've generated to .csv"
   ]
  },
  {
   "cell_type": "code",
   "execution_count": 208,
   "metadata": {
    "scrolled": true
   },
   "outputs": [
    {
     "data": {
      "text/html": [
       "<div>\n",
       "<style scoped>\n",
       "    .dataframe tbody tr th:only-of-type {\n",
       "        vertical-align: middle;\n",
       "    }\n",
       "\n",
       "    .dataframe tbody tr th {\n",
       "        vertical-align: top;\n",
       "    }\n",
       "\n",
       "    .dataframe thead th {\n",
       "        text-align: right;\n",
       "    }\n",
       "</style>\n",
       "<table border=\"1\" class=\"dataframe\">\n",
       "  <thead>\n",
       "    <tr style=\"text-align: right;\">\n",
       "      <th></th>\n",
       "      <th>region</th>\n",
       "      <th>article_count</th>\n",
       "      <th>population</th>\n",
       "      <th>high_quality_count</th>\n",
       "      <th>article_coverage</th>\n",
       "      <th>high_quality_pct</th>\n",
       "    </tr>\n",
       "  </thead>\n",
       "  <tbody>\n",
       "    <tr>\n",
       "      <td>5</td>\n",
       "      <td>OCEANIA</td>\n",
       "      <td>3128</td>\n",
       "      <td>41</td>\n",
       "      <td>66</td>\n",
       "      <td>76.292683</td>\n",
       "      <td>0.021100</td>\n",
       "    </tr>\n",
       "    <tr>\n",
       "      <td>2</td>\n",
       "      <td>EUROPE</td>\n",
       "      <td>15864</td>\n",
       "      <td>746</td>\n",
       "      <td>322</td>\n",
       "      <td>21.265416</td>\n",
       "      <td>0.020298</td>\n",
       "    </tr>\n",
       "    <tr>\n",
       "      <td>3</td>\n",
       "      <td>LATIN AMERICA AND THE CARIBBEAN</td>\n",
       "      <td>5169</td>\n",
       "      <td>649</td>\n",
       "      <td>69</td>\n",
       "      <td>7.964561</td>\n",
       "      <td>0.013349</td>\n",
       "    </tr>\n",
       "    <tr>\n",
       "      <td>0</td>\n",
       "      <td>AFRICA</td>\n",
       "      <td>6851</td>\n",
       "      <td>1284</td>\n",
       "      <td>125</td>\n",
       "      <td>5.335670</td>\n",
       "      <td>0.018246</td>\n",
       "    </tr>\n",
       "    <tr>\n",
       "      <td>4</td>\n",
       "      <td>NORTHERN AMERICA</td>\n",
       "      <td>1921</td>\n",
       "      <td>365</td>\n",
       "      <td>99</td>\n",
       "      <td>5.263014</td>\n",
       "      <td>0.051536</td>\n",
       "    </tr>\n",
       "    <tr>\n",
       "      <td>1</td>\n",
       "      <td>ASIA</td>\n",
       "      <td>11531</td>\n",
       "      <td>4536</td>\n",
       "      <td>310</td>\n",
       "      <td>2.542108</td>\n",
       "      <td>0.026884</td>\n",
       "    </tr>\n",
       "  </tbody>\n",
       "</table>\n",
       "</div>"
      ],
      "text/plain": [
       "                            region  article_count population  \\\n",
       "5                          OCEANIA           3128         41   \n",
       "2                           EUROPE          15864        746   \n",
       "3  LATIN AMERICA AND THE CARIBBEAN           5169        649   \n",
       "0                           AFRICA           6851       1284   \n",
       "4                 NORTHERN AMERICA           1921        365   \n",
       "1                             ASIA          11531       4536   \n",
       "\n",
       "   high_quality_count  article_coverage  high_quality_pct  \n",
       "5                  66         76.292683          0.021100  \n",
       "2                 322         21.265416          0.020298  \n",
       "3                  69          7.964561          0.013349  \n",
       "0                 125          5.335670          0.018246  \n",
       "4                  99          5.263014          0.051536  \n",
       "1                 310          2.542108          0.026884  "
      ]
     },
     "execution_count": 208,
     "metadata": {},
     "output_type": "execute_result"
    }
   ],
   "source": [
    "article_results_regionSummary_sortDesc_coverage"
   ]
  },
  {
   "cell_type": "code",
   "execution_count": 210,
   "metadata": {},
   "outputs": [],
   "source": [
    "article_results_top10_coverage.to_csv(\"../data_clean/article_results_top10_coverage.csv\", index = False)\n",
    "article_results_bottom10_coverage.to_csv(\"../data_clean/article_results_bottom10_coverage.csv\", index = False)\n",
    "article_results_top10_quality.to_csv(\"../data_clean/article_results_top10_quality.csv\", index = False)\n",
    "article_results_bottom10_quality.to_csv(\"../data_clean/article_results_bottom10_quality.csv\", index = False)\n",
    "article_results_regionSummary_sortDesc_coverage.to_csv(\"../data_clean/article_results_regionSummary_sortDesc_coverage.csv\", index = False)\n",
    "article_results_regionSummary_sortDesc_quality.to_csv(\"../data_clean/article_results_regionSummary_sortDesc_quality.csv\", index = False)"
   ]
  },
  {
   "cell_type": "code",
   "execution_count": null,
   "metadata": {},
   "outputs": [],
   "source": []
  }
 ],
 "metadata": {
  "kernelspec": {
   "display_name": "Python 3",
   "language": "python",
   "name": "python3"
  },
  "language_info": {
   "codemirror_mode": {
    "name": "ipython",
    "version": 3
   },
   "file_extension": ".py",
   "mimetype": "text/x-python",
   "name": "python",
   "nbconvert_exporter": "python",
   "pygments_lexer": "ipython3",
   "version": "3.6.9"
  }
 },
 "nbformat": 4,
 "nbformat_minor": 2
}
