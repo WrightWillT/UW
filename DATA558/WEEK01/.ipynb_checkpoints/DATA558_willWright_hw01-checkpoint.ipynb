{
 "cells": [
  {
   "cell_type": "markdown",
   "metadata": {},
   "source": [
    "# DATA558 - Homework 1"
   ]
  },
  {
   "cell_type": "markdown",
   "metadata": {},
   "source": [
    "**Instructions: All code exercises must be completed using Python.** Upload your\n",
    "answers to the questions below to Canvas. Submit the answers to the questions (including\n",
    "the relevant output of the code) in a PDF file and your code in a (single) separate file. Be\n",
    "sure to comment your code to indicate which lines of your code correspond to which question\n",
    "part."
   ]
  },
  {
   "cell_type": "markdown",
   "metadata": {},
   "source": [
    "1. Read Chapter 2 in Elements of Statistical Learning."
   ]
  },
  {
   "cell_type": "markdown",
   "metadata": {},
   "source": [
    "2. Explain whether each scenario is a classification or regression problem, and indicate\n",
    "whether we are most interested in inference or prediction. Finally, provide n and p."
   ]
  },
  {
   "cell_type": "markdown",
   "metadata": {},
   "source": [
    "    2a. You want to predict whether a particular customer is going to click on an online advertisement or not. You have information on whether or not they clicked on 200 other ads, in addition to whether the ad was in the same category, whether the ad was shown during regular working hours, whether the ad was shown on a weekend, and the percent of all customers who had previously clicked on the ad."
   ]
  },
  {
   "cell_type": "markdown",
   "metadata": {},
   "source": [
    "This is a **classification** problem where the intention is **prediction**.  \n",
    "n = 200  \n",
    "p = 5  "
   ]
  },
  {
   "cell_type": "markdown",
   "metadata": {},
   "source": [
    "    2b. Suppose it is the end of the quarter and you wish to predict your score on the final exam. You have data from 20 classes you have previously taken, consisting of your final exam scores, your average scores on the midterms (i.e., one average midterm score per class), your average homework scores (i.e., one average homework score per class), and whether the final exam was take-home or not."
   ]
  },
  {
   "cell_type": "markdown",
   "metadata": {},
   "source": [
    "This is a **regression** problem where the intention is **prediction**.   \n",
    "n = 20  \n",
    "p = 4  "
   ]
  },
  {
   "cell_type": "markdown",
   "metadata": {},
   "source": [
    "    2c. You work for an ice cream shop and are in charge of determining what factors affect how much ice cream is sold each day. For 300 days you have information on how much ice cream the shop sold, in addition to whether the day was sunny or not, what the temperature was, whether school is in session or not, whether your most popular flavor was available that day, and whether you had recently run any advertisements."
   ]
  },
  {
   "cell_type": "markdown",
   "metadata": {},
   "source": [
    "This is an **regression** problem where the intention is **inference**.  \n",
    "n = 300  \n",
    "p = 6  "
   ]
  },
  {
   "cell_type": "markdown",
   "metadata": {},
   "source": [
    "3. In this problem you will brainstorm real-life applications for statistical learning. Your\n",
    "answers aren’t allowed to be the same as any of the examples in the other homework\n",
    "problems."
   ]
  },
  {
   "cell_type": "markdown",
   "metadata": {},
   "source": [
    "    3a. Describe three real-life applications in which classification might be useful, one from political science, one from sports, and one from an area of your choice. Describe the response, as well as the predictors. Is the goal of each application inference or prediction? Explain your answer."
   ]
  },
  {
   "cell_type": "markdown",
   "metadata": {},
   "source": [
    "Political science: the most obvious that comes to mind is predicting whether a voter will vote for one political party or another.  In this situation, the dataset could include one-row-per-voter with predictor variables for past voting results, demographics, psychographics (e.g. social policy preferences), and behaviors (e.g. watching x/y/z news stations). The response variable could be political party. In this scenario, the goal is prediction.\n",
    "\n",
    "Sports:  classifying the results of a tennis match as a win or loss prior to the game.  This is a prediction where the data could consist of one-row-per-game with predictor variables including player rating, date, temperature, number of games played that day (measure of exhaustion), etc., and the response variable being a binary win/loss indicator.   \n",
    "\n",
    "Marketing: classifying which customer characteristics are important in determining their likelihood to purchase.  This is an inference scenario where the response variable is purchase-or-not and the predictors could be demographic, other past purchases (or categories/subcategories of past purchases), date (to take into account seasonality), and engagement tier (H/M/L).  The goal is to infer which factors are the most important for determining whether an individual will purchase or not."
   ]
  },
  {
   "cell_type": "markdown",
   "metadata": {},
   "source": [
    "    3b. Describe three real-life applications in which regression might be useful, one from engineering, one from business, and one from an area of your choice. Describe the response, as well as the predictors. Is the goal of each application inference or prediction? Explain your answer."
   ]
  },
  {
   "cell_type": "markdown",
   "metadata": {},
   "source": [
    "Engineering: In designing a space shuttle, a regression could be used to predict which temperature will cause a system failure.  The response variable could be failure-or-not and the predictor could be temperature and possibly controlling factors for things like other stressors such as weight or engine type.  \n",
    "\n",
    "Business: When pricing a commodity like the price of oats, a regression could be used to predict future prices.  The response variable could be price and the predictors could be date, quality, current demand of oats, and current demand of substitutes for oats. \n",
    "\n",
    "Horticulture: In order to determine the amount of nitrates in the soil that maximize yield, researchers could perform an experiment with the response variable as yield (in weight) and the predictor being nitrates with controlling factors for plot of land, type of plant, time of year, and so on. This would be an inference.\n"
   ]
  },
  {
   "cell_type": "markdown",
   "metadata": {},
   "source": [
    "    3c. Describe three real-life applications in which cluster analysis might be useful, one from education, one from meteorology, and one from an area of your choice. Be sure to describe why it would be useful."
   ]
  },
  {
   "cell_type": "markdown",
   "metadata": {},
   "source": [
    "Education: Clustering students in a course into work-groups would be useful if certain work-group compositions tended to perform better.  For instance, it could be the case that similar groups tend to get-along better and hence produce better quality work.  If that were the case, then having one-row-per-student with factors for personality (e.g. Big-5, MBTI), strengths/weaknesses, conflict-resolution style, interests, etc. would result in k-clusters of the most-similar students (at least along the dimensions of data gathered).\n",
    "\n",
    "Meteorology: In order to talk about specific weather systems, clustering is necessary to define if area x is in one front or another. A weather front might have features like temperature, humidity, wind speed, wind direction, and coordinates.  This is useful because being able to provide weather updates is more easily achieved when one can talk about weather fronts as systems (e.g. the warm air from Hawaii is heading in and about to cause storms as it meets the cool air from Alaska) instead of as highly-localized events where it's harder to understand the causality.\n",
    "\n",
    "Car Racing: If all car racing were done in one category (e.g. drag racing), then all non-drag-race cars would be severely disadvantaged.  Instead, by clustering cars into categories, competition of driver skill is still relevant.  This could involve one-row-per-car with factors for wheel size, horsepower, thrust-to-weight ratio, cylindars, tire-type, displacement, manufacturer, etc. The results would put cars into classes based on these properties such that off-road cars generally have off-road tires and comprable traction systems while go-karts tend to have small tires and a limited range in displacement.\n",
    "\n"
   ]
  },
  {
   "cell_type": "markdown",
   "metadata": {},
   "source": [
    "4. The table below provides a training data set containing six observations, three predictors, and one qualitative response variable. Suppose we wish to use this data set to\n",
    "Obs. X1 X2 X3 Y\n",
    "1 0 4 0 Green\n",
    "2 2 0 1 Red\n",
    "3 0 1 3 Red\n",
    "4 -1 1 2 Green\n",
    "5 -3 0 1 Green\n",
    "6 2 0 1 Red\n",
    "make a prediction for Y when X1 = X2 = X3 = 0 using K-nearest neighbors."
   ]
  },
  {
   "cell_type": "markdown",
   "metadata": {},
   "source": [
    "    4a. Compute the Euclidean distance between each observation and the test point X1 = X2 = X3 = 0."
   ]
  },
  {
   "cell_type": "code",
   "execution_count": null,
   "metadata": {},
   "outputs": [],
   "source": []
  },
  {
   "cell_type": "markdown",
   "metadata": {},
   "source": [
    "    4b. What is our prediction with K = 1? Why?"
   ]
  },
  {
   "cell_type": "code",
   "execution_count": null,
   "metadata": {},
   "outputs": [],
   "source": []
  },
  {
   "cell_type": "markdown",
   "metadata": {},
   "source": [
    "    4c. What is our prediction with K = 3? Why?"
   ]
  },
  {
   "cell_type": "code",
   "execution_count": null,
   "metadata": {},
   "outputs": [],
   "source": []
  },
  {
   "cell_type": "markdown",
   "metadata": {},
   "source": [
    "    4d. If the Bayes decision boundary in this problem is linear but the data is noisy, then would we expect the best value for K to be larger or smaller? Why?"
   ]
  },
  {
   "cell_type": "code",
   "execution_count": null,
   "metadata": {},
   "outputs": [],
   "source": []
  },
  {
   "cell_type": "markdown",
   "metadata": {},
   "source": [
    "5. This exercise relates to the College data set, which can be found here http://www-bcf.usc.edu/~gareth/ISL/College.csv. It contains a number of variables for 777 different universities and colleges in the US. The variables are\n",
    "\n",
    "    • Private: Public/private indicator\n",
    "    \n",
    "    • Apps: Number of applications received\n",
    "    \n",
    "    • Accept: Number of applicants accepted\n",
    "    \n",
    "    • Enroll: Number of new students enrolled\n",
    "    \n",
    "    • Top10perc: New students from top 10% of high school class\n",
    "    \n",
    "    • Top25perc: New students from top 25% of high school class\n",
    "    \n",
    "    • F.Undergrad: Number of full-time undergraduates\n",
    "    \n",
    "    • P.Undergrad: Number of part-time undergraduates\n",
    "    \n",
    "    • Outstate: Out-of-state tuition\n",
    "    \n",
    "    • Room.Board: Room and board costs\n",
    "    \n",
    "    • Books: Estimated book costs\n",
    "    \n",
    "    • Personal: Estimated personal spending\n",
    "    \n",
    "    • PhD: Percent of faculty with Ph.D.s\n",
    "    \n",
    "    • Terminal: Percent of faculty with terminal degree\n",
    "    \n",
    "    • S.F.Ratio: Student/faculty ratio\n",
    "    \n",
    "    • perc.alumni: Percent of alumni who donate\n",
    "    \n",
    "    • Expend: Instructional expenditure per student\n",
    "    \n",
    "    • Grad.Rate: Graduation rate\n",
    "    \n",
    "    Before reading the data into Python, it can be viewed in Excel or a text editor."
   ]
  },
  {
   "cell_type": "markdown",
   "metadata": {},
   "source": [
    "    5a. Use the pandas.read csv() function to read the data into Python. Call the loaded data college. Make sure that you have the directory set to the correct location for the data if the file is saved on your computer."
   ]
  },
  {
   "cell_type": "code",
   "execution_count": null,
   "metadata": {},
   "outputs": [],
   "source": []
  },
  {
   "cell_type": "markdown",
   "metadata": {},
   "source": [
    "    5b. Look at the data using the head attribute. You should notice that the first column is just the name of each university. We don’t really want Python to treat this as data. However, it may be handy to have these names for later. Try the following commands:\n",
    "    c o l l e g e . rename ( columns={ ’Unnamed : 0 ’ : ’ School ’ } , i n p l a c e=True )\n",
    "    c o l l e g e . s e t i n d e x ( ’ School ’ )\n",
    "\n",
    "    (The line before 0 denotes a space.) You should see that there is now a School column with the name of each university recorded. This means that Python has given each row a name corresponding to the appropriate university. Python will not try to perform calculations on the row names."
   ]
  },
  {
   "cell_type": "code",
   "execution_count": null,
   "metadata": {},
   "outputs": [],
   "source": []
  },
  {
   "cell_type": "markdown",
   "metadata": {},
   "source": [
    "    5c. \n",
    "        i. Use the describe attribute to produce a numerical summary of the variables in the data set."
   ]
  },
  {
   "cell_type": "code",
   "execution_count": null,
   "metadata": {},
   "outputs": [],
   "source": []
  },
  {
   "cell_type": "markdown",
   "metadata": {},
   "source": [
    "        ii. Use the scatter matrix() function from the package pandas.plotting to produce a scatterplot matrix of the second through fourth columns of the data."
   ]
  },
  {
   "cell_type": "code",
   "execution_count": null,
   "metadata": {},
   "outputs": [],
   "source": []
  },
  {
   "cell_type": "markdown",
   "metadata": {},
   "source": [
    "        iii. Use the boxplot attribute to produce side-by-side boxplots of Room.Board versus Private. Hint: Use the column option to select the continuous variable and the by option to select the categorical variable."
   ]
  },
  {
   "cell_type": "code",
   "execution_count": null,
   "metadata": {},
   "outputs": [],
   "source": []
  },
  {
   "cell_type": "markdown",
   "metadata": {},
   "source": [
    "        iv. Create a new qualitative variable, called Elite, by binning the Top10perc variable. We are going to divide universities into two groups based on whether or not the proportion of students coming from the top 10% of their high school classes exceeds 50%.\n",
    "        E l i t e = np . a r ra y ( [ Fal s e ] ∗ len ( c o l l e g e ) )\n",
    "        E l i t e [ c o l l e g e [ ’ Top10perc ’ ] > 5 0] = True\n",
    "        c o l l e g e [ ’ E l i t e ’ ] = pd . S e r i e s ( Eli t e , inde x=c o l l e g e . inde x )\n",
    "\n",
    "        Use the describe attribute to see how many elite universities there are.For this you might find the option include=[’bool’] useful. Now use the boxplot attribute to produce side-by-side boxplots of Room.Board versus Elite."
   ]
  },
  {
   "cell_type": "code",
   "execution_count": null,
   "metadata": {},
   "outputs": [],
   "source": []
  },
  {
   "cell_type": "markdown",
   "metadata": {},
   "source": [
    "        v. Use the hist attribute to produce some histograms with differing numbers of bins for a few of the quantitative variables. You may find the layout option useful: it will divide the figure into regions so that plots can be made simultaneously."
   ]
  },
  {
   "cell_type": "code",
   "execution_count": null,
   "metadata": {},
   "outputs": [],
   "source": []
  },
  {
   "cell_type": "markdown",
   "metadata": {},
   "source": [
    "        vi. Continue exploring the data, and provide a brief summary of what you discover."
   ]
  },
  {
   "cell_type": "code",
   "execution_count": null,
   "metadata": {},
   "outputs": [],
   "source": []
  },
  {
   "cell_type": "markdown",
   "metadata": {},
   "source": [
    "6. This exercise involves the Auto data set found here: http://www-bcf.usc.edu/~gareth/\n",
    "ISL/Auto.data. Make sure that the missing values have been removed from the data.\n",
    "(a) Which of the predictors are quantitative, and which are qualitative?"
   ]
  },
  {
   "cell_type": "markdown",
   "metadata": {},
   "source": [
    "        6b. What is the range of each quantitative predictor?"
   ]
  },
  {
   "cell_type": "code",
   "execution_count": null,
   "metadata": {},
   "outputs": [],
   "source": []
  },
  {
   "cell_type": "markdown",
   "metadata": {},
   "source": [
    "        6c. What is the mean and standard deviation of each quantitative predictor?"
   ]
  },
  {
   "cell_type": "code",
   "execution_count": null,
   "metadata": {},
   "outputs": [],
   "source": []
  },
  {
   "cell_type": "markdown",
   "metadata": {},
   "source": [
    "        6d. Now remove the last 35 observations. What is the range, mean, and standard deviation of each quantitative predictor in the subset of the data that remains?"
   ]
  },
  {
   "cell_type": "code",
   "execution_count": null,
   "metadata": {},
   "outputs": [],
   "source": []
  },
  {
   "cell_type": "markdown",
   "metadata": {},
   "source": [
    "        6e. Using the full data set, investigate the predictors graphically, using scatterplots or other tools of your choice. Create some plots highlighting the relationships among the predictors. Comment on your findings."
   ]
  },
  {
   "cell_type": "code",
   "execution_count": null,
   "metadata": {},
   "outputs": [],
   "source": []
  },
  {
   "cell_type": "markdown",
   "metadata": {},
   "source": [
    "        6f. Suppose that we wish to predict gas mileage (mpg) on the basis of the other variables. Do your plots suggest that any of the other variables might be useful in predicting mpg? Justify your answer.v. Use the hist attribute to produce some histograms with differing numbers of bins for a few of the quantitative variables. You may find the layout option useful: it will divide the figure into regions so that plots can be made simultaneously."
   ]
  },
  {
   "cell_type": "code",
   "execution_count": null,
   "metadata": {},
   "outputs": [],
   "source": []
  }
 ],
 "metadata": {
  "kernelspec": {
   "display_name": "Python 3",
   "language": "python",
   "name": "python3"
  },
  "language_info": {
   "codemirror_mode": {
    "name": "ipython",
    "version": 3
   },
   "file_extension": ".py",
   "mimetype": "text/x-python",
   "name": "python",
   "nbconvert_exporter": "python",
   "pygments_lexer": "ipython3",
   "version": "3.7.1"
  }
 },
 "nbformat": 4,
 "nbformat_minor": 2
}
