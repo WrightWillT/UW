{
 "cells": [
  {
   "cell_type": "markdown",
   "metadata": {},
   "source": [
    "# Number Guessing Game\n",
    "\n",
    "A random number between 0 and 100 is selected and you have to guess it while only learning if your guess was high or low.\n",
    "\n",
    "The more guesses your take the worse your rating/commentary."
   ]
  },
  {
   "cell_type": "code",
   "execution_count": 9,
   "metadata": {},
   "outputs": [
    {
     "data": {
      "text/plain": [
       "27"
      ]
     },
     "execution_count": 9,
     "metadata": {},
     "output_type": "execute_result"
    }
   ],
   "source": [
    "import numpy as np\n",
    "from numpy import random as rand\n",
    "number = rand.randint(0,101)\n",
    "number"
   ]
  },
  {
   "cell_type": "code",
   "execution_count": 32,
   "metadata": {},
   "outputs": [
    {
     "name": "stdout",
     "output_type": "stream",
     "text": [
      "What is your guess?28\n",
      "Too High\n",
      "What is your guess?27\n",
      "It took you  2  guesses!\n",
      "2 guesses?!? A-S-T-O-U-N-D-I-N-G!! We got a regular guessing PhD over here.\n"
     ]
    }
   ],
   "source": [
    "guess = 500\n",
    "n_guess = 0\n",
    "while guess != number:\n",
    "    guess = int(input(\"What is your guess?\"))\n",
    "    if(guess > number):\n",
    "        print(\"Too High\")\n",
    "    elif(guess < number):\n",
    "        print(\"Too Low\")\n",
    "    n_guess += 1\n",
    "    \n",
    "print('It took you ',n_guess,' guesses!')\n",
    "if(n_guess==1):\n",
    "    print(\n",
    "'''        ___________________________________\n",
    "        |#######====================#######|\n",
    "        |#(1)*UNITED STATES OF AMERICA*(1)#|\n",
    "        |#**          /===\\   ********  **#|\n",
    "        |*# {G}      | (\\\") |             #*|\n",
    "        |#*  ******  | /v\\ |    O N E    *#|\n",
    "        |#(1)         \\===/            (1)#|\n",
    "        |##=========ONE DOLLAR===========##|\n",
    "        ------------------------------------\n",
    "        Right on the money!''')\n",
    "if(n_guess==2):\n",
    "    print(\"2 guesses?!? A-S-T-O-U-N-D-I-N-G!! We got a regular guessing PhD over here.\")\n",
    "if(n_guess==3):\n",
    "    print(\"That's some damn fine guessing right there.\")\n",
    "if(n_guess==4):\n",
    "    print(\"Pretttttay\"\n",
    "          \"Pretttay\"\n",
    "          \"Pretty good.\")\n",
    "if(n_guess==5):\n",
    "    print(\"I guess 5 isn't so bad, but you'll never go pro with these rookie numbers.\")\n",
    "if(n_guess==6):\n",
    "    print(\"One better than the WORSE you could do with the best guesses... get gud.\")\n",
    "if(n_guess==7):\n",
    "    print(\"This is theoretically the WORSE you could do with the best guesses\")\n",
    "if(n_guess==8):\n",
    "    print(\"You took 1 more guess than necessary to get it right. Idiot.\")\n",
    "if(n_guess==9):\n",
    "    print(\"My idiot son Jerry could guess better than you.\")\n",
    "if(n_guess>=10 and n_guess<=12):\n",
    "    print(\"You took the short bus to school didn't you...\")\n",
    "if(n_guess>=13 and n_guess <=15):\n",
    "    print(\"Yikes—do us all a favor and don't have kids.\")\n",
    "if(n_guess>15):\n",
    "    print(\"If you're seeing this, there's a good chance you can't read.\")\n",
    "\n"
   ]
  }
 ],
 "metadata": {
  "kernelspec": {
   "display_name": "Python 3",
   "language": "python",
   "name": "python3"
  },
  "language_info": {
   "codemirror_mode": {
    "name": "ipython",
    "version": 3
   },
   "file_extension": ".py",
   "mimetype": "text/x-python",
   "name": "python",
   "nbconvert_exporter": "python",
   "pygments_lexer": "ipython3",
   "version": "3.7.1"
  }
 },
 "nbformat": 4,
 "nbformat_minor": 2
}
