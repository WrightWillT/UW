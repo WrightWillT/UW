{
 "cells": [
  {
   "cell_type": "markdown",
   "metadata": {},
   "source": [
    "# DATA 558 - Homework 3\n",
    "Will Wright"
   ]
  },
  {
   "cell_type": "markdown",
   "metadata": {},
   "source": [
    "***\n",
    "## Exercise 1\n",
    "\n",
    "In this exercise, you will implement in **Python** a first version of _your own fast gradient algorithm_ to solve the $\\ell_2^2$-regularized logistic regression problem.  \n",
    "Recall from the lectures that the logistic regression problem writes as:  \n",
    "$$\\min_{\\mathbf{\\beta \\in \\mathbb{R}^d}} F(\\beta):=\\frac{1}{n}\\sum_{i=1}^{n} log(1+exp(-y_ix_i^T\\beta)) + \\lambda\\lVert\\beta\\rVert_2^2 \\tag{1}$$\n",
    "\n",
    "\n",
    "We use here the machine learning convention for the labels that is $y_i\\in${−1, +1}."
   ]
  },
  {
   "cell_type": "markdown",
   "metadata": {},
   "source": [
    "### 1.1 Fast Gradient\n",
    "The fast gradient algorithm is outlined in Algorithm 1. The algorithm requires a subroutine that computes the gradient for any $\\beta$.  \n",
    "\n",
    "Assume that $d=1$ and $n=1$. The sample is then of size 1 and boils down to just $(x, y)$. The function $F$ writes simply as:  \n",
    "\n",
    "$F(\\beta)=log(1+exp(-yx\\beta))+\\lambda\\beta^2$  \n",
    "\n",
    "**Question**  \n",
    "Compute and write down the gradient $\\nabla F$ of $F$."
   ]
  },
  {
   "cell_type": "markdown",
   "metadata": {},
   "source": [
    "**Solution**  \n",
    "We can break up the sum $log(1+exp(-yx\\beta))+\\lambda\\beta^2$ into two parts: (1) $log(1+exp(-yx\\beta))$ and (2) $\\lambda\\beta^2$ and derive each separately.  \n",
    "\n",
    "(1) $\\frac{\\partial}{\\partial \\beta}log(1+exp(-yx\\beta))$  \n",
    "\n",
    "\n",
    "\n",
    "Use the chain rule with the following functions and their derivatives:  \n",
    "$(f\\circ g \\circ h) = log(g\\circ h)$  \n",
    "$(f\\circ g \\circ h)' = \\frac{1}{g\\circ h} \\cdot (g' \\circ h) $  \n",
    "$(g\\circ h) = 1+exp(-h)$  \n",
    "$(g\\circ h)' = -exp(-h)\\cdot h'$  \n",
    "$h = yx\\beta$  \n",
    "$h' = yx$  \n",
    "  \n",
    "Putting the chains together, we have:  \n",
    "$(f\\circ g \\circ h)' = \\frac{-yx\\cdot exp(-yx\\beta)}{1+exp(-yx\\beta)}$\n",
    "  \n",
    "\n",
    "(2) $\\frac{\\partial}{\\partial \\beta}\\lambda\\beta^2 = 2\\lambda \\beta$  \n",
    "  \n",
    "Finally, we add (1) and (2) to get:  \n",
    "$\\nabla F = \\frac{-yx\\cdot exp(-yx\\beta)}{1+exp(-yx\\beta)} + 2\\lambda \\beta$  \n",
    "\n",
    "\n",
    "\n"
   ]
  },
  {
   "cell_type": "markdown",
   "metadata": {},
   "source": [
    "**Question**  \n",
    "Assume now that $d>1$ and $n>1$.  Using the previous result and the linearity of differentiation, compute and write down the gradient $\\nabla F(\\beta)$ of $F$."
   ]
  },
  {
   "cell_type": "markdown",
   "metadata": {},
   "source": [
    "**Solution**  \n",
    "We can break up the sum $log(1+exp(-y_ix_i^T\\beta))+\\lambda\\lVert \\beta\\rVert_2^2$ into two parts: (1) $log(1+exp(-y_ix_i^T\\beta))$ and (2) $\\lambda\\lVert \\beta\\rVert_2^2$ and derive each separately.  \n",
    "\n",
    "(1) $\\frac{\\partial}{\\partial \\beta}log(1+exp(-y_ix_i^T\\beta))$  \n",
    "  \n",
    "Use the chain rule with the following functions and their derivatives:  \n",
    "$(f\\circ g \\circ h) = log(g\\circ h)$  \n",
    "$(f\\circ g \\circ h)' = \\frac{1}{(g\\circ h)} \\cdot (g' \\circ h) $  \n",
    "$(g\\circ h) = 1+exp(-h)$  \n",
    "$(g\\circ h)' = -exp(-h)\\cdot h'$  \n",
    "$h = y_ix_i^T\\beta$  \n",
    "$h' = y_ix_i$  \n",
    "  \n",
    "Putting the chains together, we have:  \n",
    "$(f\\circ g \\circ h)' = -y_ix_i \\cdot \\frac{-y_ix_iexp(-y_ix_i^T\\beta)}{1+exp(-y_ix_i^T\\beta)}$\n",
    "  \n",
    "(2) $\\frac{\\partial}{\\partial \\beta}\\lambda\\lVert \\beta\\rVert_2^2 = 2\\lambda \\lVert \\beta \\rVert$  \n",
    "  \n",
    "Finally, we add (1) and (2) to get:  \n",
    "$\\nabla F = -y_ix_i\\cdot \\frac{exp(-y_ix_i^T\\beta)}{1+exp(-y_ix_i^T\\beta)} + 2\\lambda \\lVert \\beta \\rVert$"
   ]
  },
  {
   "cell_type": "markdown",
   "metadata": {},
   "source": [
    "Consider the Spam dataset from The Elements of Statistical Learning (You can get it here: https://web.stanford.edu/~hastie/ElemStatLearn/). Standardize the data (i.e., center the features and divide them by their standard deviation, and also change the output labels to +/- 1)."
   ]
  },
  {
   "cell_type": "code",
   "execution_count": 7,
   "metadata": {},
   "outputs": [],
   "source": [
    "# Load Packages\n",
    "import numpy as np\n",
    "import matplotlib.pyplot as plt\n",
    "import pandas as pd\n",
    "import statsmodels.api as sm\n",
    "from sklearn.model_selection import train_test_split\n",
    "from sklearn import preprocessing\n",
    "\n",
    "spam = pd.read_csv('https://web.stanford.edu/~hastie/ElemStatLearn/datasets/spam.data', \n",
    "                   delim_whitespace=True, header = None)"
   ]
  },
  {
   "cell_type": "code",
   "execution_count": 8,
   "metadata": {},
   "outputs": [
    {
     "data": {
      "text/html": [
       "<div>\n",
       "<style scoped>\n",
       "    .dataframe tbody tr th:only-of-type {\n",
       "        vertical-align: middle;\n",
       "    }\n",
       "\n",
       "    .dataframe tbody tr th {\n",
       "        vertical-align: top;\n",
       "    }\n",
       "\n",
       "    .dataframe thead th {\n",
       "        text-align: right;\n",
       "    }\n",
       "</style>\n",
       "<table border=\"1\" class=\"dataframe\">\n",
       "  <thead>\n",
       "    <tr style=\"text-align: right;\">\n",
       "      <th></th>\n",
       "      <th>0</th>\n",
       "      <th>1</th>\n",
       "      <th>2</th>\n",
       "      <th>3</th>\n",
       "      <th>4</th>\n",
       "      <th>5</th>\n",
       "      <th>6</th>\n",
       "      <th>7</th>\n",
       "      <th>8</th>\n",
       "      <th>9</th>\n",
       "      <th>...</th>\n",
       "      <th>48</th>\n",
       "      <th>49</th>\n",
       "      <th>50</th>\n",
       "      <th>51</th>\n",
       "      <th>52</th>\n",
       "      <th>53</th>\n",
       "      <th>54</th>\n",
       "      <th>55</th>\n",
       "      <th>56</th>\n",
       "      <th>57</th>\n",
       "    </tr>\n",
       "  </thead>\n",
       "  <tbody>\n",
       "    <tr>\n",
       "      <th>0</th>\n",
       "      <td>0.00</td>\n",
       "      <td>0.64</td>\n",
       "      <td>0.64</td>\n",
       "      <td>0.0</td>\n",
       "      <td>0.32</td>\n",
       "      <td>0.00</td>\n",
       "      <td>0.00</td>\n",
       "      <td>0.00</td>\n",
       "      <td>0.00</td>\n",
       "      <td>0.00</td>\n",
       "      <td>...</td>\n",
       "      <td>0.00</td>\n",
       "      <td>0.000</td>\n",
       "      <td>0.0</td>\n",
       "      <td>0.778</td>\n",
       "      <td>0.000</td>\n",
       "      <td>0.000</td>\n",
       "      <td>3.756</td>\n",
       "      <td>61</td>\n",
       "      <td>278</td>\n",
       "      <td>1</td>\n",
       "    </tr>\n",
       "    <tr>\n",
       "      <th>1</th>\n",
       "      <td>0.21</td>\n",
       "      <td>0.28</td>\n",
       "      <td>0.50</td>\n",
       "      <td>0.0</td>\n",
       "      <td>0.14</td>\n",
       "      <td>0.28</td>\n",
       "      <td>0.21</td>\n",
       "      <td>0.07</td>\n",
       "      <td>0.00</td>\n",
       "      <td>0.94</td>\n",
       "      <td>...</td>\n",
       "      <td>0.00</td>\n",
       "      <td>0.132</td>\n",
       "      <td>0.0</td>\n",
       "      <td>0.372</td>\n",
       "      <td>0.180</td>\n",
       "      <td>0.048</td>\n",
       "      <td>5.114</td>\n",
       "      <td>101</td>\n",
       "      <td>1028</td>\n",
       "      <td>1</td>\n",
       "    </tr>\n",
       "    <tr>\n",
       "      <th>2</th>\n",
       "      <td>0.06</td>\n",
       "      <td>0.00</td>\n",
       "      <td>0.71</td>\n",
       "      <td>0.0</td>\n",
       "      <td>1.23</td>\n",
       "      <td>0.19</td>\n",
       "      <td>0.19</td>\n",
       "      <td>0.12</td>\n",
       "      <td>0.64</td>\n",
       "      <td>0.25</td>\n",
       "      <td>...</td>\n",
       "      <td>0.01</td>\n",
       "      <td>0.143</td>\n",
       "      <td>0.0</td>\n",
       "      <td>0.276</td>\n",
       "      <td>0.184</td>\n",
       "      <td>0.010</td>\n",
       "      <td>9.821</td>\n",
       "      <td>485</td>\n",
       "      <td>2259</td>\n",
       "      <td>1</td>\n",
       "    </tr>\n",
       "    <tr>\n",
       "      <th>3</th>\n",
       "      <td>0.00</td>\n",
       "      <td>0.00</td>\n",
       "      <td>0.00</td>\n",
       "      <td>0.0</td>\n",
       "      <td>0.63</td>\n",
       "      <td>0.00</td>\n",
       "      <td>0.31</td>\n",
       "      <td>0.63</td>\n",
       "      <td>0.31</td>\n",
       "      <td>0.63</td>\n",
       "      <td>...</td>\n",
       "      <td>0.00</td>\n",
       "      <td>0.137</td>\n",
       "      <td>0.0</td>\n",
       "      <td>0.137</td>\n",
       "      <td>0.000</td>\n",
       "      <td>0.000</td>\n",
       "      <td>3.537</td>\n",
       "      <td>40</td>\n",
       "      <td>191</td>\n",
       "      <td>1</td>\n",
       "    </tr>\n",
       "    <tr>\n",
       "      <th>4</th>\n",
       "      <td>0.00</td>\n",
       "      <td>0.00</td>\n",
       "      <td>0.00</td>\n",
       "      <td>0.0</td>\n",
       "      <td>0.63</td>\n",
       "      <td>0.00</td>\n",
       "      <td>0.31</td>\n",
       "      <td>0.63</td>\n",
       "      <td>0.31</td>\n",
       "      <td>0.63</td>\n",
       "      <td>...</td>\n",
       "      <td>0.00</td>\n",
       "      <td>0.135</td>\n",
       "      <td>0.0</td>\n",
       "      <td>0.135</td>\n",
       "      <td>0.000</td>\n",
       "      <td>0.000</td>\n",
       "      <td>3.537</td>\n",
       "      <td>40</td>\n",
       "      <td>191</td>\n",
       "      <td>1</td>\n",
       "    </tr>\n",
       "  </tbody>\n",
       "</table>\n",
       "<p>5 rows × 58 columns</p>\n",
       "</div>"
      ],
      "text/plain": [
       "     0     1     2    3     4     5     6     7     8     9  ...    48     49  \\\n",
       "0  0.00  0.64  0.64  0.0  0.32  0.00  0.00  0.00  0.00  0.00 ...  0.00  0.000   \n",
       "1  0.21  0.28  0.50  0.0  0.14  0.28  0.21  0.07  0.00  0.94 ...  0.00  0.132   \n",
       "2  0.06  0.00  0.71  0.0  1.23  0.19  0.19  0.12  0.64  0.25 ...  0.01  0.143   \n",
       "3  0.00  0.00  0.00  0.0  0.63  0.00  0.31  0.63  0.31  0.63 ...  0.00  0.137   \n",
       "4  0.00  0.00  0.00  0.0  0.63  0.00  0.31  0.63  0.31  0.63 ...  0.00  0.135   \n",
       "\n",
       "    50     51     52     53     54   55    56  57  \n",
       "0  0.0  0.778  0.000  0.000  3.756   61   278   1  \n",
       "1  0.0  0.372  0.180  0.048  5.114  101  1028   1  \n",
       "2  0.0  0.276  0.184  0.010  9.821  485  2259   1  \n",
       "3  0.0  0.137  0.000  0.000  3.537   40   191   1  \n",
       "4  0.0  0.135  0.000  0.000  3.537   40   191   1  \n",
       "\n",
       "[5 rows x 58 columns]"
      ]
     },
     "execution_count": 8,
     "metadata": {},
     "output_type": "execute_result"
    }
   ],
   "source": [
    "spam.head()"
   ]
  },
  {
   "cell_type": "markdown",
   "metadata": {},
   "source": [
    "Write a function _computegrad_ that computes and returns $\\nabla F(\\beta)$ for any $\\beta$."
   ]
  },
  {
   "cell_type": "code",
   "execution_count": null,
   "metadata": {},
   "outputs": [],
   "source": []
  },
  {
   "cell_type": "markdown",
   "metadata": {},
   "source": [
    "Write a function _backtracking_ that implements the backtracking rule."
   ]
  },
  {
   "cell_type": "code",
   "execution_count": null,
   "metadata": {},
   "outputs": [],
   "source": []
  },
  {
   "cell_type": "markdown",
   "metadata": {},
   "source": [
    "Write a function _graddescent_ that implements the gradient descent algorithm with the backtracking rule to tune the step-size. The function _graddescent_ calls _computegrad_ and _backtracking_ as subroutines. The function takes as input the initial point, the initial step-size value, and the target accuracy $\\epsilon$. The stopping criterion is $\\lVert \\nabla F \\rVert \\leq \\epsilon$."
   ]
  },
  {
   "cell_type": "code",
   "execution_count": null,
   "metadata": {},
   "outputs": [],
   "source": []
  },
  {
   "cell_type": "markdown",
   "metadata": {},
   "source": [
    "Write a function _fastgradalgo_ that implements the fast gradient algorithm described in Algorithm 1. The function _fastgradalgo_ calls _computegrad_ and _backtracking_ as subroutines. The function takes as input the initial step-size value for the backtracking rule and the target accuracy $\\epsilon$. The stopping criterion is $\\lVert \\nabla F \\rVert \\leq \\epsilon$."
   ]
  },
  {
   "cell_type": "code",
   "execution_count": null,
   "metadata": {},
   "outputs": [],
   "source": []
  },
  {
   "cell_type": "markdown",
   "metadata": {},
   "source": [
    "Use the estimate described in the course to initialize the step-size. Set the target accuracy to $\\epsilon = 10^{−4}$. Run _graddescent_ and _fastgradalgo_ on the training set of the Spam dataset for $\\lambda = 0.1$. Plot the curve of the objective values $F(\\beta_t)$ for both algorithms versus the iteration counter $t$ (use different colors). What do you observe?"
   ]
  },
  {
   "cell_type": "code",
   "execution_count": null,
   "metadata": {},
   "outputs": [],
   "source": []
  },
  {
   "cell_type": "markdown",
   "metadata": {},
   "source": [
    "Denote by $\\beta_T$ the final iterate of your fast gradient algorithm. Compare $\\beta_T$ to the $\\beta^{*}$ found by scikit-learn. Compare the objective value for $\\beta_T$ to the one for $\\beta^{*}$. What do you observe?"
   ]
  },
  {
   "cell_type": "code",
   "execution_count": null,
   "metadata": {},
   "outputs": [],
   "source": []
  },
  {
   "cell_type": "markdown",
   "metadata": {},
   "source": [
    "Run cross-validation on the training set of the Spam dataset using _scikit-learn_ to find the optimal value of $\\lambda$. Run _graddescent_ and _fastgradalgo_ to optimize the objective with that value of $\\lambda$. Plot the curve of the objective values $F(\\beta_t)$ for both algorithms versus the iteration counter $t$. Plot the misclassification error on the training set for both algorithms versus the iteration counter $t$. Plot the misclassification error on the test set for both algorithms versus the iteration counter $t$. What do you observe?"
   ]
  },
  {
   "cell_type": "code",
   "execution_count": null,
   "metadata": {},
   "outputs": [],
   "source": []
  },
  {
   "cell_type": "markdown",
   "metadata": {},
   "source": [
    "***\n",
    "## Exercise 2"
   ]
  },
  {
   "cell_type": "markdown",
   "metadata": {},
   "source": [
    "Suppose we estimate the regression coefficients in a logistic regression model by minimizing"
   ]
  },
  {
   "cell_type": "markdown",
   "metadata": {},
   "source": [
    "$$F(\\beta):=\\frac{1}{n}\\sum_{i=1}^{n} log(1+exp(-y_ix_i^T\\beta)) + \\lambda\\lVert\\beta\\rVert_2^2$$"
   ]
  },
  {
   "cell_type": "markdown",
   "metadata": {},
   "source": [
    "for a particular value of $\\lambda$. For parts (a) through (e), indicate which of (i) through (v) is correct. Justify your answer."
   ]
  },
  {
   "cell_type": "markdown",
   "metadata": {},
   "source": [
    "&emsp;(a) As we increase $\\lambda$ from 0, the misclassification error on the test set will:  \n",
    "&emsp;&emsp;(i) Increase initially and then eventually start decreasing in an inverted U shape.  \n",
    "&emsp;&emsp;(ii) Decrease initially and then eventually start increasing in a U shape.  \n",
    "&emsp;&emsp;(iii) Steadily increase.  \n",
    "&emsp;&emsp;(iv) Steadily decrease.  \n",
    "&emsp;&emsp;(v) Remain constant.  "
   ]
  },
  {
   "cell_type": "code",
   "execution_count": null,
   "metadata": {},
   "outputs": [],
   "source": []
  },
  {
   "cell_type": "markdown",
   "metadata": {},
   "source": [
    "&emsp;&emsp;(b) Repeat (a) for the misclassification error on the training set."
   ]
  },
  {
   "cell_type": "code",
   "execution_count": null,
   "metadata": {},
   "outputs": [],
   "source": []
  },
  {
   "cell_type": "markdown",
   "metadata": {},
   "source": [
    "***\n",
    "## Exercise 3\n",
    "In this exercise, you will use Amazon Web Services (AWS) to run a nearest neighbors algorithm on data from the Sloan Digital Sky Survey.  The goals of this exercise are:  \n",
    "&emsp;1. To teach you how to use AWS's Elastic Compute Cloud (EC2) and Simple Storage Service (S3)  \n",
    "&emsp;2. To show you that computing with GPUs can be much faster than computing with CPUs  \n",
    "&emsp;3. To demonstrate a fast algorithm for computing nearest neighbors (from [1])  \n",
    "\n",
    "**Background:** The Sloan Digital Sky Survey (SDSS) has gathered data on many objects in the sky. The data set you will use in this assignment consists of (1) a “training” set of pho- tometric data on known astronomical objects; and (2) a “test” set of additional photometric data on more objects. Astronomers often need to determine which objects in a new data set are worth further examination because their telescope time is very limited. By finding the nearest neighbors in the training set to each object in the test set, they can tell whether the object is interesting or not. For example, if an object in the test set is closest to sun-like stars, then they might find that one very boring and not follow up on it.  \n",
    "\n",
    "**Instructions:** Following the AWS tutorial for help, do the following:  \n",
    "&emsp;1. Create a p2.xlarge spot instance with the “Deep Learning AMI (Ubuntu) Version 22.0” AMI. If this instance type doesn’t work, try another one of the gpu instances. You need to use a GPU instance for this assignment.  \n",
    "\n",
    "&emsp;2. Install Swig and bufferkdtree on your instance.  \n",
    "\n",
    "&emsp;3. On your instance, run the astronomy example from here https://github.com/gieseke/bufferkdtree/tree/master/examples and save all of the output to the file “out- put.txt”. **Hint:** You will need to transfer both astronomy.py and generate.py on EC2. In addition, in the file astronomy.py you will need to change the line  \n",
    "plat dev ids = {0:[0 ,1 ,2 ,3]} to  \n",
    "plat dev ids = {0:[0]}  \n",
    "The data will automatically download the first time you run it **after user input**. Therefore, do not try to save the output to a file via > the first time you run it or else it will hang indefinitely. Either use the tee command (https://en.wikipedia. org/wiki/Tee_(command)), run the script once before using > or copy and paste the output to a file. If you are still having issues with it hanging when saving directly to a file, check the output file. It’s possible that it finished writing out the output.  \n",
    "\n",
    "&emsp;4. Transfer the file output.txt to an S3 bucket.  \n",
    "\n",
    "&emsp;Go t the S3 interface https://console.aws.amazon.com/s3/home?region=us-east-1 and make that file public.  \n",
    "\n",
    "&emsp;In your homework submission please include the following:  \n",
    "\n",
    "&emsp;&emsp;(a) The fitting and testing times on both the CPU and GPU versions. You can find these in the output.  \n",
    "\n",
    "&emsp;&emsp;(b) The url from the previous step (Check to make sure you successfully made it public!)  \n",
    "\n",
    "&emsp;&emsp;(c) A statement of any problems you encountered during this exercise and how you overcame them (or if you didn’t).  \n",
    "\n",
    "&emsp;&emsp;(d) How long it took you to complete this exercise (for our reference–we’re not grading you on how long it took).  "
   ]
  },
  {
   "cell_type": "markdown",
   "metadata": {},
   "source": [
    "***\n",
    "## Exercise 4\n",
    "Read the announcement “Data Competition, Part 1” released on Canvas. We strongly recommend you perform this task on AWS. You will use your own $\\ell_2^2$_-regularized logistic regression_ for this exercise. After completing this exercise, submit your predictions to the data competition Kaggle website.  \n",
    "\n",
    "&emsp;Download the data for the Kaggle competition. Run the script extract features.py to extract features from the images. This script was written in Python 3 and depends on the library PyTorch.  \n",
    "\n",
    "&emsp;Pick two classes of your choice from the dataset. Train an $\\ell_2^2$_-regularized logistic regression_ classifier on the training set using your own fast gradient algorithm with $\\lambda$ = 1. Be sure to use the features you generated above rather than the raw image features. Plot, with different colors, the _misclassification error_ on the training set and on the validation set vs iterations.  \n",
    "\n",
    "&emsp;Find the value of the regularization parameter $\\lambda$ using cross-validation; you may use scikit-learn’s built-in functions for this purpose. Train an $\\ell_2^2$_-regularized logistic regression_ classifier on the training set using your own fast gradient algorithm with that value of $\\lambda$ found by cross-validation. Plot, with different colors, the misclassification error on the training set and on the validation set vs iterations.  \n"
   ]
  },
  {
   "cell_type": "markdown",
   "metadata": {},
   "source": [
    "***\n",
    "## Exercise 5 (Optional)\n",
    "It is well-known that ridge regression tends to give similar coefficient values to correlated variables, whereas the lasso may give quite different coefficient values to correlated variables. We will now explore this property in a very simple setting.  \n",
    "\n",
    "Suppose that $n = 2, p = 2, x_11 = x_12, x_21 = x_22$. Furthermore, suppose that $y_1 + y_2 = 0$ and $x_11 + x_21 = 0$ and $x_12 + x_22 = 0$, so that the estimate for the intercept in a least squares, ridge regression, or lasso model is zero: $\\hat{β}_0 = 0$.  "
   ]
  },
  {
   "cell_type": "markdown",
   "metadata": {},
   "source": [
    "&emsp;(a) Write out the ridge regression optimization problem in this setting.  "
   ]
  },
  {
   "cell_type": "code",
   "execution_count": null,
   "metadata": {},
   "outputs": [],
   "source": []
  },
  {
   "cell_type": "markdown",
   "metadata": {},
   "source": [
    "&emsp;(b) Argue that in this setting, the ridge coefficient estimates satisfy $\\beta_1 = \\beta_2$.  "
   ]
  },
  {
   "cell_type": "code",
   "execution_count": null,
   "metadata": {},
   "outputs": [],
   "source": []
  }
 ],
 "metadata": {
  "kernelspec": {
   "display_name": "Python 3",
   "language": "python",
   "name": "python3"
  },
  "language_info": {
   "codemirror_mode": {
    "name": "ipython",
    "version": 3
   },
   "file_extension": ".py",
   "mimetype": "text/x-python",
   "name": "python",
   "nbconvert_exporter": "python",
   "pygments_lexer": "ipython3",
   "version": "3.7.1"
  }
 },
 "nbformat": 4,
 "nbformat_minor": 2
}
