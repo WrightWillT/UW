{
 "cells": [
  {
   "cell_type": "markdown",
   "metadata": {},
   "source": [
    "# DATA 558 - Homework 3\n",
    "Will Wright"
   ]
  },
  {
   "cell_type": "markdown",
   "metadata": {},
   "source": [
    "***\n",
    "## Exercise 1\n",
    "\n",
    "In this exercise, you will implement in **Python** a first version of _your own fast gradient algorithm_ to solve the $\\ell_2^2$-regularized logistic regression problem.  \n",
    "Recall from the lectures that the logistic regression problem writes as:  \n",
    "$$\\min_{\\mathbf{\\beta \\in \\mathbb{R}^d}} F(\\beta):=\\frac{1}{n}\\sum_{i=1}^{n} log(1+exp(-y_ix_i^T\\beta)) + \\lambda\\lVert\\beta\\rVert_2^2 \\tag{1}$$\n",
    "\n",
    "\n",
    "We use here the machine learning convention for the labels that is $y_i\\in${−1, +1}."
   ]
  },
  {
   "cell_type": "markdown",
   "metadata": {},
   "source": [
    "### 1.1 Fast Gradient\n",
    "The fast gradient algorithm is outlined in Algorithm 1. The algorithm requires a subroutine that computes the gradient for any $\\beta$.  \n",
    "\n",
    "Assume that $d=1$ and $n=1$. The sample is then of size 1 and boils down to just $(x, y)$. The function $F$ writes simply as:  \n",
    "\n",
    "$F(\\beta)=log(1+exp(-yx\\beta))+\\lambda\\beta^2$  \n",
    "\n",
    "**Question**  \n",
    "Compute and write down the gradient $\\nabla F$ of $F$."
   ]
  },
  {
   "cell_type": "markdown",
   "metadata": {},
   "source": [
    "**Solution**  \n",
    "We can break up the sum $log(1+exp(-yx\\beta))+\\lambda\\beta^2$ into two parts: (1) $log(1+exp(-yx\\beta))$ and (2) $\\lambda\\beta^2$ and derive each separately.  \n",
    "\n",
    "(1) $\\frac{\\partial}{\\partial \\beta}log(1+exp(-yx\\beta))$  \n",
    "\n",
    "\n",
    "\n",
    "Use the chain rule with the following functions and their derivatives:  \n",
    "$(f\\circ g \\circ h) = log(g\\circ h)$  \n",
    "$(f\\circ g \\circ h)' = \\frac{1}{g\\circ h} \\cdot (g \\circ h)' $  \n",
    "$(g\\circ h) = 1+exp(-h)$  \n",
    "$(g\\circ h)' = -exp(-h)\\cdot h'$  \n",
    "$h = yx\\beta$  \n",
    "$h' = yx$  \n",
    "  \n",
    "Putting the chains together, we have:  \n",
    "$(f\\circ g \\circ h)' = \\frac{-yx\\cdot exp(-yx\\beta)}{1+exp(-yx\\beta)}$\n",
    "  \n",
    "\n",
    "(2) $\\frac{\\partial}{\\partial \\beta}\\lambda\\beta^2 = 2\\lambda \\beta$  \n",
    "  \n",
    "Finally, we add (1) and (2) to get:  \n",
    "$\\nabla F = \\frac{-yx\\cdot exp(-yx\\beta)}{1+exp(-yx\\beta)} + 2\\lambda \\beta$  \n",
    "\n",
    "\n",
    "\n"
   ]
  },
  {
   "cell_type": "markdown",
   "metadata": {},
   "source": [
    "**Question**  \n",
    "Assume now that $d>1$ and $n>1$.  Using the previous result and the linearity of differentiation, compute and write down the gradient $\\nabla F(\\beta)$ of $F$."
   ]
  },
  {
   "cell_type": "markdown",
   "metadata": {},
   "source": [
    "**Solution**  \n",
    "We can break up the sum $log(1+exp(-y_ix_i^T\\beta))+\\lambda\\lVert \\beta\\rVert_2^2$ into two parts: (1) $log(1+exp(-y_ix_i^T\\beta))$ and (2) $\\lambda\\lVert \\beta\\rVert_2^2$ and derive each separately.  \n",
    "\n",
    "(1) $\\frac{\\partial}{\\partial \\beta}log(1+exp(-y_ix_i^T\\beta))$  \n",
    "  \n",
    "Use the chain rule with the following functions and their derivatives:  \n",
    "$(f\\circ g \\circ h) = log(g\\circ h)$  \n",
    "$(f\\circ g \\circ h)' = \\frac{1}{(g\\circ h)} \\cdot (g \\circ h)' $  \n",
    "$(g\\circ h) = 1+exp(-h)$  \n",
    "$(g\\circ h)' = -exp(-h)\\cdot h'$  \n",
    "$h = y_ix_i^T\\beta$  \n",
    "$h' = y_ix_i$  \n",
    "  \n",
    "Putting the chains together, we have:  \n",
    "$(f\\circ g \\circ h)' = -y_ix_i \\cdot \\frac{-y_ix_iexp(-y_ix_i^T\\beta)}{1+exp(-y_ix_i^T\\beta)}$\n",
    "  \n",
    "(2) $\\frac{\\partial}{\\partial \\beta}\\lambda\\lVert \\beta\\rVert_2^2 = 2\\lambda \\beta $  \n",
    "  \n",
    "Next, we add (1) and (2) to get:  \n",
    "$\\nabla F = -y_ix_i\\cdot \\frac{exp(-y_ix_i^T\\beta)}{1+exp(-y_ix_i^T\\beta)} + 2\\lambda \\beta$\n",
    "  \n",
    "As as added simplification (to be used in the code below), we can substitude:  \n",
    "$1-p_i = \\frac{exp(-y_ix_i^T\\beta)}{1+exp(-y_ix_i^T\\beta)}$\n",
    "\n",
    "...and arrive at:  \n",
    "$\\nabla F = -y_ix_i(1-p_i) + 2\\lambda \\beta$  \n",
    "\n",
    "If P is an nxn matrix of 0s with diag(P) = $1-p_i$, then we can simply to the final form:  \n",
    "$\\nabla F = -\\frac{1}{n}XYP + 2\\lambda \\beta$"
   ]
  },
  {
   "cell_type": "markdown",
   "metadata": {},
   "source": [
    "Consider the Spam dataset from The Elements of Statistical Learning (You can get it here: https://web.stanford.edu/~hastie/ElemStatLearn/). Standardize the data (i.e., center the features and divide them by their standard deviation, and also change the output labels to +/- 1)."
   ]
  },
  {
   "cell_type": "code",
   "execution_count": 1,
   "metadata": {},
   "outputs": [],
   "source": [
    "# Load Packages\n",
    "import numpy as np\n",
    "import matplotlib.pyplot as plt\n",
    "import pandas as pd\n",
    "import statsmodels.api as sm\n",
    "import copy\n",
    "from scipy.linalg import eigh as largest_eigh # for calculating the initial eta\n",
    "from sklearn.model_selection import train_test_split\n",
    "from sklearn import preprocessing\n",
    "from sklearn.linear_model import LogisticRegression\n",
    "\n",
    "spam = pd.read_csv('https://web.stanford.edu/~hastie/ElemStatLearn/datasets/spam.data', \n",
    "                   delim_whitespace=True, header = None)"
   ]
  },
  {
   "cell_type": "code",
   "execution_count": 2,
   "metadata": {},
   "outputs": [],
   "source": [
    "X = spam.iloc[:,0:57]\n",
    "y = spam.iloc[:,-1]\n",
    "y = y.replace(0,-1)\n",
    "\n",
    "# Divide the data into training and test sets. By default, 25% goes into the test set.\n",
    "X_train, X_test, y_train, y_test = train_test_split(X, y, random_state=0)\n",
    "\n",
    "# Convert to array\n",
    "X_train = np.array(X_train)\n",
    "X_test = np.array(X_test)\n",
    "y_train = np.array(y_train)\n",
    "y_test = np.array(y_test)\n",
    "\n",
    "# Standardize data\n",
    "scaler = preprocessing.StandardScaler().fit(X_train)\n",
    "X_train = scaler.transform(X_train)\n",
    "X_test = scaler.transform(X_test)"
   ]
  },
  {
   "cell_type": "markdown",
   "metadata": {},
   "source": [
    "Write a function _computegrad_ that computes and returns $\\nabla F(\\beta)$ for any $\\beta$."
   ]
  },
  {
   "cell_type": "code",
   "execution_count": 3,
   "metadata": {},
   "outputs": [],
   "source": [
    "def computegrad(X, y, beta, lam = 0.05):\n",
    "    'Output grad(F) given X, y, beta, and lambda'\n",
    "    ## calc the nxn p-matrix\n",
    "    # start with the diagonal of non-zeros\n",
    "    n = X.shape[0]\n",
    "    d = X.shape[1]\n",
    "    P_diag = [0 for x in range(n)] # P is nxn\n",
    "    for i in range(0,n):\n",
    "        yXTbeta = y[i]*(X[i,:].T).dot(beta) # 1x1 * dx1 * 1xd = 1x1\n",
    "        P_diag[i] = 1-(np.exp(yXTbeta))/(1+np.exp(yXTbeta)) \n",
    "    P = np.diagflat(P_diag) # nxn\n",
    "    emp_risk = (-1/n)*(X.T.dot(P).dot(y)).reshape(d,1) # (dxn * nxn) = dxn; dxn * nx1 = dx1\n",
    "    penalty = 2*lam*beta.reshape(d,1) # dx1\n",
    "    grad_F = emp_risk + penalty #dx1 + dx1 = dx1\n",
    "    return grad_F"
   ]
  },
  {
   "cell_type": "code",
   "execution_count": 4,
   "metadata": {},
   "outputs": [],
   "source": [
    "def computeobj(X, y, beta, lam = 0.05):\n",
    "    'Output F (objective is to minimize) for any given X, y, beta, lam'\n",
    "    n = X.shape[0]\n",
    "    sum_terms = [0 for i in range(n)] # initialize list\n",
    "    for i in range(0, n):\n",
    "        sum_terms[i] = np.log(1+np.exp(-y[i]*X[i,:].T.dot(beta)))\n",
    "    avg_summation = sum(sum_terms)/n\n",
    "    regularization = lam*np.sum(beta**2)\n",
    "    F = avg_summation + regularization\n",
    "    return F"
   ]
  },
  {
   "cell_type": "markdown",
   "metadata": {},
   "source": [
    "Write a function _backtracking_ that implements the backtracking rule."
   ]
  },
  {
   "cell_type": "code",
   "execution_count": 5,
   "metadata": {},
   "outputs": [],
   "source": [
    "def backtracking(X, y, beta, eta, alpha = 0.5, gamma = 0.8):\n",
    "    'Output new eta for a given X, y, beta, eta, alpha, and gamma'\n",
    "    grad = computegrad(X,y,beta)\n",
    "    complete = False\n",
    "    while complete == False:\n",
    "        if computeobj(X, y, beta - eta*grad) < computeobj(X, y, beta) - alpha*eta*np.linalg.norm(grad)**2:\n",
    "            complete = True\n",
    "        else:\n",
    "            eta = eta * gamma\n",
    "    return eta"
   ]
  },
  {
   "cell_type": "markdown",
   "metadata": {},
   "source": [
    "Write a function _graddescent_ that implements the gradient descent algorithm with the backtracking rule to tune the step-size. The function _graddescent_ calls _computegrad_ and _backtracking_ as subroutines. The function takes as input the initial point, the initial step-size value, and the target accuracy $\\epsilon$. The stopping criterion is $\\lVert \\nabla F \\rVert \\leq \\epsilon$."
   ]
  },
  {
   "cell_type": "code",
   "execution_count": 6,
   "metadata": {},
   "outputs": [],
   "source": [
    "def compute_eta(X, lam = 0.05):\n",
    "    'returns initial step-size based on equation provided in lecture notes'\n",
    "    eigenValues, eigenVectors = np.linalg.eig((1/len(X)) * X.T.dot(X))\n",
    "    L = max(eigenValues) + lam\n",
    "    return 1/L"
   ]
  },
  {
   "cell_type": "code",
   "execution_count": 7,
   "metadata": {},
   "outputs": [],
   "source": [
    "def graddescent(X, y, eta, target = 10e-4, lam = 0.05):\n",
    "    # initialize lists of betas, Fs, and grad(F)s\n",
    "    beta = np.zeros((X.shape[1],1))\n",
    "    betas =[beta] #start with the first beta included\n",
    "    Fs = [computeobj(X,y,beta,lam)] # start with the first F included\n",
    "    grad = computegrad(X,y,beta,lam)\n",
    "    t=0\n",
    "    while (np.linalg.norm(grad)>target):\n",
    "        eta = backtracking(X, y, beta, eta)\n",
    "        beta = beta - eta*grad\n",
    "        betas.append(beta) \n",
    "        F = computeobj(X, y, beta, lam)\n",
    "        Fs.append(F) \n",
    "        grad = computegrad(X, y, beta, lam)\n",
    "        t += 1\n",
    "    return np.array(betas), np.array(Fs)\n",
    "    "
   ]
  },
  {
   "cell_type": "markdown",
   "metadata": {},
   "source": [
    "Write a function _fastgradalgo_ that implements the fast gradient algorithm described in Algorithm 1. The function _fastgradalgo_ calls _computegrad_ and _backtracking_ as subroutines. The function takes as input the initial step-size value for the backtracking rule and the target accuracy $\\epsilon$. The stopping criterion is $\\lVert \\nabla F \\rVert \\leq \\epsilon$."
   ]
  },
  {
   "cell_type": "code",
   "execution_count": 8,
   "metadata": {},
   "outputs": [],
   "source": [
    "def fastgradalgo(X, y, eta, target = 10e-4, lam = 0.05):\n",
    "    # initialize lists of betas, Fs, and grad(F)s\n",
    "    # identical to standard gradient descent except theta is added and used in the computegrad subroutine\n",
    "    beta = np.zeros((X.shape[1],1))\n",
    "    theta = np.zeros((X.shape[1],1))\n",
    "    betas = [beta] #start with the first beta included\n",
    "    Fs = [computeobj(X,y,beta,lam)] # start with the first F included\n",
    "    grad = computegrad(X,y,theta,lam)\n",
    "    t=0\n",
    "    while (np.linalg.norm(grad) > target):\n",
    "        eta = backtracking(X, y, beta, eta)\n",
    "        beta_prior = copy.copy(beta)\n",
    "        beta = theta - eta * computegrad(X, y, theta, lam)\n",
    "        theta = beta + (t/(t+3))*(beta - beta_prior)\n",
    "        betas.append(beta)\n",
    "        F = computeobj(X, y, beta, lam)\n",
    "        Fs.append(F) \n",
    "        grad = computegrad(X, y, theta, lam)\n",
    "        t += 1\n",
    "    return np.array(betas), np.array(Fs)"
   ]
  },
  {
   "cell_type": "markdown",
   "metadata": {},
   "source": [
    "Use the estimate described in the course to initialize the step-size. Set the target accuracy to $\\epsilon = 10^{−4}$. Run _graddescent_ and _fastgradalgo_ on the training set of the Spam dataset for $\\lambda = 0.1$. Plot the curve of the objective values $F(\\beta_t)$ for both algorithms versus the iteration counter $t$ (use different colors). What do you observe?"
   ]
  },
  {
   "cell_type": "code",
   "execution_count": 9,
   "metadata": {},
   "outputs": [],
   "source": [
    "results_graddescent = graddescent(X_train, y_train, eta = compute_eta(X_train, lam = 0.1), target = 10e-4, lam = 0.1)\n",
    "results_fastdescent = fastgradalgo(X_train, y_train, eta = compute_eta(X_train, lam = 0.1), target = 10e-4, lam = 0.1)"
   ]
  },
  {
   "cell_type": "code",
   "execution_count": 10,
   "metadata": {},
   "outputs": [
    {
     "data": {
      "image/png": "[encoded data removed]",
      "text/plain": [
       "<Figure size 432x288 with 1 Axes>"
      ]
     },
     "metadata": {
      "needs_background": "light"
     },
     "output_type": "display_data"
    }
   ],
   "source": [
    "plt.plot(results_graddescent[1], label = \"gradient descent\")\n",
    "plt.plot(results_fastdescent[1], label = \"fast gradient descent\")\n",
    "plt.legend(bbox_to_anchor=(1.05, 1), loc=2, borderaxespad=0.)\n",
    "plt.ylabel('Log-scaled F-Value')\n",
    "plt.xlabel('Iteration (t)')\n",
    "plt.yscale('log')\n",
    "plt.show()"
   ]
  },
  {
   "cell_type": "code",
   "execution_count": 11,
   "metadata": {
    "scrolled": true
   },
   "outputs": [
    {
     "name": "stdout",
     "output_type": "stream",
     "text": [
      "Gradient descent took 99 iterations while fast gradient descent took only 57\n"
     ]
    }
   ],
   "source": [
    "print(\"Gradient descent took\",results_graddescent[0].shape[0],\n",
    "      \"iterations while fast gradient descent took only\",results_fastdescent[0].shape[0])"
   ]
  },
  {
   "cell_type": "markdown",
   "metadata": {},
   "source": [
    "Denote by $\\beta_T$ the final iterate of your fast gradient algorithm. Compare $\\beta_T$ to the $\\beta^{*}$ found by scikit-learn. Compare the objective value for $\\beta_T$ to the one for $\\beta^{*}$. What do you observe?"
   ]
  },
  {
   "cell_type": "code",
   "execution_count": 12,
   "metadata": {},
   "outputs": [],
   "source": [
    "beta_T = results_fastdescent[0][-1]"
   ]
  },
  {
   "cell_type": "code",
   "execution_count": 13,
   "metadata": {},
   "outputs": [
    {
     "name": "stderr",
     "output_type": "stream",
     "text": [
      "C:\\Users\\Will\\Anaconda3\\lib\\site-packages\\sklearn\\linear_model\\sag.py:334: ConvergenceWarning: The max_iter was reached which means the coef_ did not converge\n",
      "  \"the coef_ did not converge\", ConvergenceWarning)\n"
     ]
    },
    {
     "data": {
      "text/plain": [
       "LogisticRegression(C=10.0, class_weight=None, dual=False, fit_intercept=False,\n",
       "          intercept_scaling=1, max_iter=100, multi_class='warn',\n",
       "          n_jobs=None, penalty='l2', random_state=None, solver='saga',\n",
       "          tol=0.001, verbose=0, warm_start=False)"
      ]
     },
     "execution_count": 13,
     "metadata": {},
     "output_type": "execute_result"
    }
   ],
   "source": [
    "classifier = LogisticRegression(penalty='l2', dual=False, C=1/0.1, tol=10e-4, fit_intercept=False, solver='saga')\n",
    "classifier.fit(X_train, y_train)"
   ]
  },
  {
   "cell_type": "code",
   "execution_count": 14,
   "metadata": {
    "scrolled": false
   },
   "outputs": [
    {
     "data": {
      "text/html": [
       "<div>\n",
       "<style scoped>\n",
       "    .dataframe tbody tr th:only-of-type {\n",
       "        vertical-align: middle;\n",
       "    }\n",
       "\n",
       "    .dataframe tbody tr th {\n",
       "        vertical-align: top;\n",
       "    }\n",
       "\n",
       "    .dataframe thead th {\n",
       "        text-align: right;\n",
       "    }\n",
       "</style>\n",
       "<table border=\"1\" class=\"dataframe\">\n",
       "  <thead>\n",
       "    <tr style=\"text-align: right;\">\n",
       "      <th></th>\n",
       "      <th>fastgrad_betas</th>\n",
       "      <th>sklearn_betas</th>\n",
       "      <th>beta_diff</th>\n",
       "    </tr>\n",
       "  </thead>\n",
       "  <tbody>\n",
       "    <tr>\n",
       "      <th>0</th>\n",
       "      <td>0.029713</td>\n",
       "      <td>-0.044628</td>\n",
       "      <td>0.074341</td>\n",
       "    </tr>\n",
       "    <tr>\n",
       "      <th>1</th>\n",
       "      <td>-0.022302</td>\n",
       "      <td>-0.113361</td>\n",
       "      <td>0.091058</td>\n",
       "    </tr>\n",
       "    <tr>\n",
       "      <th>2</th>\n",
       "      <td>0.086928</td>\n",
       "      <td>0.097073</td>\n",
       "      <td>-0.010146</td>\n",
       "    </tr>\n",
       "    <tr>\n",
       "      <th>3</th>\n",
       "      <td>0.058870</td>\n",
       "      <td>0.484505</td>\n",
       "      <td>-0.425635</td>\n",
       "    </tr>\n",
       "    <tr>\n",
       "      <th>4</th>\n",
       "      <td>0.175014</td>\n",
       "      <td>0.437646</td>\n",
       "      <td>-0.262631</td>\n",
       "    </tr>\n",
       "    <tr>\n",
       "      <th>5</th>\n",
       "      <td>0.120720</td>\n",
       "      <td>0.138895</td>\n",
       "      <td>-0.018175</td>\n",
       "    </tr>\n",
       "    <tr>\n",
       "      <th>6</th>\n",
       "      <td>0.295621</td>\n",
       "      <td>1.440964</td>\n",
       "      <td>-1.145342</td>\n",
       "    </tr>\n",
       "    <tr>\n",
       "      <th>7</th>\n",
       "      <td>0.131526</td>\n",
       "      <td>0.224513</td>\n",
       "      <td>-0.092986</td>\n",
       "    </tr>\n",
       "    <tr>\n",
       "      <th>8</th>\n",
       "      <td>0.121934</td>\n",
       "      <td>0.174459</td>\n",
       "      <td>-0.052525</td>\n",
       "    </tr>\n",
       "    <tr>\n",
       "      <th>9</th>\n",
       "      <td>0.050707</td>\n",
       "      <td>0.032233</td>\n",
       "      <td>0.018473</td>\n",
       "    </tr>\n",
       "    <tr>\n",
       "      <th>10</th>\n",
       "      <td>0.138491</td>\n",
       "      <td>0.043833</td>\n",
       "      <td>0.094658</td>\n",
       "    </tr>\n",
       "    <tr>\n",
       "      <th>11</th>\n",
       "      <td>-0.038123</td>\n",
       "      <td>-0.108946</td>\n",
       "      <td>0.070823</td>\n",
       "    </tr>\n",
       "    <tr>\n",
       "      <th>12</th>\n",
       "      <td>0.056174</td>\n",
       "      <td>-0.018827</td>\n",
       "      <td>0.075000</td>\n",
       "    </tr>\n",
       "    <tr>\n",
       "      <th>13</th>\n",
       "      <td>0.032547</td>\n",
       "      <td>0.028285</td>\n",
       "      <td>0.004262</td>\n",
       "    </tr>\n",
       "    <tr>\n",
       "      <th>14</th>\n",
       "      <td>0.108993</td>\n",
       "      <td>0.450038</td>\n",
       "      <td>-0.341045</td>\n",
       "    </tr>\n",
       "    <tr>\n",
       "      <th>15</th>\n",
       "      <td>0.197340</td>\n",
       "      <td>0.466147</td>\n",
       "      <td>-0.268807</td>\n",
       "    </tr>\n",
       "    <tr>\n",
       "      <th>16</th>\n",
       "      <td>0.156930</td>\n",
       "      <td>0.361310</td>\n",
       "      <td>-0.204381</td>\n",
       "    </tr>\n",
       "    <tr>\n",
       "      <th>17</th>\n",
       "      <td>0.118656</td>\n",
       "      <td>0.094175</td>\n",
       "      <td>0.024481</td>\n",
       "    </tr>\n",
       "    <tr>\n",
       "      <th>18</th>\n",
       "      <td>0.115662</td>\n",
       "      <td>0.213679</td>\n",
       "      <td>-0.098017</td>\n",
       "    </tr>\n",
       "    <tr>\n",
       "      <th>19</th>\n",
       "      <td>0.129245</td>\n",
       "      <td>0.774318</td>\n",
       "      <td>-0.645073</td>\n",
       "    </tr>\n",
       "    <tr>\n",
       "      <th>20</th>\n",
       "      <td>0.235357</td>\n",
       "      <td>0.296203</td>\n",
       "      <td>-0.060846</td>\n",
       "    </tr>\n",
       "    <tr>\n",
       "      <th>21</th>\n",
       "      <td>0.101586</td>\n",
       "      <td>0.548833</td>\n",
       "      <td>-0.447247</td>\n",
       "    </tr>\n",
       "    <tr>\n",
       "      <th>22</th>\n",
       "      <td>0.250822</td>\n",
       "      <td>1.433576</td>\n",
       "      <td>-1.182753</td>\n",
       "    </tr>\n",
       "    <tr>\n",
       "      <th>23</th>\n",
       "      <td>0.153630</td>\n",
       "      <td>0.346286</td>\n",
       "      <td>-0.192656</td>\n",
       "    </tr>\n",
       "    <tr>\n",
       "      <th>24</th>\n",
       "      <td>-0.148467</td>\n",
       "      <td>-1.130345</td>\n",
       "      <td>0.981878</td>\n",
       "    </tr>\n",
       "    <tr>\n",
       "      <th>25</th>\n",
       "      <td>-0.104621</td>\n",
       "      <td>-0.432171</td>\n",
       "      <td>0.327550</td>\n",
       "    </tr>\n",
       "    <tr>\n",
       "      <th>26</th>\n",
       "      <td>-0.120967</td>\n",
       "      <td>-0.860777</td>\n",
       "      <td>0.739810</td>\n",
       "    </tr>\n",
       "    <tr>\n",
       "      <th>27</th>\n",
       "      <td>-0.034818</td>\n",
       "      <td>0.187117</td>\n",
       "      <td>-0.221935</td>\n",
       "    </tr>\n",
       "    <tr>\n",
       "      <th>28</th>\n",
       "      <td>-0.050048</td>\n",
       "      <td>-0.191855</td>\n",
       "      <td>0.141808</td>\n",
       "    </tr>\n",
       "    <tr>\n",
       "      <th>29</th>\n",
       "      <td>-0.075760</td>\n",
       "      <td>-0.198019</td>\n",
       "      <td>0.122259</td>\n",
       "    </tr>\n",
       "    <tr>\n",
       "      <th>30</th>\n",
       "      <td>-0.032925</td>\n",
       "      <td>-0.112610</td>\n",
       "      <td>0.079685</td>\n",
       "    </tr>\n",
       "    <tr>\n",
       "      <th>31</th>\n",
       "      <td>-0.013644</td>\n",
       "      <td>0.078841</td>\n",
       "      <td>-0.092485</td>\n",
       "    </tr>\n",
       "    <tr>\n",
       "      <th>32</th>\n",
       "      <td>-0.079288</td>\n",
       "      <td>-0.402333</td>\n",
       "      <td>0.323044</td>\n",
       "    </tr>\n",
       "    <tr>\n",
       "      <th>33</th>\n",
       "      <td>-0.016171</td>\n",
       "      <td>-0.044328</td>\n",
       "      <td>0.028157</td>\n",
       "    </tr>\n",
       "    <tr>\n",
       "      <th>34</th>\n",
       "      <td>-0.056882</td>\n",
       "      <td>-0.219963</td>\n",
       "      <td>0.163081</td>\n",
       "    </tr>\n",
       "    <tr>\n",
       "      <th>35</th>\n",
       "      <td>-0.003802</td>\n",
       "      <td>0.287956</td>\n",
       "      <td>-0.291758</td>\n",
       "    </tr>\n",
       "    <tr>\n",
       "      <th>36</th>\n",
       "      <td>-0.080537</td>\n",
       "      <td>-0.084026</td>\n",
       "      <td>0.003488</td>\n",
       "    </tr>\n",
       "    <tr>\n",
       "      <th>37</th>\n",
       "      <td>-0.022007</td>\n",
       "      <td>-0.001753</td>\n",
       "      <td>-0.020254</td>\n",
       "    </tr>\n",
       "    <tr>\n",
       "      <th>38</th>\n",
       "      <td>-0.057730</td>\n",
       "      <td>-0.178839</td>\n",
       "      <td>0.121109</td>\n",
       "    </tr>\n",
       "    <tr>\n",
       "      <th>39</th>\n",
       "      <td>0.015178</td>\n",
       "      <td>-0.062182</td>\n",
       "      <td>0.077360</td>\n",
       "    </tr>\n",
       "    <tr>\n",
       "      <th>40</th>\n",
       "      <td>-0.052173</td>\n",
       "      <td>-0.192387</td>\n",
       "      <td>0.140214</td>\n",
       "    </tr>\n",
       "    <tr>\n",
       "      <th>41</th>\n",
       "      <td>-0.096526</td>\n",
       "      <td>-0.609186</td>\n",
       "      <td>0.512661</td>\n",
       "    </tr>\n",
       "    <tr>\n",
       "      <th>42</th>\n",
       "      <td>-0.058606</td>\n",
       "      <td>-0.096795</td>\n",
       "      <td>0.038189</td>\n",
       "    </tr>\n",
       "    <tr>\n",
       "      <th>43</th>\n",
       "      <td>-0.066615</td>\n",
       "      <td>-0.352138</td>\n",
       "      <td>0.285523</td>\n",
       "    </tr>\n",
       "    <tr>\n",
       "      <th>44</th>\n",
       "      <td>-0.110694</td>\n",
       "      <td>-0.549366</td>\n",
       "      <td>0.438672</td>\n",
       "    </tr>\n",
       "    <tr>\n",
       "      <th>45</th>\n",
       "      <td>-0.110249</td>\n",
       "      <td>-0.677397</td>\n",
       "      <td>0.567148</td>\n",
       "    </tr>\n",
       "    <tr>\n",
       "      <th>46</th>\n",
       "      <td>-0.044859</td>\n",
       "      <td>-0.152278</td>\n",
       "      <td>0.107419</td>\n",
       "    </tr>\n",
       "    <tr>\n",
       "      <th>47</th>\n",
       "      <td>-0.059784</td>\n",
       "      <td>-0.385496</td>\n",
       "      <td>0.325711</td>\n",
       "    </tr>\n",
       "    <tr>\n",
       "      <th>48</th>\n",
       "      <td>-0.068232</td>\n",
       "      <td>-0.430084</td>\n",
       "      <td>0.361852</td>\n",
       "    </tr>\n",
       "    <tr>\n",
       "      <th>49</th>\n",
       "      <td>-0.032757</td>\n",
       "      <td>-0.076026</td>\n",
       "      <td>0.043268</td>\n",
       "    </tr>\n",
       "    <tr>\n",
       "      <th>50</th>\n",
       "      <td>-0.028192</td>\n",
       "      <td>-0.161174</td>\n",
       "      <td>0.132982</td>\n",
       "    </tr>\n",
       "    <tr>\n",
       "      <th>51</th>\n",
       "      <td>0.160121</td>\n",
       "      <td>0.363286</td>\n",
       "      <td>-0.203164</td>\n",
       "    </tr>\n",
       "    <tr>\n",
       "      <th>52</th>\n",
       "      <td>0.256384</td>\n",
       "      <td>1.580060</td>\n",
       "      <td>-1.323676</td>\n",
       "    </tr>\n",
       "    <tr>\n",
       "      <th>53</th>\n",
       "      <td>0.060360</td>\n",
       "      <td>0.566979</td>\n",
       "      <td>-0.506619</td>\n",
       "    </tr>\n",
       "    <tr>\n",
       "      <th>54</th>\n",
       "      <td>0.067043</td>\n",
       "      <td>0.335321</td>\n",
       "      <td>-0.268278</td>\n",
       "    </tr>\n",
       "    <tr>\n",
       "      <th>55</th>\n",
       "      <td>0.133637</td>\n",
       "      <td>0.907480</td>\n",
       "      <td>-0.773844</td>\n",
       "    </tr>\n",
       "    <tr>\n",
       "      <th>56</th>\n",
       "      <td>0.166404</td>\n",
       "      <td>0.443002</td>\n",
       "      <td>-0.276598</td>\n",
       "    </tr>\n",
       "  </tbody>\n",
       "</table>\n",
       "</div>"
      ],
      "text/plain": [
       "    fastgrad_betas  sklearn_betas  beta_diff\n",
       "0         0.029713      -0.044628   0.074341\n",
       "1        -0.022302      -0.113361   0.091058\n",
       "2         0.086928       0.097073  -0.010146\n",
       "3         0.058870       0.484505  -0.425635\n",
       "4         0.175014       0.437646  -0.262631\n",
       "5         0.120720       0.138895  -0.018175\n",
       "6         0.295621       1.440964  -1.145342\n",
       "7         0.131526       0.224513  -0.092986\n",
       "8         0.121934       0.174459  -0.052525\n",
       "9         0.050707       0.032233   0.018473\n",
       "10        0.138491       0.043833   0.094658\n",
       "11       -0.038123      -0.108946   0.070823\n",
       "12        0.056174      -0.018827   0.075000\n",
       "13        0.032547       0.028285   0.004262\n",
       "14        0.108993       0.450038  -0.341045\n",
       "15        0.197340       0.466147  -0.268807\n",
       "16        0.156930       0.361310  -0.204381\n",
       "17        0.118656       0.094175   0.024481\n",
       "18        0.115662       0.213679  -0.098017\n",
       "19        0.129245       0.774318  -0.645073\n",
       "20        0.235357       0.296203  -0.060846\n",
       "21        0.101586       0.548833  -0.447247\n",
       "22        0.250822       1.433576  -1.182753\n",
       "23        0.153630       0.346286  -0.192656\n",
       "24       -0.148467      -1.130345   0.981878\n",
       "25       -0.104621      -0.432171   0.327550\n",
       "26       -0.120967      -0.860777   0.739810\n",
       "27       -0.034818       0.187117  -0.221935\n",
       "28       -0.050048      -0.191855   0.141808\n",
       "29       -0.075760      -0.198019   0.122259\n",
       "30       -0.032925      -0.112610   0.079685\n",
       "31       -0.013644       0.078841  -0.092485\n",
       "32       -0.079288      -0.402333   0.323044\n",
       "33       -0.016171      -0.044328   0.028157\n",
       "34       -0.056882      -0.219963   0.163081\n",
       "35       -0.003802       0.287956  -0.291758\n",
       "36       -0.080537      -0.084026   0.003488\n",
       "37       -0.022007      -0.001753  -0.020254\n",
       "38       -0.057730      -0.178839   0.121109\n",
       "39        0.015178      -0.062182   0.077360\n",
       "40       -0.052173      -0.192387   0.140214\n",
       "41       -0.096526      -0.609186   0.512661\n",
       "42       -0.058606      -0.096795   0.038189\n",
       "43       -0.066615      -0.352138   0.285523\n",
       "44       -0.110694      -0.549366   0.438672\n",
       "45       -0.110249      -0.677397   0.567148\n",
       "46       -0.044859      -0.152278   0.107419\n",
       "47       -0.059784      -0.385496   0.325711\n",
       "48       -0.068232      -0.430084   0.361852\n",
       "49       -0.032757      -0.076026   0.043268\n",
       "50       -0.028192      -0.161174   0.132982\n",
       "51        0.160121       0.363286  -0.203164\n",
       "52        0.256384       1.580060  -1.323676\n",
       "53        0.060360       0.566979  -0.506619\n",
       "54        0.067043       0.335321  -0.268278\n",
       "55        0.133637       0.907480  -0.773844\n",
       "56        0.166404       0.443002  -0.276598"
      ]
     },
     "execution_count": 14,
     "metadata": {},
     "output_type": "execute_result"
    }
   ],
   "source": [
    "beta_comparison = pd.DataFrame(np.concatenate((beta_T,classifier.coef_.T),axis=1), columns = ['fastgrad_betas','sklearn_betas'])\n",
    "beta_comparison['beta_diff'] = beta_comparison['fastgrad_betas'] - beta_comparison['sklearn_betas']\n",
    "beta_comparison"
   ]
  },
  {
   "cell_type": "code",
   "execution_count": 15,
   "metadata": {},
   "outputs": [
    {
     "data": {
      "text/plain": [
       "array([0.45068687])"
      ]
     },
     "execution_count": 15,
     "metadata": {},
     "output_type": "execute_result"
    }
   ],
   "source": [
    "fastgrad_obj = results_fastdescent[1][-1]\n",
    "fastgrad_obj"
   ]
  },
  {
   "cell_type": "code",
   "execution_count": 16,
   "metadata": {},
   "outputs": [
    {
     "data": {
      "text/plain": [
       "array([0.97786854])"
      ]
     },
     "execution_count": 16,
     "metadata": {},
     "output_type": "execute_result"
    }
   ],
   "source": [
    "sklearn_obj = computeobj(X_train, y_train, classifier.coef_.T)\n",
    "sklearn_obj"
   ]
  },
  {
   "cell_type": "markdown",
   "metadata": {},
   "source": [
    "$\\beta_T$ is smaller than $\\beta_*$.  This could possibly be due to the type of solver being used or a different alpha/gamma."
   ]
  },
  {
   "cell_type": "markdown",
   "metadata": {},
   "source": [
    "Run cross-validation on the training set of the Spam dataset using _scikit-learn_ to find the optimal value of $\\lambda$. Run _graddescent_ and _fastgradalgo_ to optimize the objective with that value of $\\lambda$. Plot the curve of the objective values $F(\\beta_t)$ for both algorithms versus the iteration counter $t$. Plot the misclassification error on the training set for both algorithms versus the iteration counter $t$. Plot the misclassification error on the test set for both algorithms versus the iteration counter $t$. What do you observe?"
   ]
  },
  {
   "cell_type": "markdown",
   "metadata": {},
   "source": [
    "**[Come back to this]**"
   ]
  },
  {
   "cell_type": "code",
   "execution_count": 18,
   "metadata": {},
   "outputs": [
    {
     "data": {
      "text/plain": [
       "0.8992180712423979"
      ]
     },
     "execution_count": 18,
     "metadata": {},
     "output_type": "execute_result"
    }
   ],
   "source": [
    "classifier.score(X_test, y_test)"
   ]
  },
  {
   "cell_type": "markdown",
   "metadata": {},
   "source": [
    "***\n",
    "## Exercise 2"
   ]
  },
  {
   "cell_type": "markdown",
   "metadata": {},
   "source": [
    "Suppose we estimate the regression coefficients in a logistic regression model by minimizing"
   ]
  },
  {
   "cell_type": "markdown",
   "metadata": {},
   "source": [
    "$$F(\\beta):=\\frac{1}{n}\\sum_{i=1}^{n} log(1+exp(-y_ix_i^T\\beta)) + \\lambda\\lVert\\beta\\rVert_2^2$$"
   ]
  },
  {
   "cell_type": "markdown",
   "metadata": {},
   "source": [
    "for a particular value of $\\lambda$. For parts (a) through (b), indicate which of (i) through (v) is correct. Justify your answer."
   ]
  },
  {
   "cell_type": "markdown",
   "metadata": {},
   "source": [
    "&emsp;(a) As we increase $\\lambda$ from 0, the misclassification error on the test set will:  \n",
    "&emsp;&emsp;(i) Increase initially and then eventually start decreasing in an inverted U shape.  \n",
    "&emsp;&emsp;(ii) Decrease initially and then eventually start increasing in a U shape.  \n",
    "&emsp;&emsp;(iii) Steadily increase.  \n",
    "&emsp;&emsp;(iv) Steadily decrease.  \n",
    "&emsp;&emsp;(v) Remain constant.  "
   ]
  },
  {
   "cell_type": "markdown",
   "metadata": {},
   "source": [
    "**Answer**: (ii) Decrease initially and then eventually start increasing in a U-shape.  This is because the misclassification error  is an additive function of bias and variance where bias increases in an S-shape with $\\lambda$ and variance decreases in an S-shape with $\\lambda$. Due to this bias-variance trade-off, the error forms a U-shape with a minimum point for the optimal $\\lambda$."
   ]
  },
  {
   "cell_type": "markdown",
   "metadata": {},
   "source": [
    "&emsp;&emsp;(b) Repeat (a) for the misclassification error on the training set."
   ]
  },
  {
   "cell_type": "markdown",
   "metadata": {},
   "source": [
    "**[Come back to this]** I think this question is asking for a chart showing MSE, bias, and variance with $\\lambda$ on the x-axis"
   ]
  },
  {
   "cell_type": "markdown",
   "metadata": {},
   "source": [
    "***\n",
    "## Exercise 3\n",
    "In this exercise, you will use Amazon Web Services (AWS) to run a nearest neighbors algorithm on data from the Sloan Digital Sky Survey.  The goals of this exercise are:  \n",
    "&emsp;1. To teach you how to use AWS's Elastic Compute Cloud (EC2) and Simple Storage Service (S3)  \n",
    "&emsp;2. To show you that computing with GPUs can be much faster than computing with CPUs  \n",
    "&emsp;3. To demonstrate a fast algorithm for computing nearest neighbors (from [1])  \n",
    "\n",
    "**Background:** The Sloan Digital Sky Survey (SDSS) has gathered data on many objects in the sky. The data set you will use in this assignment consists of (1) a “training” set of pho- tometric data on known astronomical objects; and (2) a “test” set of additional photometric data on more objects. Astronomers often need to determine which objects in a new data set are worth further examination because their telescope time is very limited. By finding the nearest neighbors in the training set to each object in the test set, they can tell whether the object is interesting or not. For example, if an object in the test set is closest to sun-like stars, then they might find that one very boring and not follow up on it.  \n",
    "\n",
    "**Instructions:** Following the AWS tutorial for help, do the following:  \n",
    "&emsp;1. Create a p2.xlarge spot instance with the “Deep Learning AMI (Ubuntu) Version 22.0” AMI. If this instance type doesn’t work, try another one of the gpu instances. You need to use a GPU instance for this assignment.  \n",
    "\n",
    "&emsp;2. Install Swig and bufferkdtree on your instance.  \n",
    "\n",
    "&emsp;3. On your instance, run the astronomy example from here https://github.com/gieseke/bufferkdtree/tree/master/examples and save all of the output to the file “out- put.txt”. **Hint:** You will need to transfer both astronomy.py and generate.py on EC2. In addition, in the file astronomy.py you will need to change the line  \n",
    "plat dev ids = {0:[0 ,1 ,2 ,3]} to  \n",
    "plat dev ids = {0:[0]}  \n",
    "The data will automatically download the first time you run it **after user input**. Therefore, do not try to save the output to a file via > the first time you run it or else it will hang indefinitely. Either use the tee command (https://en.wikipedia. org/wiki/Tee_(command)), run the script once before using > or copy and paste the output to a file. If you are still having issues with it hanging when saving directly to a file, check the output file. It’s possible that it finished writing out the output.  \n",
    "\n",
    "&emsp;4. Transfer the file output.txt to an S3 bucket.  \n",
    "\n",
    "&emsp;Go t the S3 interface https://console.aws.amazon.com/s3/home?region=us-east-1 and make that file public.  \n",
    "\n",
    "&emsp;In your homework submission please include the following:  \n",
    "\n",
    "&emsp;&emsp;(a) The fitting and testing times on both the CPU and GPU versions. You can find these in the output.  \n",
    "\n",
    "&emsp;&emsp;(b) The url from the previous step (Check to make sure you successfully made it public!)  \n",
    "\n",
    "&emsp;&emsp;(c) A statement of any problems you encountered during this exercise and how you overcame them (or if you didn’t).  \n",
    "\n",
    "&emsp;&emsp;(d) How long it took you to complete this exercise (for our reference–we’re not grading you on how long it took).  "
   ]
  },
  {
   "cell_type": "markdown",
   "metadata": {},
   "source": [
    "***\n",
    "## Exercise 4\n",
    "Read the announcement “Data Competition, Part 1” released on Canvas. We strongly recommend you perform this task on AWS. You will use your own $\\ell_2^2$_-regularized logistic regression_ for this exercise. After completing this exercise, submit your predictions to the data competition Kaggle website.  \n",
    "\n",
    "&emsp;Download the data for the Kaggle competition. Run the script extract features.py to extract features from the images. This script was written in Python 3 and depends on the library PyTorch.  \n",
    "\n",
    "&emsp;Pick two classes of your choice from the dataset. Train an $\\ell_2^2$_-regularized logistic regression_ classifier on the training set using your own fast gradient algorithm with $\\lambda$ = 1. Be sure to use the features you generated above rather than the raw image features. Plot, with different colors, the _misclassification error_ on the training set and on the validation set vs iterations.  \n",
    "\n",
    "&emsp;Find the value of the regularization parameter $\\lambda$ using cross-validation; you may use scikit-learn’s built-in functions for this purpose. Train an $\\ell_2^2$_-regularized logistic regression_ classifier on the training set using your own fast gradient algorithm with that value of $\\lambda$ found by cross-validation. Plot, with different colors, the misclassification error on the training set and on the validation set vs iterations.  \n"
   ]
  },
  {
   "cell_type": "markdown",
   "metadata": {},
   "source": [
    "***\n",
    "## Exercise 5 (Optional)\n",
    "It is well-known that ridge regression tends to give similar coefficient values to correlated variables, whereas the lasso may give quite different coefficient values to correlated variables. We will now explore this property in a very simple setting.  \n",
    "\n",
    "Suppose that $n = 2, p = 2, x_11 = x_12, x_21 = x_22$. Furthermore, suppose that $y_1 + y_2 = 0$ and $x_11 + x_21 = 0$ and $x_12 + x_22 = 0$, so that the estimate for the intercept in a least squares, ridge regression, or lasso model is zero: $\\hat{β}_0 = 0$.  "
   ]
  },
  {
   "cell_type": "markdown",
   "metadata": {},
   "source": [
    "&emsp;(a) Write out the ridge regression optimization problem in this setting.  "
   ]
  },
  {
   "cell_type": "code",
   "execution_count": null,
   "metadata": {},
   "outputs": [],
   "source": []
  },
  {
   "cell_type": "markdown",
   "metadata": {},
   "source": [
    "&emsp;(b) Argue that in this setting, the ridge coefficient estimates satisfy $\\beta_1 = \\beta_2$.  "
   ]
  },
  {
   "cell_type": "code",
   "execution_count": null,
   "metadata": {},
   "outputs": [],
   "source": []
  }
 ],
 "metadata": {
  "kernelspec": {
   "display_name": "Python 3",
   "language": "python",
   "name": "python3"
  },
  "language_info": {
   "codemirror_mode": {
    "name": "ipython",
    "version": 3
   },
   "file_extension": ".py",
   "mimetype": "text/x-python",
   "name": "python",
   "nbconvert_exporter": "python",
   "pygments_lexer": "ipython3",
   "version": "3.7.1"
  }
 },
 "nbformat": 4,
 "nbformat_minor": 2
}
