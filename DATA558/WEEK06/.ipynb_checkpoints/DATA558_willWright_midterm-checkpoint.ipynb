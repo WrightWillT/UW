{
 "cells": [
  {
   "cell_type": "markdown",
   "metadata": {},
   "source": [
    "# DATA 558 Midterm\n",
    "\n",
    "Will Wright"
   ]
  },
  {
   "cell_type": "markdown",
   "metadata": {},
   "source": [
    "### Exercise 1"
   ]
  },
  {
   "cell_type": "markdown",
   "metadata": {},
   "source": [
    "**Instructions**  \n",
    "Compute the gradient $\\nabla F(\\beta)$ where the objective is:\n",
    "$$\\min_{\\mathbf{\\beta \\in \\mathbb{R}^d}} F(\\beta):=\\frac{1}{n}\\sum_{i=1}^{n} \\frac{1}{\\rho}log(1+exp(-\\rho y_ix_i^T\\beta)) + \\lambda\\lVert\\beta\\rVert_2^2$$"
   ]
  },
  {
   "cell_type": "markdown",
   "metadata": {},
   "source": [
    "**Solution**  \n",
    "Start by moving the scalar $\\frac{1}{\\rho}$ outside the summation:  \n",
    "$F(\\beta)=\\frac{1}{n\\rho}\\sum_{i=1}^{n} log(1+exp(-\\rho y_ix_i^T\\beta)) + \\lambda\\lVert\\beta\\rVert_2^2$\n",
    "\n",
    "Next, break up into two terms:  \n",
    "(1) $\\frac{1}{n\\rho}\\sum_{i=1}^{n} log(1+exp(-\\rho y_ix_i^T\\beta))$  \n",
    "(2) $\\lambda\\lVert \\beta\\rVert_2^2$ \n",
    "\n",
    "Find the derivative of the first term:  \n",
    "(1) $\\frac{\\partial}{\\partial \\beta}\\Big[\\frac{1}{n\\rho}\\sum_{i=1}^{n} log(1+exp(-\\rho y_ix_i^T\\beta))\\Big]$  \n",
    "  \n",
    "> Move the constant and summation to the outside of the derivative: \n",
    "$\\frac{1}{n\\rho}\\sum_{i=1}^{n}\\frac{\\partial}{\\partial \\beta}\\Big[ log(1+exp(-\\rho y_ix_i^T\\beta))\\Big]$ \n",
    "  \n",
    "> Use the chain rule with the following functions and their derivatives:  \n",
    "$(f\\circ g \\circ h) = log(g\\circ h)$  \n",
    "$(f\\circ g \\circ h)' = \\frac{1}{(g\\circ h)} \\cdot (g \\circ h)' $  \n",
    "$(g\\circ h) = 1+exp(-h)$  \n",
    "$(g\\circ h)' = -exp(-h)\\cdot h'$  \n",
    "$h = \\rho y_ix_i^T\\beta$  \n",
    "$h' = \\rho y_ix_i$  \n",
    "  \n",
    "> Putting the chains together, we have:  \n",
    "$(f\\circ g \\circ h)' = -\\rho y_ix_i \\cdot \\frac{exp(- \\rho y_ix_i^T\\beta)}{1+exp(-\\rho y_ix_i^T\\beta)}$\n",
    "  \n",
    "> Re-apply constant scalar and summation:  \n",
    "$=\\frac{1}{n\\rho}\\sum_{i=1}^{n}-\\rho y_ix_i \\cdot \\frac{exp(- \\rho y_ix_i^T\\beta)}{1+exp(-\\rho y_ix_i^T\\beta)}$\n",
    "\n",
    "> Move the constant $-\\rho$ outside the summation and cancel it out:\n",
    "$=-\\frac{1}{n}\\sum_{i=1}^{n}y_ix_i \\cdot \\frac{exp(- \\rho y_ix_i^T\\beta)}{1+exp(-\\rho y_ix_i^T\\beta)}$\n",
    "\n",
    "Next, derive the second term:  \n",
    "(2) $\\frac{\\partial}{\\partial \\beta}\\lambda\\lVert \\beta\\rVert_2^2$  \n",
    "  \n",
    "> Move the constant $\\lambda$ outside the derivation and convert to matrix form:  \n",
    "$ =\\lambda \\frac{\\partial}{\\partial \\beta}\\beta^T \\beta$\n",
    "  \n",
    "> Multiply by the identity matrix $I$:  \n",
    "$ =\\lambda \\frac{\\partial}{\\partial \\beta}\\beta^T I \\beta$\n",
    "  \n",
    "> Apply the property $\\frac{\\partial}{\\partial x}x^T Ax = (A+A^T)x$:  \n",
    "$ =\\lambda (I + I^T)\\beta$  \n",
    "  \n",
    "> Given that $(I + I^T)$ is simply a scalar of 2 for matrices, we can simplify:  \n",
    "\n",
    "> $=2\\lambda \\beta $  \n",
    "  \n",
    "Next, we add (1) and (2) to get:  \n",
    "$\\nabla F(\\beta) = -\\frac{1}{n}\\sum_{i=1}^{n}y_ix_i \\cdot \\frac{exp(- \\rho y_ix_i^T\\beta)}{1+exp(-\\rho y_ix_i^T\\beta)} + 2\\lambda \\beta$"
   ]
  },
  {
   "cell_type": "markdown",
   "metadata": {},
   "source": [
    "**Instructions**  \n",
    "Consider the Spam dataset from The Elements of Statistical Learning. Standardize the data, if you have not done so already. Be sure to use the training and test splits from the website."
   ]
  },
  {
   "cell_type": "code",
   "execution_count": 117,
   "metadata": {},
   "outputs": [],
   "source": [
    "# Load Packages\n",
    "import numpy as np\n",
    "import matplotlib.pyplot as plt\n",
    "import pandas as pd\n",
    "import sklearn.preprocessing\n",
    "import scipy.linalg\n",
    "from sklearn.linear_model import LogisticRegression\n",
    "\n",
    "spam = pd.read_table('https://web.stanford.edu/~hastie/ElemStatLearn/datasets/spam.data', \n",
    "                   delim_whitespace=True, header = None)\n",
    "test_indicator = pd.read_table('https://web.stanford.edu/~hastie/ElemStatLearn/datasets/spam.traintest',\n",
    "                         delim_whitespace=True, header = None)"
   ]
  },
  {
   "cell_type": "code",
   "execution_count": 100,
   "metadata": {},
   "outputs": [],
   "source": [
    "x = np.asarray(spam)[:, 0:-1]\n",
    "y = np.asarray(spam)[:, -1]*2 - 1\n",
    "test_indicator = np.array(test_indicator).T[0]\n",
    "\n",
    "# Divide the data into train, test sets\n",
    "x_train = x[test_indicator == 0, :]\n",
    "x_test = x[test_indicator == 1, :]\n",
    "y_train = y[test_indicator == 0]\n",
    "y_test = y[test_indicator == 1]\n",
    "\n",
    "# Standardize the data.\n",
    "scaler = sklearn.preprocessing.StandardScaler()\n",
    "scaler.fit(x_train)\n",
    "x_train = scaler.transform(x_train)\n",
    "x_test = scaler.transform(x_test)\n",
    "\n",
    "# Keep track of the number of samples and dimension of each sample\n",
    "n_train = len(y_train)\n",
    "n_test = len(y_test)\n",
    "d = np.size(x, 1)"
   ]
  },
  {
   "cell_type": "markdown",
   "metadata": {},
   "source": [
    "**Instructions**  \n",
    "Write a function _myrhologistic_ that implements the accelerated gradient algorithm to train the $\\ell_2^2$-regularized binary logistic regression with $\\rho$-logistic loss. The function takes as input\n",
    "the initial step-size for the backtracking rule, the $\\epsilon$ for the stopping criterion based on the norm of the gradient of the objective, and the value of $\\rho$."
   ]
  },
  {
   "cell_type": "code",
   "execution_count": 243,
   "metadata": {},
   "outputs": [],
   "source": [
    "# Subroutines for myrhologistic to call:\n",
    "\n",
    "# rho logistic gradient\n",
    "def computegrad(beta, lamb, rho, x, y):\n",
    "    yx = y[:, np.newaxis]*x\n",
    "    denom = 1+np.exp(-rho*yx.dot(beta))\n",
    "    grad = -1/len(y)*np.sum(yx*np.exp(-rho*yx.dot(beta[:, np.newaxis]))/\n",
    "        denom[:, np.newaxis], axis=0) + 2*lamb*beta\n",
    "    return grad\n",
    "\n",
    "# rho logistic objective\n",
    "def computeobj(beta, lamb, rho, x, y):\n",
    "    return 1/len(y) * np.sum(1/rho*np.log(1 + np.exp(-rho*y*x.dot(beta)))) + lamb*np.linalg.norm(beta)**2\n",
    "\n",
    "# backtracking with rho logistic\n",
    "def backtracking(beta, lamb, rho, x, y, eta, alpha=0.5, gamma=0.8):\n",
    "    grad_beta = computegrad(beta, lamb, rho, x, y)\n",
    "    norm_grad_beta = np.linalg.norm(grad_beta)\n",
    "    found_eta = False\n",
    "    iter = 0\n",
    "    while found_eta == False:\n",
    "        if computeobj(beta - eta * grad_beta, lamb, rho, x, y) < \\\n",
    "            computeobj(beta, lamb, rho, x, y)- alpha * eta * norm_grad_beta ** 2:\n",
    "                found_eta = True\n",
    "        else:\n",
    "            eta *= gamma\n",
    "            iter += 1\n",
    "    return eta"
   ]
  },
  {
   "cell_type": "code",
   "execution_count": 259,
   "metadata": {},
   "outputs": [],
   "source": [
    "def computeEtaInit(x, y, lamb):\n",
    "    eta_init = 1/(scipy.linalg.eigh(1/len(y)*x.T.dot(x),\n",
    "                                eigvals=(d-1, d-1),\n",
    "                                eigvals_only=True)[0]+lamb)\n",
    "    return eta_init"
   ]
  },
  {
   "cell_type": "code",
   "execution_count": 309,
   "metadata": {},
   "outputs": [],
   "source": [
    "def myrhologistic(x, y, beta_init, theta_init, lamduh, rho, eta_init, eps):\n",
    "    beta = beta_init\n",
    "    theta = theta_init\n",
    "    eta = eta_init\n",
    "    grad_theta = computegrad(theta, lamb, rho, x, y)\n",
    "    grad_beta = computegrad(beta, lamb, rho, x, y)\n",
    "    beta_vals = beta\n",
    "    theta_vals = theta\n",
    "    iter = 0\n",
    "    while np.linalg.norm(grad_beta) > eps:\n",
    "        eta = backtracking(theta, lamb, rho, x, y, eta)\n",
    "        beta_new = theta - eta*grad_theta\n",
    "        theta = beta_new + iter/(iter+3)*(beta_new-beta)\n",
    "        beta_vals = np.vstack((beta_vals, beta))\n",
    "        theta_vals = np.vstack((theta_vals, theta))\n",
    "        grad_theta = computegrad(theta, lamb, rho, x, y)\n",
    "        grad_beta = computegrad(beta, lamb, rho, x, y)\n",
    "        beta = beta_new\n",
    "        iter += 1\n",
    "    return beta_vals"
   ]
  },
  {
   "cell_type": "markdown",
   "metadata": {},
   "source": [
    "**Instructions**  \n",
    "Train your $\\ell_2^2$-regularized binary logistic regression with $\\rho$-logistic loss with $\\rho=2$ and $\\epsilon=10^{-3}$ o the Spam dataset for $\\lambda=1$. Report your misclassification error for this value of $\\lambda$."
   ]
  },
  {
   "cell_type": "code",
   "execution_count": 261,
   "metadata": {},
   "outputs": [],
   "source": [
    "# initialize parameters\n",
    "rho = 2\n",
    "eps = 10**-3\n",
    "lamb = 1\n",
    "beta_init = np.zeros(d)\n",
    "theta_init = np.zeros(d)\n",
    "eta_init = computeEtaInit(x_train, y_train, lamb)"
   ]
  },
  {
   "cell_type": "code",
   "execution_count": 310,
   "metadata": {
    "scrolled": true
   },
   "outputs": [],
   "source": [
    "train_betas = myrhologistic(x_train, y_train, beta_init, theta_init, lamb, rho, eta_init, eps)"
   ]
  },
  {
   "cell_type": "code",
   "execution_count": 311,
   "metadata": {},
   "outputs": [],
   "source": [
    "beta_opt = train_betas[-1,:]"
   ]
  },
  {
   "cell_type": "code",
   "execution_count": 312,
   "metadata": {},
   "outputs": [],
   "source": [
    "def compute_error(x, y, beta):\n",
    "    y_pred = 1/(1+np.exp(-x.dot(beta))) > 0.5\n",
    "    y_pred = y_pred*2 - 1 # Convert to +/- 1\n",
    "    return np.mean(y_pred != y)"
   ]
  },
  {
   "cell_type": "code",
   "execution_count": 313,
   "metadata": {},
   "outputs": [
    {
     "data": {
      "text/plain": [
       "0.09526916802610114"
      ]
     },
     "execution_count": 313,
     "metadata": {},
     "output_type": "execute_result"
    }
   ],
   "source": [
    "compute_error(x_train, y_train, beta_opt)"
   ]
  },
  {
   "cell_type": "markdown",
   "metadata": {},
   "source": [
    "**Instructions**  \n",
    "Write a function _crossval_ that implements leave-one-out cross-validation and hold-out cross-validation. You may either write a function that implements each variant separately depending on the case, or write a general cross-validation function that can be instantiated in each case."
   ]
  },
  {
   "cell_type": "code",
   "execution_count": 485,
   "metadata": {},
   "outputs": [],
   "source": [
    "def loocv(x, y, lamb, rho, eps):\n",
    "    n, d = x.shape\n",
    "    beta_init = np.zeros(d)\n",
    "    theta_init = np.zeros(d)\n",
    "    errors = []\n",
    "    for i in range(n):\n",
    "        x_loo = np.vstack((x[0:i,:],x[(i+1):,:]))\n",
    "        y_loo = np.concatenate([y[0:i],y[(i+1):]])\n",
    "        eta_init = computeEtaInit(x_loo, y_loo, lamb)\n",
    "        loo_betas = myrhologistic(x_loo, y_loo, beta_init, theta_init, lamb, rho, eta_init, eps)\n",
    "        loo_beta_opt = loo_betas[-1,:]\n",
    "        errors.append(compute_error(x_train, y_train, loo_beta_opt))\n",
    "    return np.sum(errors)/n\n",
    "    "
   ]
  },
  {
   "cell_type": "code",
   "execution_count": 486,
   "metadata": {},
   "outputs": [],
   "source": [
    "def hocv(x, y, lamb, eps, rho, test_size = 0.2):\n",
    "    x_train, x_test, y_train, y_test = train_test_split(x, y, test_size = test_size)\n",
    "    d = x_train.shape[1]\n",
    "    beta_init = np.zeros(d)\n",
    "    theta_init = np.zeros(d)\n",
    "    eta_init = computeEtaInit(x_train, y_train, lamb)\n",
    "    ho_betas = myrhologistic(x_train, y_train, beta_init, theta_init, lamb, rho, eta_init, eps)\n",
    "    ho_beta_opt = ho_betas[-1,:]\n",
    "    error = compute_error(x_test, y_test, ho_beta_opt)\n",
    "    return error"
   ]
  },
  {
   "cell_type": "markdown",
   "metadata": {},
   "source": [
    "**Instructions**  \n",
    "Find the optimal value of $\\lambda$ using leave-one-out cross-validation.  Find the optimal value of $\\lambda$ useing hold-out cross-validation with a 80%/20% split for the training set/testing set.  Report your misclassification errors for the two values of $\\lambda$ found."
   ]
  },
  {
   "cell_type": "code",
   "execution_count": 487,
   "metadata": {},
   "outputs": [],
   "source": [
    "lamb_vals = []\n",
    "for i in range(-3,3):\n",
    "    lamb_vals.append(10**i) # testing very small to very large\n",
    "# lamb_vals.extend(np.linspace(0,2,21)) # after seeing 1 be optimal, testing values around 1"
   ]
  },
  {
   "cell_type": "code",
   "execution_count": 488,
   "metadata": {},
   "outputs": [],
   "source": [
    "def compute_lamb_opt(x, y, lamb_vals, eps, rho, method, test_size = 0.2):\n",
    "    if method=='loocv':\n",
    "        errors = []\n",
    "        for lamb in lamb_vals:\n",
    "            error = loocv(x, y, lamb, rho, eps)\n",
    "            errors.append(error)\n",
    "        minpos = errors.index(min(errors))\n",
    "        lamb_opt = lamb_vals[minpos]\n",
    "        return lamb_opt\n",
    "    if method=='hocv':\n",
    "        errors = []\n",
    "        for lamb in lamb_vals:\n",
    "            error = hocv(x, y, lamb, eps, rho, test_size)\n",
    "            errors.append(error)\n",
    "        minpos = errors.index(min(errors))\n",
    "        lamb_opt = lamb_vals[minpos]\n",
    "        return lamb_opt\n",
    "    else:\n",
    "        print('Unknown method')"
   ]
  },
  {
   "cell_type": "code",
   "execution_count": 419,
   "metadata": {},
   "outputs": [],
   "source": [
    "loocv_lamb_opt = compute_lamb_opt(x_train, y_train, lamb_vals, eps, rho, method = 'loocv')\n",
    "loocv_error = loocv(x_train, y_train, loocv_lamb_opt, rho, eps)\n",
    "print('Leave-one-out optimal lambda is: ',loocv_lamb_opt)\n",
    "print('Leave-one-out misclassification rate: ',loocv_error)"
   ]
  },
  {
   "cell_type": "code",
   "execution_count": 490,
   "metadata": {},
   "outputs": [
    {
     "name": "stdout",
     "output_type": "stream",
     "text": [
      "80/20 Hold-out optimal lambda is:  0.1\n",
      "80/20 Hold-out misclassification rate:  0.0\n"
     ]
    }
   ],
   "source": [
    "hocv_lamb_opt = compute_lamb_opt(x_train, y_train, lamb_vals, eps, rho, method = 'hocv')\n",
    "hocv_error = hocv(x_train, y_train, hocv_lamb_opt, eps, rho, test_size = 0.2)\n",
    "print('80/20 Hold-out optimal lambda is: ',hocv_lamb_opt)\n",
    "print('80/20 Hold-out misclassification rate: ',hocv_error)\n"
   ]
  },
  {
   "cell_type": "markdown",
   "metadata": {},
   "source": [
    "# Exercise 2 - Data Competition Project"
   ]
  },
  {
   "cell_type": "markdown",
   "metadata": {},
   "source": [
    "**Instructions**  \n",
    "Pick two classes of your choice from the dataset. Train a classifier using $\\ell_2^2$-regularized binary\n",
    "logistic regression with $\\rho$-logistic loss on the training set using your own accelerated gradient algorithm with $\\rho = 2$, $\\epsilon = 10^{−3}$, and $\\lambda = 1$. Be sure to use the features you previously generated with the provided script rather than the raw image features. Plot, with different colors, the misclassification error on the training set and on the validation set vs iterations."
   ]
  },
  {
   "cell_type": "code",
   "execution_count": 491,
   "metadata": {},
   "outputs": [],
   "source": [
    "# Load data (if on Windows)\n",
    "# x_train = np.load('C:/Users/Will/Documents/data_competition1_files/train_features.npy')\n",
    "# y_train = np.load('C:/Users/Will/Documents/data_competition1_files/train_labels.npy')\n",
    "# x_val = np.load('C:/Users/Will/Documents/data_competition1_files/val_features.npy')\n",
    "# y_val = np.load('C:/Users/Will/Documents/data_competition1_files/val_labels.npy')\n",
    "\n",
    "# Load data (if on Mac)\n",
    "x_train_raw = np.load('/Users/willwright/Downloads/data_competition1_files/train_features.npy')\n",
    "y_train_raw = np.load('/Users/willwright/Downloads/data_competition1_files/train_labels.npy')\n",
    "x_val_raw = np.load('/Users/willwright/Downloads/data_competition1_files/val_features.npy')\n",
    "y_val_raw = np.load('/Users/willwright/Downloads/data_competition1_files/val_labels.npy')"
   ]
  },
  {
   "cell_type": "code",
   "execution_count": 492,
   "metadata": {},
   "outputs": [],
   "source": [
    "# Subset of data (selecting group 5 and 9)\n",
    "class1 = 5\n",
    "class2 = 9\n",
    "train_ids = np.array([np.where(y_train_raw==class1),np.where(y_train_raw==class2)]).reshape(-1)\n",
    "x_train = x_train_raw[train_ids]\n",
    "y_train = y_train_raw[train_ids]\n",
    "val_ids = np.array([np.where(y_val_raw==class1),np.where(y_val_raw==class2)]).reshape(-1)\n",
    "x_val = x_val_raw[val_ids]\n",
    "y_val = y_val_raw[val_ids]"
   ]
  },
  {
   "cell_type": "code",
   "execution_count": 493,
   "metadata": {},
   "outputs": [],
   "source": [
    "# change indicators from the original classes to +1/-1\n",
    "y_train[y_train==class1] = 1\n",
    "y_train[y_train==class2] = -1\n",
    "y_val[y_val==class1] = 1\n",
    "y_val[y_val==class2] = -1"
   ]
  },
  {
   "cell_type": "code",
   "execution_count": 494,
   "metadata": {},
   "outputs": [],
   "source": [
    "# Standardize\n",
    "x_standardizer = preprocessing.StandardScaler()\n",
    "x_train = x_standardizer.fit_transform(x_train)\n",
    "x_val = x_standardizer.fit_transform(x_val)"
   ]
  },
  {
   "cell_type": "code",
   "execution_count": 495,
   "metadata": {},
   "outputs": [],
   "source": [
    "# Initialize parameters\n",
    "n, d = x_train.shape\n",
    "rho = 2\n",
    "eps = 10**-3\n",
    "lamb = 1\n",
    "beta_init = np.zeros(d)\n",
    "theta_init = np.zeros(d)\n",
    "eta_init = computeEtaInit(x_train, y_train, lamb)"
   ]
  },
  {
   "cell_type": "code",
   "execution_count": 496,
   "metadata": {},
   "outputs": [],
   "source": [
    "# Train Model\n",
    "kaggle_betas = myrhologistic(x_train, y_train, beta_init, theta_init, lamb, rho, eta_init, eps)"
   ]
  },
  {
   "cell_type": "code",
   "execution_count": 497,
   "metadata": {},
   "outputs": [],
   "source": [
    "def plot_misclassification_errors(x_train, y_train, x_val, y_val, betas):\n",
    "    iterations = betas.shape[0]\n",
    "    train_errors = []\n",
    "    val_errors = []\n",
    "    for i in range(iterations):\n",
    "        train_error = compute_error(x_train, y_train, betas[i,:])\n",
    "        train_errors.append(train_error)\n",
    "        val_error = compute_error(x_val, y_val, betas[i,:])\n",
    "        val_errors.append(val_error)\n",
    "    plt.plot(train_errors, color = \"blue\")\n",
    "    plt.plot(val_errors, color = \"red\")\n",
    "    plt.ylabel(\"Misclassification Rate\")\n",
    "    plt.xlabel(\"Iterations\")\n",
    "    plt.title(\"Misclassification Rates by Iteration\")\n",
    "    plt.legend([\"Training Data\", \"Validation Data\"])\n",
    "    plt.show()"
   ]
  },
  {
   "cell_type": "code",
   "execution_count": 498,
   "metadata": {
    "scrolled": true
   },
   "outputs": [
    {
     "data": {
      "image/png": "[encoded data removed]",
      "text/plain": [
       "<Figure size 432x288 with 1 Axes>"
      ]
     },
     "metadata": {
      "needs_background": "light"
     },
     "output_type": "display_data"
    }
   ],
   "source": [
    "# Plot misclassification error on the training set by iteration\n",
    "plot_misclassification_errors(x_train, y_train, x_val, y_val, kaggle_betas)"
   ]
  },
  {
   "cell_type": "code",
   "execution_count": 499,
   "metadata": {},
   "outputs": [
    {
     "name": "stdout",
     "output_type": "stream",
     "text": [
      "Training Misclassificaiton Rate:  0.001\n",
      "Validation Misclassificaiton Rate:  0.005\n"
     ]
    }
   ],
   "source": [
    "print('Training Misclassificaiton Rate: ',compute_error(x_train, y_train, kaggle_betas[-1,:]))\n",
    "print('Validation Misclassificaiton Rate: ',compute_error(x_val, y_val, kaggle_betas[-1,:]))"
   ]
  },
  {
   "cell_type": "markdown",
   "metadata": {},
   "source": [
    "**Instructions**  \n",
    "Find the value of the regularization parameter $\\lambda$ using using leave-one-out cross-validation. Find the value of the regularization parameter $\\lambda$ using using hold-out cross-validation. Train a classifier using $\\ell_2^2$-regularized binary logistic regression with $\\rho$-logistic loss on the training set using your own accelerated gradient algorithm with that value of $\\lambda$ found by hold-out cross-validation. Plot, with different colors, the misclassification error on the training set and on the validation set vs. iterations."
   ]
  },
  {
   "cell_type": "markdown",
   "metadata": {},
   "source": [
    "#### LOOCV"
   ]
  },
  {
   "cell_type": "code",
   "execution_count": null,
   "metadata": {},
   "outputs": [],
   "source": [
    "loocv_lamb_opt = compute_lamb_opt(x_train, y_train, lamb_vals, eps, rho, method = 'loocv')\n",
    "loocv_error = loocv(x_train, y_train, loocv_lamb_opt, rho, eps)\n",
    "print('Leave-one-out optimal lambda is: ',loocv_lamb_opt)\n",
    "print('Leave-one-out misclassification rate: ',loocv_error)"
   ]
  },
  {
   "cell_type": "code",
   "execution_count": null,
   "metadata": {},
   "outputs": [],
   "source": [
    "# Train model with ideal lambda, as computed by LOOCV\n",
    "loocv_lamb_opt_betas = myrhologistic(x_train, y_train, beta_init, theta_init, locv_lamb_opt, rho, eta_init, eps)"
   ]
  },
  {
   "cell_type": "code",
   "execution_count": null,
   "metadata": {},
   "outputs": [],
   "source": [
    "plot_misclassification_errors(x_train, y_train, x_val, y_val, loocv_lamb_opt_betas)"
   ]
  },
  {
   "cell_type": "code",
   "execution_count": null,
   "metadata": {},
   "outputs": [],
   "source": [
    "print('Training Misclassificaiton Rate: ',compute_error(x_train, y_train, loocv_lamb_opt_betas[-1,:]))\n",
    "print('Validation Misclassificaiton Rate: ',compute_error(x_val, y_val, loocv_lamb_opt_betas[-1,:]))"
   ]
  },
  {
   "cell_type": "markdown",
   "metadata": {},
   "source": [
    "#### HOCV"
   ]
  },
  {
   "cell_type": "code",
   "execution_count": 501,
   "metadata": {},
   "outputs": [
    {
     "name": "stdout",
     "output_type": "stream",
     "text": [
      "80/20 Hold-out optimal lambda is:  0.001\n",
      "80/20 Hold-out misclassification rate:  0.015\n"
     ]
    }
   ],
   "source": [
    "hocv_lamb_opt = compute_lamb_opt(x_train, y_train, lamb_vals, eps, rho, method = 'hocv')\n",
    "hocv_error = hocv(x_train, y_train, hocv_lamb_opt, eps, rho, test_size = 0.2)\n",
    "print('80/20 Hold-out optimal lambda is: ',hocv_lamb_opt)\n",
    "print('80/20 Hold-out misclassification rate: ',hocv_error)"
   ]
  },
  {
   "cell_type": "code",
   "execution_count": 502,
   "metadata": {},
   "outputs": [],
   "source": [
    "# Train model with ideal lambda, as computed by HOCV\n",
    "hocv_lamb_opt_betas = myrhologistic(x_train, y_train, beta_init, theta_init, hocv_lamb_opt, rho, eta_init, eps)"
   ]
  },
  {
   "cell_type": "code",
   "execution_count": 503,
   "metadata": {
    "scrolled": true
   },
   "outputs": [
    {
     "data": {
      "image/png": "[encoded data removed]",
      "text/plain": [
       "<Figure size 432x288 with 1 Axes>"
      ]
     },
     "metadata": {
      "needs_background": "light"
     },
     "output_type": "display_data"
    }
   ],
   "source": [
    "plot_misclassification_errors(x_train, y_train, x_val, y_val, hocv_lamb_opt_betas)"
   ]
  },
  {
   "cell_type": "code",
   "execution_count": 504,
   "metadata": {},
   "outputs": [
    {
     "name": "stdout",
     "output_type": "stream",
     "text": [
      "Training Misclassificaiton Rate:  0.001\n",
      "Validation Misclassificaiton Rate:  0.005\n"
     ]
    }
   ],
   "source": [
    "print('Training Misclassificaiton Rate: ',compute_error(x_train, y_train, hocv_lamb_opt_betas[-1,:]))\n",
    "print('Validation Misclassificaiton Rate: ',compute_error(x_val, y_val, hocv_lamb_opt_betas[-1,:]))"
   ]
  },
  {
   "cell_type": "markdown",
   "metadata": {},
   "source": [
    "**Instructions**  \n",
    "Consider all pairs of classes from the dataset. For each pair of classes, train a classifier using\n",
    "a $\\ell_2^2$-regularized binary logistic regression with $\\rho$-logistic loss on the training set comprising\n",
    "only the data-points for that pair of classes using your own fast gradient algorithm. For each\n",
    "pair of classes, find the value of the regularization parameter $\\lambda$ using hold-out cross-validation\n",
    "on the training set comprising only the data-points for that pair of classes."
   ]
  },
  {
   "cell_type": "code",
   "execution_count": 509,
   "metadata": {
    "scrolled": true
   },
   "outputs": [],
   "source": [
    "class_possibilities = np.unique(y_train_raw)\n",
    "n_classes = len(class_possibilities)"
   ]
  },
  {
   "cell_type": "code",
   "execution_count": 508,
   "metadata": {},
   "outputs": [],
   "source": [
    "import operator as op\n",
    "from functools import reduce\n",
    "\n",
    "def ncr(n, r):\n",
    "    r = min(r, n-r)\n",
    "    numer = reduce(op.mul, range(n, n-r, -1), 1)\n",
    "    denom = reduce(op.mul, range(1, r+1), 1)\n",
    "    return numer / denom"
   ]
  },
  {
   "cell_type": "code",
   "execution_count": 514,
   "metadata": {},
   "outputs": [],
   "source": [
    "possible_pairs = int(ncr(n_classes, 2))"
   ]
  },
  {
   "cell_type": "code",
   "execution_count": 515,
   "metadata": {},
   "outputs": [],
   "source": [
    "all_pairs = np.zeros((possible_pairs,2))"
   ]
  },
  {
   "cell_type": "code",
   "execution_count": 526,
   "metadata": {},
   "outputs": [
    {
     "data": {
      "text/plain": [
       "array([1., 1.])"
      ]
     },
     "execution_count": 526,
     "metadata": {},
     "output_type": "execute_result"
    }
   ],
   "source": [
    "i = 1\n",
    "j = 1\n",
    "all_pairs[i,:] = i\n",
    "all_pairs[i,:]"
   ]
  },
  {
   "cell_type": "code",
   "execution_count": 522,
   "metadata": {
    "scrolled": true
   },
   "outputs": [
    {
     "ename": "SyntaxError",
     "evalue": "invalid syntax (<ipython-input-522-52348eaa20c9>, line 3)",
     "output_type": "error",
     "traceback": [
      "\u001b[0;36m  File \u001b[0;32m\"<ipython-input-522-52348eaa20c9>\"\u001b[0;36m, line \u001b[0;32m3\u001b[0m\n\u001b[0;31m    for j in range(possible_pairs:\u001b[0m\n\u001b[0m                                 ^\u001b[0m\n\u001b[0;31mSyntaxError\u001b[0m\u001b[0;31m:\u001b[0m invalid syntax\n"
     ]
    }
   ],
   "source": [
    "for i in range(possible_pairs):\n",
    "    all_pairs[i,:]\n",
    "    for j in range(possible_pairs:\n"
   ]
  },
  {
   "cell_type": "code",
   "execution_count": 529,
   "metadata": {},
   "outputs": [
    {
     "name": "stdout",
     "output_type": "stream",
     "text": [
      "(0, 0)\n",
      "(0, 1)\n",
      "(0, 2)\n",
      "(0, 3)\n",
      "(0, 4)\n",
      "(0, 5)\n",
      "(0, 6)\n",
      "(0, 7)\n",
      "(0, 8)\n",
      "(0, 9)\n",
      "(1, 0)\n",
      "(1, 1)\n",
      "(1, 2)\n",
      "(1, 3)\n",
      "(1, 4)\n",
      "(1, 5)\n",
      "(1, 6)\n",
      "(1, 7)\n",
      "(1, 8)\n",
      "(1, 9)\n",
      "(2, 0)\n",
      "(2, 1)\n",
      "(2, 2)\n",
      "(2, 3)\n",
      "(2, 4)\n",
      "(2, 5)\n",
      "(2, 6)\n",
      "(2, 7)\n",
      "(2, 8)\n",
      "(2, 9)\n",
      "(3, 0)\n",
      "(3, 1)\n",
      "(3, 2)\n",
      "(3, 3)\n",
      "(3, 4)\n",
      "(3, 5)\n",
      "(3, 6)\n",
      "(3, 7)\n",
      "(3, 8)\n",
      "(3, 9)\n",
      "(4, 0)\n",
      "(4, 1)\n",
      "(4, 2)\n",
      "(4, 3)\n",
      "(4, 4)\n",
      "(4, 5)\n",
      "(4, 6)\n",
      "(4, 7)\n",
      "(4, 8)\n",
      "(4, 9)\n",
      "(5, 0)\n",
      "(5, 1)\n",
      "(5, 2)\n",
      "(5, 3)\n",
      "(5, 4)\n",
      "(5, 5)\n",
      "(5, 6)\n",
      "(5, 7)\n",
      "(5, 8)\n",
      "(5, 9)\n",
      "(6, 0)\n",
      "(6, 1)\n",
      "(6, 2)\n",
      "(6, 3)\n",
      "(6, 4)\n",
      "(6, 5)\n",
      "(6, 6)\n",
      "(6, 7)\n",
      "(6, 8)\n",
      "(6, 9)\n",
      "(7, 0)\n",
      "(7, 1)\n",
      "(7, 2)\n",
      "(7, 3)\n",
      "(7, 4)\n",
      "(7, 5)\n",
      "(7, 6)\n",
      "(7, 7)\n",
      "(7, 8)\n",
      "(7, 9)\n",
      "(8, 0)\n",
      "(8, 1)\n",
      "(8, 2)\n",
      "(8, 3)\n",
      "(8, 4)\n",
      "(8, 5)\n",
      "(8, 6)\n",
      "(8, 7)\n",
      "(8, 8)\n",
      "(8, 9)\n",
      "(9, 0)\n",
      "(9, 1)\n",
      "(9, 2)\n",
      "(9, 3)\n",
      "(9, 4)\n",
      "(9, 5)\n",
      "(9, 6)\n",
      "(9, 7)\n",
      "(9, 8)\n",
      "(9, 9)\n"
     ]
    }
   ],
   "source": [
    "import itertools\n",
    "\n",
    "iterables = [class_possibilities, class_possibilities]\n",
    "\n",
    "for t in itertools.product(*iterables):\n",
    "    print(t)"
   ]
  },
  {
   "cell_type": "markdown",
   "metadata": {},
   "source": [
    "**Instructions**  \n",
    "Write a function that for any new data point predicts its label. To do this, you will perform the following: input the data point into each classifier (for each pair of classes) you trained above. Record the class predicted by each classifier. Then your prediction for this data point is the most frequently predicted class. If there is a tie, randomly choose between the tied classes. Report the misclassification error on the validation set and test set. Report the precision/recall on the validation set.\n"
   ]
  },
  {
   "cell_type": "code",
   "execution_count": null,
   "metadata": {},
   "outputs": [],
   "source": []
  }
 ],
 "metadata": {
  "kernelspec": {
   "display_name": "Python 3",
   "language": "python",
   "name": "python3"
  },
  "language_info": {
   "codemirror_mode": {
    "name": "ipython",
    "version": 3
   },
   "file_extension": ".py",
   "mimetype": "text/x-python",
   "name": "python",
   "nbconvert_exporter": "python",
   "pygments_lexer": "ipython3",
   "version": "3.7.1"
  }
 },
 "nbformat": 4,
 "nbformat_minor": 2
}
