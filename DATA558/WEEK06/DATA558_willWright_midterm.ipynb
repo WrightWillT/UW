{
 "cells": [
  {
   "cell_type": "markdown",
   "metadata": {},
   "source": [
    "# DATA 558 Midterm\n",
    "\n",
    "Will Wright"
   ]
  },
  {
   "cell_type": "markdown",
   "metadata": {},
   "source": [
    "### Exercise 1"
   ]
  },
  {
   "cell_type": "markdown",
   "metadata": {},
   "source": [
    "**Instructions**  \n",
    "Compute the gradient $\\nabla F(\\beta)$ where the objective is:\n",
    "$$\\min_{\\mathbf{\\beta \\in \\mathbb{R}^d}} F(\\beta):=\\frac{1}{n}\\sum_{i=1}^{n} \\frac{1}{\\rho}log(1+exp(-\\rho y_ix_i^T\\beta)) + \\lambda\\lVert\\beta\\rVert_2^2$$"
   ]
  },
  {
   "cell_type": "markdown",
   "metadata": {},
   "source": [
    "**Solution**  \n",
    "Start by moving the scalar $\\frac{1}{\\rho}$ outside the summation:  \n",
    "$F(\\beta)=\\frac{1}{n\\rho}\\sum_{i=1}^{n} log(1+exp(-\\rho y_ix_i^T\\beta)) + \\lambda\\lVert\\beta\\rVert_2^2$\n",
    "\n",
    "Next, break up into two terms:  \n",
    "(1) $\\frac{1}{n\\rho}\\sum_{i=1}^{n} log(1+exp(-\\rho y_ix_i^T\\beta))$  \n",
    "(2) $\\lambda\\lVert \\beta\\rVert_2^2$ \n",
    "\n",
    "Find the derivative of the first term:  \n",
    "(1) $\\frac{\\partial}{\\partial \\beta}\\Big[\\frac{1}{n\\rho}\\sum_{i=1}^{n} log(1+exp(-\\rho y_ix_i^T\\beta))\\Big]$  \n",
    "  \n",
    "> Move the constant and summation to the outside of the derivative: \n",
    "$\\frac{1}{n\\rho}\\sum_{i=1}^{n}\\frac{\\partial}{\\partial \\beta}\\Big[ log(1+exp(-\\rho y_ix_i^T\\beta))\\Big]$ \n",
    "  \n",
    "> Use the chain rule with the following functions and their derivatives:  \n",
    "$(f\\circ g \\circ h) = log(g\\circ h)$  \n",
    "$(f\\circ g \\circ h)' = \\frac{1}{(g\\circ h)} \\cdot (g \\circ h)' $  \n",
    "$(g\\circ h) = 1+exp(-h)$  \n",
    "$(g\\circ h)' = -exp(-h)\\cdot h'$  \n",
    "$h = \\rho y_ix_i^T\\beta$  \n",
    "$h' = \\rho y_ix_i$  \n",
    "  \n",
    "> Putting the chains together, we have:  \n",
    "$(f\\circ g \\circ h)' = -\\rho y_ix_i \\cdot \\frac{exp(- \\rho y_ix_i^T\\beta)}{1+exp(-\\rho y_ix_i^T\\beta)}$\n",
    "  \n",
    "> Re-apply constant scalar and summation:  \n",
    "$=\\frac{1}{n\\rho}\\sum_{i=1}^{n}-\\rho y_ix_i \\cdot \\frac{exp(- \\rho y_ix_i^T\\beta)}{1+exp(-\\rho y_ix_i^T\\beta)}$\n",
    "\n",
    "> Move the constant $-\\rho$ outside the summation and cancel it out:\n",
    "$=-\\frac{1}{n}\\sum_{i=1}^{n}y_ix_i \\cdot \\frac{exp(- \\rho y_ix_i^T\\beta)}{1+exp(-\\rho y_ix_i^T\\beta)}$\n",
    "\n",
    "Next, derive the second term:  \n",
    "(2) $\\frac{\\partial}{\\partial \\beta}\\lambda\\lVert \\beta\\rVert_2^2$  \n",
    "  \n",
    "> Move the constant $\\lambda$ outside the derivation and convert to matrix form:  \n",
    "$ =\\lambda \\frac{\\partial}{\\partial \\beta}\\beta^T \\beta$\n",
    "  \n",
    "> Multiply by the identity matrix $I$:  \n",
    "$ =\\lambda \\frac{\\partial}{\\partial \\beta}\\beta^T I \\beta$\n",
    "  \n",
    "> Apply the property $\\frac{\\partial}{\\partial x}x^T Ax = (A+A^T)x$:  \n",
    "$ =\\lambda (I + I^T)\\beta$  \n",
    "  \n",
    "> Given that $(I + I^T)$ is simply a scalar of 2 for matrices, we can simplify:  \n",
    "\n",
    "> $=2\\lambda \\beta $  \n",
    "  \n",
    "Next, we add (1) and (2) to get:  \n",
    "$\\nabla F(\\beta) = -\\frac{1}{n}\\sum_{i=1}^{n}y_ix_i \\cdot \\frac{exp(- \\rho y_ix_i^T\\beta)}{1+exp(-\\rho y_ix_i^T\\beta)} + 2\\lambda \\beta$"
   ]
  },
  {
   "cell_type": "markdown",
   "metadata": {},
   "source": [
    "**Instructions**  \n",
    "Consider the Spam dataset from The Elements of Statistical Learning. Standardize the data, if you have not done so already. Be sure to use the training and test splits from the website."
   ]
  },
  {
   "cell_type": "code",
   "execution_count": 1034,
   "metadata": {},
   "outputs": [],
   "source": [
    "# Load Packages\n",
    "import numpy as np\n",
    "import matplotlib.pyplot as plt\n",
    "import pandas as pd\n",
    "import sklearn.preprocessing\n",
    "import scipy.linalg\n",
    "from sklearn.linear_model import LogisticRegression\n",
    "from tqdm import tqdm\n",
    "import copy\n",
    "from random import sample\n",
    "from random import choice\n",
    "from sklearn.metrics import confusion_matrix\n",
    "from sklearn.metrics import precision_recall_fscore_support\n",
    "import seaborn as sn"
   ]
  },
  {
   "cell_type": "code",
   "execution_count": 818,
   "metadata": {},
   "outputs": [],
   "source": [
    "# Read data\n",
    "spam = pd.read_table('https://web.stanford.edu/~hastie/ElemStatLearn/datasets/spam.data', \n",
    "                   delim_whitespace=True, header = None)\n",
    "test_indicator = pd.read_table('https://web.stanford.edu/~hastie/ElemStatLearn/datasets/spam.traintest',\n",
    "                         delim_whitespace=True, header = None)"
   ]
  },
  {
   "cell_type": "code",
   "execution_count": 819,
   "metadata": {},
   "outputs": [],
   "source": [
    "x = np.asarray(spam)[:, 0:-1]\n",
    "y = np.asarray(spam)[:, -1]*2 - 1\n",
    "test_indicator = np.array(test_indicator).T[0]\n",
    "\n",
    "# Divide the data into train, test sets\n",
    "x_train = x[test_indicator == 0, :]\n",
    "x_test = x[test_indicator == 1, :]\n",
    "y_train = y[test_indicator == 0]\n",
    "y_test = y[test_indicator == 1]\n",
    "\n",
    "# Standardize the data.\n",
    "scaler = sklearn.preprocessing.StandardScaler()\n",
    "scaler.fit(x_train)\n",
    "x_train = scaler.transform(x_train)\n",
    "x_test = scaler.transform(x_test)\n",
    "\n",
    "# Store feature size\n",
    "d = np.size(x, 1)"
   ]
  },
  {
   "cell_type": "markdown",
   "metadata": {},
   "source": [
    "**Instructions**  \n",
    "Write a function _myrhologistic_ that implements the accelerated gradient algorithm to train the $\\ell_2^2$-regularized binary logistic regression with $\\rho$-logistic loss. The function takes as input\n",
    "the initial step-size for the backtracking rule, the $\\epsilon$ for the stopping criterion based on the norm of the gradient of the objective, and the value of $\\rho$."
   ]
  },
  {
   "cell_type": "code",
   "execution_count": 820,
   "metadata": {},
   "outputs": [],
   "source": [
    "# Subroutines for myrhologistic to call:\n",
    "\n",
    "# rho logistic gradient\n",
    "def computegrad(beta, lamb, rho, x, y):\n",
    "    yx = y[:, np.newaxis]*x\n",
    "    denom = 1+np.exp(-rho*yx.dot(beta))\n",
    "    grad = -1/len(y)*np.sum(yx*np.exp(-rho*yx.dot(beta[:, np.newaxis]))/\n",
    "        denom[:, np.newaxis], axis=0) + 2*lamb*beta\n",
    "    return grad\n",
    "\n",
    "# rho logistic objective\n",
    "def computeobj(beta, lamb, rho, x, y):\n",
    "    return 1/len(y) * np.sum(1/rho*np.log(1 + np.exp(-rho*y*x.dot(beta)))) + lamb*np.linalg.norm(beta)**2\n",
    "\n",
    "# backtracking with rho logistic\n",
    "def backtracking(beta, lamb, rho, x, y, eta, alpha=0.5, gamma=0.8):\n",
    "    grad_beta = computegrad(beta, lamb, rho, x, y)\n",
    "    norm_grad_beta = np.linalg.norm(grad_beta)\n",
    "    found_eta = False\n",
    "    iter = 0\n",
    "    while found_eta == False:\n",
    "        if computeobj(beta - eta * grad_beta, lamb, rho, x, y) < \\\n",
    "            computeobj(beta, lamb, rho, x, y)- alpha * eta * norm_grad_beta ** 2:\n",
    "                found_eta = True\n",
    "        else:\n",
    "            eta *= gamma\n",
    "            iter += 1\n",
    "    return eta"
   ]
  },
  {
   "cell_type": "code",
   "execution_count": 821,
   "metadata": {},
   "outputs": [],
   "source": [
    "def computeEtaInit(x, y, lamb):\n",
    "    eta_init = 1/(scipy.linalg.eigh(1/len(y)*x.T.dot(x),\n",
    "                                eigvals=(d-1, d-1),\n",
    "                                eigvals_only=True)[0]+lamb)\n",
    "    return eta_init"
   ]
  },
  {
   "cell_type": "code",
   "execution_count": 822,
   "metadata": {},
   "outputs": [],
   "source": [
    "def myrhologistic(x, y, beta_init, theta_init, lamb, rho, eta_init, eps):\n",
    "    beta = beta_init\n",
    "    theta = theta_init\n",
    "    eta = eta_init\n",
    "    grad_theta = computegrad(theta, lamb, rho, x, y)\n",
    "    grad_beta = computegrad(beta, lamb, rho, x, y)\n",
    "    beta_vals = beta\n",
    "    theta_vals = theta\n",
    "    iter = 0\n",
    "    while np.linalg.norm(grad_beta) > eps:\n",
    "        eta = backtracking(theta, lamb, rho, x, y, eta)\n",
    "        beta_new = theta - eta*grad_theta\n",
    "        theta = beta_new + iter/(iter+3)*(beta_new-beta)\n",
    "        beta_vals = np.vstack((beta_vals, beta))\n",
    "        theta_vals = np.vstack((theta_vals, theta))\n",
    "        grad_theta = computegrad(theta, lamb, rho, x, y)\n",
    "        grad_beta = computegrad(beta, lamb, rho, x, y)\n",
    "        beta = beta_new\n",
    "        iter += 1\n",
    "    return beta_vals"
   ]
  },
  {
   "cell_type": "markdown",
   "metadata": {},
   "source": [
    "**Instructions**  \n",
    "Train your $\\ell_2^2$-regularized binary logistic regression with $\\rho$-logistic loss with $\\rho=2$ and $\\epsilon=10^{-3}$ o the Spam dataset for $\\lambda=1$. Report your misclassification error for this value of $\\lambda$."
   ]
  },
  {
   "cell_type": "code",
   "execution_count": 823,
   "metadata": {},
   "outputs": [],
   "source": [
    "# initialize parameters\n",
    "rho = 2\n",
    "eps = 10**-3\n",
    "lamb = 1\n",
    "beta_init = np.zeros(d)\n",
    "theta_init = np.zeros(d)\n",
    "eta_init = computeEtaInit(x_train, y_train, lamb)"
   ]
  },
  {
   "cell_type": "code",
   "execution_count": 824,
   "metadata": {
    "scrolled": true
   },
   "outputs": [],
   "source": [
    "train_betas = myrhologistic(x_train, y_train, beta_init, theta_init, lamb, rho, eta_init, eps)"
   ]
  },
  {
   "cell_type": "code",
   "execution_count": 825,
   "metadata": {},
   "outputs": [],
   "source": [
    "beta_opt = train_betas[-1,:]"
   ]
  },
  {
   "cell_type": "code",
   "execution_count": 830,
   "metadata": {},
   "outputs": [],
   "source": [
    "def compute_error(x, y, beta):\n",
    "    y_pred = 1/(1+np.exp(-x.dot(beta))) > 0.5\n",
    "    y_pred = y_pred*2 - 1 # Convert to +/- 1\n",
    "    return np.mean(y_pred != y)"
   ]
  },
  {
   "cell_type": "code",
   "execution_count": 831,
   "metadata": {},
   "outputs": [
    {
     "data": {
      "text/plain": [
       "0.09526916802610114"
      ]
     },
     "execution_count": 831,
     "metadata": {},
     "output_type": "execute_result"
    }
   ],
   "source": [
    "compute_error(x_train, y_train, beta_opt)"
   ]
  },
  {
   "cell_type": "markdown",
   "metadata": {},
   "source": [
    "**Instructions**  \n",
    "Write a function _crossval_ that implements leave-one-out cross-validation and hold-out cross-validation. You may either write a function that implements each variant separately depending on the case, or write a general cross-validation function that can be instantiated in each case."
   ]
  },
  {
   "cell_type": "code",
   "execution_count": 839,
   "metadata": {},
   "outputs": [],
   "source": [
    "def loocv(x, y, lamb, rho, eps):\n",
    "    n, d = x.shape\n",
    "    beta_init = np.zeros(d)\n",
    "    theta_init = np.zeros(d)\n",
    "    errors = []\n",
    "    for i in tqdm(range(n)):\n",
    "        x_loo = np.vstack((x[0:i,:],x[(i+1):,:]))\n",
    "        y_loo = np.concatenate([y[0:i],y[(i+1):]])\n",
    "        eta_init = computeEtaInit(x_loo, y_loo, lamb)\n",
    "        loo_betas = myrhologistic(x_loo, y_loo, beta_init, theta_init, lamb, rho, eta_init, eps)\n",
    "        loo_beta_opt = loo_betas[-1,:]\n",
    "        errors.append(compute_error(x_train, y_train, loo_beta_opt))\n",
    "    return np.sum(errors)/n\n",
    "    "
   ]
  },
  {
   "cell_type": "code",
   "execution_count": 834,
   "metadata": {},
   "outputs": [],
   "source": [
    "def hocv(x, y, lamb, eps, rho, test_size = 0.2):\n",
    "    x_train, x_test, y_train, y_test = train_test_split(x, y, test_size = test_size)\n",
    "    d = x_train.shape[1]\n",
    "    beta_init = np.zeros(d)\n",
    "    theta_init = np.zeros(d)\n",
    "    eta_init = computeEtaInit(x_train, y_train, lamb)\n",
    "    ho_betas = myrhologistic(x_train, y_train, beta_init, theta_init, lamb, rho, eta_init, eps)\n",
    "    ho_beta_opt = ho_betas[-1,:]\n",
    "    error = compute_error(x_test, y_test, ho_beta_opt)\n",
    "    return error"
   ]
  },
  {
   "cell_type": "markdown",
   "metadata": {},
   "source": [
    "**Instructions**  \n",
    "Find the optimal value of $\\lambda$ using leave-one-out cross-validation.  Find the optimal value of $\\lambda$ useing hold-out cross-validation with a 80%/20% split for the training set/testing set.  Report your misclassification errors for the two values of $\\lambda$ found."
   ]
  },
  {
   "cell_type": "code",
   "execution_count": 835,
   "metadata": {},
   "outputs": [],
   "source": [
    "lamb_vals = []\n",
    "for i in range(-3,3):\n",
    "    lamb_vals.append(10**i) # testing very small to very large"
   ]
  },
  {
   "cell_type": "code",
   "execution_count": 836,
   "metadata": {},
   "outputs": [],
   "source": [
    "def compute_lamb_opt(x, y, lamb_vals, eps, rho, method, test_size = 0.2):\n",
    "    if method=='loocv':\n",
    "        errors = []\n",
    "        for lamb in lamb_vals:\n",
    "            error = loocv(x, y, lamb, rho, eps)\n",
    "            errors.append(error)\n",
    "        minpos = errors.index(min(errors))\n",
    "        lamb_opt = lamb_vals[minpos]\n",
    "        return lamb_opt\n",
    "    if method=='hocv':\n",
    "        errors = []\n",
    "        for lamb in lamb_vals:\n",
    "            error = hocv(x, y, lamb, eps, rho, test_size)\n",
    "            errors.append(error)\n",
    "        minpos = errors.index(min(errors))\n",
    "        lamb_opt = lamb_vals[minpos]\n",
    "        return lamb_opt\n",
    "    else:\n",
    "        print('Unknown method')"
   ]
  },
  {
   "cell_type": "code",
   "execution_count": 840,
   "metadata": {},
   "outputs": [
    {
     "name": "stderr",
     "output_type": "stream",
     "text": [
      "100%|██████████| 3065/3065 [20:47<00:00,  2.43it/s]\n",
      "100%|██████████| 3065/3065 [15:26<00:00,  3.38it/s]\n",
      "100%|██████████| 3065/3065 [06:51<00:00,  7.52it/s]\n",
      "100%|██████████| 3065/3065 [02:12<00:00, 22.53it/s]\n",
      "100%|██████████| 3065/3065 [00:44<00:00, 68.16it/s]\n",
      "100%|██████████| 3065/3065 [00:36<00:00, 84.26it/s]\n",
      "100%|██████████| 3065/3065 [20:36<00:00,  2.54it/s]"
     ]
    },
    {
     "name": "stdout",
     "output_type": "stream",
     "text": [
      "Leave-one-out optimal lambda is:  0.001\n",
      "Leave-one-out misclassification rate:  0.07898842107784303\n"
     ]
    },
    {
     "name": "stderr",
     "output_type": "stream",
     "text": [
      "\n"
     ]
    }
   ],
   "source": [
    "loocv_lamb_opt = compute_lamb_opt(x_train, y_train, lamb_vals, eps, rho, method = 'loocv')\n",
    "loocv_error = loocv(x_train, y_train, loocv_lamb_opt, rho, eps)\n",
    "print('Leave-one-out optimal lambda is: ',loocv_lamb_opt)\n",
    "print('Leave-one-out misclassification rate: ',loocv_error)"
   ]
  },
  {
   "cell_type": "code",
   "execution_count": 837,
   "metadata": {},
   "outputs": [
    {
     "name": "stdout",
     "output_type": "stream",
     "text": [
      "80/20 Hold-out optimal lambda is:  0.001\n",
      "80/20 Hold-out misclassification rate:  0.0864600326264274\n"
     ]
    }
   ],
   "source": [
    "hocv_lamb_opt = compute_lamb_opt(x_train, y_train, lamb_vals, eps, rho, method = 'hocv')\n",
    "hocv_error = hocv(x_train, y_train, hocv_lamb_opt, eps, rho, test_size = 0.2)\n",
    "print('80/20 Hold-out optimal lambda is: ',hocv_lamb_opt)\n",
    "print('80/20 Hold-out misclassification rate: ',hocv_error)\n"
   ]
  },
  {
   "cell_type": "markdown",
   "metadata": {},
   "source": [
    "# Exercise 2 - Data Competition Project"
   ]
  },
  {
   "cell_type": "markdown",
   "metadata": {},
   "source": [
    "**Instructions**  \n",
    "Pick two classes of your choice from the dataset. Train a classifier using $\\ell_2^2$-regularized binary\n",
    "logistic regression with $\\rho$-logistic loss on the training set using your own accelerated gradient algorithm with $\\rho = 2$, $\\epsilon = 10^{−3}$, and $\\lambda = 1$. Be sure to use the features you previously generated with the provided script rather than the raw image features. Plot, with different colors, the misclassification error on the training set and on the validation set vs iterations."
   ]
  },
  {
   "cell_type": "code",
   "execution_count": 898,
   "metadata": {},
   "outputs": [],
   "source": [
    "# Load data (if on Windows)\n",
    "# x_train = np.load('C:/Users/Will/Documents/data_competition1_files/train_features.npy')\n",
    "# y_train = np.load('C:/Users/Will/Documents/data_competition1_files/train_labels.npy')\n",
    "# x_val = np.load('C:/Users/Will/Documents/data_competition1_files/val_features.npy')\n",
    "# y_val = np.load('C:/Users/Will/Documents/data_competition1_files/val_labels.npy')\n",
    "\n",
    "# Load data (if on Mac)\n",
    "x_train_raw = np.load('/Users/willwright/Downloads/data_competition1_files/train_features.npy')\n",
    "y_train_raw = np.load('/Users/willwright/Downloads/data_competition1_files/train_labels.npy')\n",
    "x_val_raw = np.load('/Users/willwright/Downloads/data_competition1_files/val_features.npy')\n",
    "y_val_raw = np.load('/Users/willwright/Downloads/data_competition1_files/val_labels.npy')"
   ]
  },
  {
   "cell_type": "code",
   "execution_count": 867,
   "metadata": {},
   "outputs": [],
   "source": [
    "# Subset of data (selecting group 5 and 9)\n",
    "class1 = 5\n",
    "class2 = 9\n",
    "train_ids = np.array([np.where(y_train_raw==class1),np.where(y_train_raw==class2)]).reshape(-1)\n",
    "x_train = x_train_raw.copy()[train_ids]\n",
    "y_train = y_train_raw.copy()[train_ids]\n",
    "val_ids = np.array([np.where(y_val_raw==class1),np.where(y_val_raw==class2)]).reshape(-1)\n",
    "x_val = x_val_raw.copy()[val_ids]\n",
    "y_val = y_val_raw.copy()[val_ids]"
   ]
  },
  {
   "cell_type": "code",
   "execution_count": 868,
   "metadata": {},
   "outputs": [],
   "source": [
    "# change indicators from the original classes to +1/-1\n",
    "y_train[y_train==class1] = 1\n",
    "y_train[y_train==class2] = -1\n",
    "y_val[y_val==class1] = 1\n",
    "y_val[y_val==class2] = -1"
   ]
  },
  {
   "cell_type": "code",
   "execution_count": 869,
   "metadata": {},
   "outputs": [],
   "source": [
    "# Standardize\n",
    "x_standardizer = preprocessing.StandardScaler()\n",
    "x_train = x_standardizer.fit_transform(x_train)\n",
    "x_val = x_standardizer.fit_transform(x_val)"
   ]
  },
  {
   "cell_type": "code",
   "execution_count": 846,
   "metadata": {},
   "outputs": [],
   "source": [
    "# Initialize parameters\n",
    "n, d = x_train.shape\n",
    "rho = 2\n",
    "eps = 10**-3\n",
    "lamb = 1\n",
    "beta_init = np.zeros(d)\n",
    "theta_init = np.zeros(d)\n",
    "eta_init = computeEtaInit(x_train, y_train, lamb)"
   ]
  },
  {
   "cell_type": "code",
   "execution_count": 847,
   "metadata": {},
   "outputs": [],
   "source": [
    "# Train Model\n",
    "kaggle_betas = myrhologistic(x_train, y_train, beta_init, theta_init, lamb, rho, eta_init, eps)"
   ]
  },
  {
   "cell_type": "code",
   "execution_count": 497,
   "metadata": {},
   "outputs": [],
   "source": [
    "def plot_misclassification_errors(x_train, y_train, x_val, y_val, betas):\n",
    "    iterations = betas.shape[0]\n",
    "    train_errors = []\n",
    "    val_errors = []\n",
    "    for i in range(iterations):\n",
    "        train_error = compute_error(x_train, y_train, betas[i,:])\n",
    "        train_errors.append(train_error)\n",
    "        val_error = compute_error(x_val, y_val, betas[i,:])\n",
    "        val_errors.append(val_error)\n",
    "    plt.plot(train_errors, color = \"blue\")\n",
    "    plt.plot(val_errors, color = \"red\")\n",
    "    plt.ylabel(\"Misclassification Rate\")\n",
    "    plt.xlabel(\"Iterations\")\n",
    "    plt.title(\"Misclassification Rates by Iteration\")\n",
    "    plt.legend([\"Training Data\", \"Validation Data\"])\n",
    "    plt.show()"
   ]
  },
  {
   "cell_type": "code",
   "execution_count": 848,
   "metadata": {
    "scrolled": true
   },
   "outputs": [
    {
     "data": {
      "image/png": "[encoded data removed]",
      "text/plain": [
       "<Figure size 432x288 with 1 Axes>"
      ]
     },
     "metadata": {
      "needs_background": "light"
     },
     "output_type": "display_data"
    }
   ],
   "source": [
    "# Plot misclassification error on the training set by iteration\n",
    "plot_misclassification_errors(x_train, y_train, x_val, y_val, kaggle_betas)"
   ]
  },
  {
   "cell_type": "code",
   "execution_count": 849,
   "metadata": {},
   "outputs": [
    {
     "name": "stdout",
     "output_type": "stream",
     "text": [
      "Training Misclassificaiton Rate:  0.001\n",
      "Validation Misclassificaiton Rate:  0.005\n"
     ]
    }
   ],
   "source": [
    "print('Training Misclassificaiton Rate: ',compute_error(x_train, y_train, kaggle_betas[-1,:]))\n",
    "print('Validation Misclassificaiton Rate: ',compute_error(x_val, y_val, kaggle_betas[-1,:]))"
   ]
  },
  {
   "cell_type": "markdown",
   "metadata": {},
   "source": [
    "**Instructions**  \n",
    "Find the value of the regularization parameter $\\lambda$ using using leave-one-out cross-validation. Find the value of the regularization parameter $\\lambda$ using using hold-out cross-validation. Train a classifier using $\\ell_2^2$-regularized binary logistic regression with $\\rho$-logistic loss on the training set using your own accelerated gradient algorithm with that value of $\\lambda$ found by hold-out cross-validation. Plot, with different colors, the misclassification error on the training set and on the validation set vs. iterations."
   ]
  },
  {
   "cell_type": "markdown",
   "metadata": {},
   "source": [
    "#### LOOCV"
   ]
  },
  {
   "cell_type": "code",
   "execution_count": 850,
   "metadata": {
    "collapsed": true
   },
   "outputs": [
    {
     "name": "stderr",
     "output_type": "stream",
     "text": [
      "100%|██████████| 1000/1000 [6:18:55<00:00, 20.57s/it] \n",
      " 16%|█▌        | 162/1000 [59:37<5:14:29, 22.52s/it]"
     ]
    },
    {
     "ename": "KeyboardInterrupt",
     "evalue": "",
     "output_type": "error",
     "traceback": [
      "\u001b[0;31m---------------------------------------------------------------------------\u001b[0m",
      "\u001b[0;31mKeyboardInterrupt\u001b[0m                         Traceback (most recent call last)",
      "\u001b[0;32m<ipython-input-850-707e7e2e59b3>\u001b[0m in \u001b[0;36m<module>\u001b[0;34m\u001b[0m\n\u001b[0;32m----> 1\u001b[0;31m \u001b[0mloocv_lamb_opt\u001b[0m \u001b[0;34m=\u001b[0m \u001b[0mcompute_lamb_opt\u001b[0m\u001b[0;34m(\u001b[0m\u001b[0mx_train\u001b[0m\u001b[0;34m,\u001b[0m \u001b[0my_train\u001b[0m\u001b[0;34m,\u001b[0m \u001b[0mlamb_vals\u001b[0m\u001b[0;34m,\u001b[0m \u001b[0meps\u001b[0m\u001b[0;34m,\u001b[0m \u001b[0mrho\u001b[0m\u001b[0;34m,\u001b[0m \u001b[0mmethod\u001b[0m \u001b[0;34m=\u001b[0m \u001b[0;34m'loocv'\u001b[0m\u001b[0;34m)\u001b[0m\u001b[0;34m\u001b[0m\u001b[0;34m\u001b[0m\u001b[0m\n\u001b[0m\u001b[1;32m      2\u001b[0m \u001b[0mloocv_error\u001b[0m \u001b[0;34m=\u001b[0m \u001b[0mloocv\u001b[0m\u001b[0;34m(\u001b[0m\u001b[0mx_train\u001b[0m\u001b[0;34m,\u001b[0m \u001b[0my_train\u001b[0m\u001b[0;34m,\u001b[0m \u001b[0mloocv_lamb_opt\u001b[0m\u001b[0;34m,\u001b[0m \u001b[0mrho\u001b[0m\u001b[0;34m,\u001b[0m \u001b[0meps\u001b[0m\u001b[0;34m)\u001b[0m\u001b[0;34m\u001b[0m\u001b[0;34m\u001b[0m\u001b[0m\n\u001b[1;32m      3\u001b[0m \u001b[0mprint\u001b[0m\u001b[0;34m(\u001b[0m\u001b[0;34m'Leave-one-out optimal lambda is: '\u001b[0m\u001b[0;34m,\u001b[0m\u001b[0mloocv_lamb_opt\u001b[0m\u001b[0;34m)\u001b[0m\u001b[0;34m\u001b[0m\u001b[0;34m\u001b[0m\u001b[0m\n\u001b[1;32m      4\u001b[0m \u001b[0mprint\u001b[0m\u001b[0;34m(\u001b[0m\u001b[0;34m'Leave-one-out misclassification rate: '\u001b[0m\u001b[0;34m,\u001b[0m\u001b[0mloocv_error\u001b[0m\u001b[0;34m)\u001b[0m\u001b[0;34m\u001b[0m\u001b[0;34m\u001b[0m\u001b[0m\n",
      "\u001b[0;32m<ipython-input-836-ae84b7f511d4>\u001b[0m in \u001b[0;36mcompute_lamb_opt\u001b[0;34m(x, y, lamb_vals, eps, rho, method, test_size)\u001b[0m\n\u001b[1;32m      3\u001b[0m         \u001b[0merrors\u001b[0m \u001b[0;34m=\u001b[0m \u001b[0;34m[\u001b[0m\u001b[0;34m]\u001b[0m\u001b[0;34m\u001b[0m\u001b[0;34m\u001b[0m\u001b[0m\n\u001b[1;32m      4\u001b[0m         \u001b[0;32mfor\u001b[0m \u001b[0mlamb\u001b[0m \u001b[0;32min\u001b[0m \u001b[0mlamb_vals\u001b[0m\u001b[0;34m:\u001b[0m\u001b[0;34m\u001b[0m\u001b[0;34m\u001b[0m\u001b[0m\n\u001b[0;32m----> 5\u001b[0;31m             \u001b[0merror\u001b[0m \u001b[0;34m=\u001b[0m \u001b[0mloocv\u001b[0m\u001b[0;34m(\u001b[0m\u001b[0mx\u001b[0m\u001b[0;34m,\u001b[0m \u001b[0my\u001b[0m\u001b[0;34m,\u001b[0m \u001b[0mlamb\u001b[0m\u001b[0;34m,\u001b[0m \u001b[0mrho\u001b[0m\u001b[0;34m,\u001b[0m \u001b[0meps\u001b[0m\u001b[0;34m)\u001b[0m\u001b[0;34m\u001b[0m\u001b[0;34m\u001b[0m\u001b[0m\n\u001b[0m\u001b[1;32m      6\u001b[0m             \u001b[0merrors\u001b[0m\u001b[0;34m.\u001b[0m\u001b[0mappend\u001b[0m\u001b[0;34m(\u001b[0m\u001b[0merror\u001b[0m\u001b[0;34m)\u001b[0m\u001b[0;34m\u001b[0m\u001b[0;34m\u001b[0m\u001b[0m\n\u001b[1;32m      7\u001b[0m         \u001b[0mminpos\u001b[0m \u001b[0;34m=\u001b[0m \u001b[0merrors\u001b[0m\u001b[0;34m.\u001b[0m\u001b[0mindex\u001b[0m\u001b[0;34m(\u001b[0m\u001b[0mmin\u001b[0m\u001b[0;34m(\u001b[0m\u001b[0merrors\u001b[0m\u001b[0;34m)\u001b[0m\u001b[0;34m)\u001b[0m\u001b[0;34m\u001b[0m\u001b[0;34m\u001b[0m\u001b[0m\n",
      "\u001b[0;32m<ipython-input-839-18a9c7863480>\u001b[0m in \u001b[0;36mloocv\u001b[0;34m(x, y, lamb, rho, eps)\u001b[0m\n\u001b[1;32m      8\u001b[0m         \u001b[0my_loo\u001b[0m \u001b[0;34m=\u001b[0m \u001b[0mnp\u001b[0m\u001b[0;34m.\u001b[0m\u001b[0mconcatenate\u001b[0m\u001b[0;34m(\u001b[0m\u001b[0;34m[\u001b[0m\u001b[0my\u001b[0m\u001b[0;34m[\u001b[0m\u001b[0;36m0\u001b[0m\u001b[0;34m:\u001b[0m\u001b[0mi\u001b[0m\u001b[0;34m]\u001b[0m\u001b[0;34m,\u001b[0m\u001b[0my\u001b[0m\u001b[0;34m[\u001b[0m\u001b[0;34m(\u001b[0m\u001b[0mi\u001b[0m\u001b[0;34m+\u001b[0m\u001b[0;36m1\u001b[0m\u001b[0;34m)\u001b[0m\u001b[0;34m:\u001b[0m\u001b[0;34m]\u001b[0m\u001b[0;34m]\u001b[0m\u001b[0;34m)\u001b[0m\u001b[0;34m\u001b[0m\u001b[0;34m\u001b[0m\u001b[0m\n\u001b[1;32m      9\u001b[0m         \u001b[0meta_init\u001b[0m \u001b[0;34m=\u001b[0m \u001b[0mcomputeEtaInit\u001b[0m\u001b[0;34m(\u001b[0m\u001b[0mx_loo\u001b[0m\u001b[0;34m,\u001b[0m \u001b[0my_loo\u001b[0m\u001b[0;34m,\u001b[0m \u001b[0mlamb\u001b[0m\u001b[0;34m)\u001b[0m\u001b[0;34m\u001b[0m\u001b[0;34m\u001b[0m\u001b[0m\n\u001b[0;32m---> 10\u001b[0;31m         \u001b[0mloo_betas\u001b[0m \u001b[0;34m=\u001b[0m \u001b[0mmyrhologistic\u001b[0m\u001b[0;34m(\u001b[0m\u001b[0mx_loo\u001b[0m\u001b[0;34m,\u001b[0m \u001b[0my_loo\u001b[0m\u001b[0;34m,\u001b[0m \u001b[0mbeta_init\u001b[0m\u001b[0;34m,\u001b[0m \u001b[0mtheta_init\u001b[0m\u001b[0;34m,\u001b[0m \u001b[0mlamb\u001b[0m\u001b[0;34m,\u001b[0m \u001b[0mrho\u001b[0m\u001b[0;34m,\u001b[0m \u001b[0meta_init\u001b[0m\u001b[0;34m,\u001b[0m \u001b[0meps\u001b[0m\u001b[0;34m)\u001b[0m\u001b[0;34m\u001b[0m\u001b[0;34m\u001b[0m\u001b[0m\n\u001b[0m\u001b[1;32m     11\u001b[0m         \u001b[0mloo_beta_opt\u001b[0m \u001b[0;34m=\u001b[0m \u001b[0mloo_betas\u001b[0m\u001b[0;34m[\u001b[0m\u001b[0;34m-\u001b[0m\u001b[0;36m1\u001b[0m\u001b[0;34m,\u001b[0m\u001b[0;34m:\u001b[0m\u001b[0;34m]\u001b[0m\u001b[0;34m\u001b[0m\u001b[0;34m\u001b[0m\u001b[0m\n\u001b[1;32m     12\u001b[0m         \u001b[0merrors\u001b[0m\u001b[0;34m.\u001b[0m\u001b[0mappend\u001b[0m\u001b[0;34m(\u001b[0m\u001b[0mcompute_error\u001b[0m\u001b[0;34m(\u001b[0m\u001b[0mx_train\u001b[0m\u001b[0;34m,\u001b[0m \u001b[0my_train\u001b[0m\u001b[0;34m,\u001b[0m \u001b[0mloo_beta_opt\u001b[0m\u001b[0;34m)\u001b[0m\u001b[0;34m)\u001b[0m\u001b[0;34m\u001b[0m\u001b[0;34m\u001b[0m\u001b[0m\n",
      "\u001b[0;32m<ipython-input-822-7593f6981f7e>\u001b[0m in \u001b[0;36mmyrhologistic\u001b[0;34m(x, y, beta_init, theta_init, lamb, rho, eta_init, eps)\u001b[0m\n\u001b[1;32m     14\u001b[0m         \u001b[0mbeta_vals\u001b[0m \u001b[0;34m=\u001b[0m \u001b[0mnp\u001b[0m\u001b[0;34m.\u001b[0m\u001b[0mvstack\u001b[0m\u001b[0;34m(\u001b[0m\u001b[0;34m(\u001b[0m\u001b[0mbeta_vals\u001b[0m\u001b[0;34m,\u001b[0m \u001b[0mbeta\u001b[0m\u001b[0;34m)\u001b[0m\u001b[0;34m)\u001b[0m\u001b[0;34m\u001b[0m\u001b[0;34m\u001b[0m\u001b[0m\n\u001b[1;32m     15\u001b[0m         \u001b[0mtheta_vals\u001b[0m \u001b[0;34m=\u001b[0m \u001b[0mnp\u001b[0m\u001b[0;34m.\u001b[0m\u001b[0mvstack\u001b[0m\u001b[0;34m(\u001b[0m\u001b[0;34m(\u001b[0m\u001b[0mtheta_vals\u001b[0m\u001b[0;34m,\u001b[0m \u001b[0mtheta\u001b[0m\u001b[0;34m)\u001b[0m\u001b[0;34m)\u001b[0m\u001b[0;34m\u001b[0m\u001b[0;34m\u001b[0m\u001b[0m\n\u001b[0;32m---> 16\u001b[0;31m         \u001b[0mgrad_theta\u001b[0m \u001b[0;34m=\u001b[0m \u001b[0mcomputegrad\u001b[0m\u001b[0;34m(\u001b[0m\u001b[0mtheta\u001b[0m\u001b[0;34m,\u001b[0m \u001b[0mlamb\u001b[0m\u001b[0;34m,\u001b[0m \u001b[0mrho\u001b[0m\u001b[0;34m,\u001b[0m \u001b[0mx\u001b[0m\u001b[0;34m,\u001b[0m \u001b[0my\u001b[0m\u001b[0;34m)\u001b[0m\u001b[0;34m\u001b[0m\u001b[0;34m\u001b[0m\u001b[0m\n\u001b[0m\u001b[1;32m     17\u001b[0m         \u001b[0mgrad_beta\u001b[0m \u001b[0;34m=\u001b[0m \u001b[0mcomputegrad\u001b[0m\u001b[0;34m(\u001b[0m\u001b[0mbeta\u001b[0m\u001b[0;34m,\u001b[0m \u001b[0mlamb\u001b[0m\u001b[0;34m,\u001b[0m \u001b[0mrho\u001b[0m\u001b[0;34m,\u001b[0m \u001b[0mx\u001b[0m\u001b[0;34m,\u001b[0m \u001b[0my\u001b[0m\u001b[0;34m)\u001b[0m\u001b[0;34m\u001b[0m\u001b[0;34m\u001b[0m\u001b[0m\n\u001b[1;32m     18\u001b[0m         \u001b[0mbeta\u001b[0m \u001b[0;34m=\u001b[0m \u001b[0mbeta_new\u001b[0m\u001b[0;34m\u001b[0m\u001b[0;34m\u001b[0m\u001b[0m\n",
      "\u001b[0;32m<ipython-input-820-6764dc800f00>\u001b[0m in \u001b[0;36mcomputegrad\u001b[0;34m(beta, lamb, rho, x, y)\u001b[0m\n\u001b[1;32m      6\u001b[0m     \u001b[0mdenom\u001b[0m \u001b[0;34m=\u001b[0m \u001b[0;36m1\u001b[0m\u001b[0;34m+\u001b[0m\u001b[0mnp\u001b[0m\u001b[0;34m.\u001b[0m\u001b[0mexp\u001b[0m\u001b[0;34m(\u001b[0m\u001b[0;34m-\u001b[0m\u001b[0mrho\u001b[0m\u001b[0;34m*\u001b[0m\u001b[0myx\u001b[0m\u001b[0;34m.\u001b[0m\u001b[0mdot\u001b[0m\u001b[0;34m(\u001b[0m\u001b[0mbeta\u001b[0m\u001b[0;34m)\u001b[0m\u001b[0;34m)\u001b[0m\u001b[0;34m\u001b[0m\u001b[0;34m\u001b[0m\u001b[0m\n\u001b[1;32m      7\u001b[0m     grad = -1/len(y)*np.sum(yx*np.exp(-rho*yx.dot(beta[:, np.newaxis]))/\n\u001b[0;32m----> 8\u001b[0;31m         denom[:, np.newaxis], axis=0) + 2*lamb*beta\n\u001b[0m\u001b[1;32m      9\u001b[0m     \u001b[0;32mreturn\u001b[0m \u001b[0mgrad\u001b[0m\u001b[0;34m\u001b[0m\u001b[0;34m\u001b[0m\u001b[0m\n\u001b[1;32m     10\u001b[0m \u001b[0;34m\u001b[0m\u001b[0m\n",
      "\u001b[0;31mKeyboardInterrupt\u001b[0m: "
     ]
    }
   ],
   "source": [
    "loocv_lamb_opt = compute_lamb_opt(x_train, y_train, lamb_vals, eps, rho, method = 'loocv')\n",
    "loocv_error = loocv(x_train, y_train, loocv_lamb_opt, rho, eps)\n",
    "print('Leave-one-out optimal lambda is: ',loocv_lamb_opt)\n",
    "print('Leave-one-out misclassification rate: ',loocv_error)"
   ]
  },
  {
   "cell_type": "markdown",
   "metadata": {},
   "source": [
    "This is taking multiple days to run so I'm going to take a sub-sample:"
   ]
  },
  {
   "cell_type": "code",
   "execution_count": 876,
   "metadata": {},
   "outputs": [],
   "source": [
    "sample_train_index = sample(list(range(len(x_train))),50)\n",
    "x_train_sample = x_train.copy()[sample_train_index]\n",
    "y_train_sample = y_train.copy()[sample_train_index]\n",
    "sample_val_index = sample(list(range(len(x_val))),50)\n",
    "x_val_sample = x_val.copy()[sample_val_index]\n",
    "y_val_sample = y_val.copy()[sample_val_index]"
   ]
  },
  {
   "cell_type": "code",
   "execution_count": 878,
   "metadata": {},
   "outputs": [
    {
     "name": "stderr",
     "output_type": "stream",
     "text": [
      "\n",
      "  0%|          | 0/50 [00:00<?, ?it/s]\u001b[A\n",
      "  2%|▏         | 1/50 [00:04<03:29,  4.27s/it]\u001b[A\n",
      "  4%|▍         | 2/50 [00:08<03:29,  4.36s/it]\u001b[A\n",
      "  6%|▌         | 3/50 [00:12<03:19,  4.25s/it]\u001b[A\n",
      "  8%|▊         | 4/50 [00:17<03:17,  4.30s/it]\u001b[A\n",
      " 10%|█         | 5/50 [00:21<03:18,  4.42s/it]\u001b[A\n",
      " 12%|█▏        | 6/50 [00:26<03:15,  4.43s/it]\u001b[A\n",
      " 14%|█▍        | 7/50 [00:30<03:11,  4.46s/it]\u001b[A\n",
      " 16%|█▌        | 8/50 [00:35<03:10,  4.52s/it]\u001b[A\n",
      " 18%|█▊        | 9/50 [00:40<03:07,  4.58s/it]\u001b[A\n",
      " 20%|██        | 10/50 [00:45<03:06,  4.66s/it]\u001b[A\n",
      " 22%|██▏       | 11/50 [00:49<03:01,  4.66s/it]\u001b[A\n",
      " 24%|██▍       | 12/50 [00:54<02:56,  4.65s/it]\u001b[A\n",
      " 26%|██▌       | 13/50 [00:59<02:51,  4.63s/it]\u001b[A\n",
      " 28%|██▊       | 14/50 [01:03<02:44,  4.58s/it]\u001b[A\n",
      " 30%|███       | 15/50 [01:07<02:36,  4.46s/it]\u001b[A\n",
      " 32%|███▏      | 16/50 [01:11<02:28,  4.37s/it]\u001b[A\n",
      " 34%|███▍      | 17/50 [01:16<02:22,  4.32s/it]\u001b[A\n",
      " 36%|███▌      | 18/50 [01:20<02:15,  4.23s/it]\u001b[A\n",
      " 38%|███▊      | 19/50 [01:24<02:10,  4.22s/it]\u001b[A\n",
      " 40%|████      | 20/50 [01:28<02:06,  4.21s/it]\u001b[A\n",
      " 42%|████▏     | 21/50 [01:32<02:01,  4.20s/it]\u001b[A\n",
      " 44%|████▍     | 22/50 [01:36<01:57,  4.19s/it]\u001b[A\n",
      " 46%|████▌     | 23/50 [01:40<01:53,  4.19s/it]\u001b[A\n",
      " 48%|████▊     | 24/50 [01:45<01:48,  4.19s/it]\u001b[A\n",
      " 50%|█████     | 25/50 [01:49<01:44,  4.18s/it]\u001b[A\n",
      " 52%|█████▏    | 26/50 [01:53<01:40,  4.18s/it]\u001b[A\n",
      " 54%|█████▍    | 27/50 [01:57<01:37,  4.24s/it]\u001b[A\n",
      " 56%|█████▌    | 28/50 [02:02<01:35,  4.35s/it]\u001b[A\n",
      " 58%|█████▊    | 29/50 [02:06<01:28,  4.19s/it]\u001b[A\n",
      " 60%|██████    | 30/50 [02:10<01:23,  4.16s/it]\u001b[A\n",
      " 62%|██████▏   | 31/50 [02:14<01:18,  4.12s/it]\u001b[A\n",
      " 64%|██████▍   | 32/50 [02:18<01:13,  4.11s/it]\u001b[A\n",
      " 66%|██████▌   | 33/50 [02:22<01:09,  4.08s/it]\u001b[A\n",
      " 68%|██████▊   | 34/50 [02:26<01:05,  4.11s/it]\u001b[A\n",
      " 70%|███████   | 35/50 [02:30<01:01,  4.13s/it]\u001b[A\n",
      " 72%|███████▏  | 36/50 [02:35<00:57,  4.13s/it]\u001b[A\n",
      " 74%|███████▍  | 37/50 [02:39<00:54,  4.16s/it]\u001b[A\n",
      " 76%|███████▌  | 38/50 [02:43<00:50,  4.19s/it]\u001b[A\n",
      " 78%|███████▊  | 39/50 [02:47<00:45,  4.18s/it]\u001b[A\n",
      " 80%|████████  | 40/50 [02:51<00:41,  4.17s/it]\u001b[A\n",
      " 82%|████████▏ | 41/50 [02:56<00:38,  4.32s/it]\u001b[A\n",
      " 84%|████████▍ | 42/50 [03:00<00:34,  4.26s/it]\u001b[A\n",
      " 86%|████████▌ | 43/50 [03:04<00:29,  4.15s/it]\u001b[A\n",
      " 88%|████████▊ | 44/50 [03:08<00:24,  4.14s/it]\u001b[A\n",
      " 90%|█████████ | 45/50 [03:12<00:20,  4.15s/it]\u001b[A\n",
      " 92%|█████████▏| 46/50 [03:16<00:16,  4.15s/it]\u001b[A\n",
      " 94%|█████████▍| 47/50 [03:21<00:12,  4.15s/it]\u001b[A\n",
      " 96%|█████████▌| 48/50 [03:25<00:08,  4.15s/it]\u001b[A\n",
      " 98%|█████████▊| 49/50 [03:29<00:04,  4.15s/it]\u001b[A\n",
      "100%|██████████| 50/50 [03:33<00:00,  4.17s/it]\u001b[A\n",
      "\u001b[A\n",
      "  0%|          | 0/50 [00:00<?, ?it/s]\u001b[A\n",
      "  2%|▏         | 1/50 [00:03<02:57,  3.63s/it]\u001b[A\n",
      "  4%|▍         | 2/50 [00:07<02:53,  3.61s/it]\u001b[A\n",
      "  6%|▌         | 3/50 [00:10<02:48,  3.59s/it]\u001b[A\n",
      "  8%|▊         | 4/50 [00:14<02:44,  3.59s/it]\u001b[A\n",
      " 10%|█         | 5/50 [00:17<02:41,  3.58s/it]\u001b[A\n",
      " 12%|█▏        | 6/50 [00:21<02:37,  3.57s/it]\u001b[A\n",
      " 14%|█▍        | 7/50 [00:25<02:33,  3.58s/it]\u001b[A\n",
      " 16%|█▌        | 8/50 [00:28<02:29,  3.56s/it]\u001b[A\n",
      " 18%|█▊        | 9/50 [00:32<02:26,  3.56s/it]\u001b[A\n",
      " 20%|██        | 10/50 [00:35<02:22,  3.56s/it]\u001b[A\n",
      " 22%|██▏       | 11/50 [00:39<02:19,  3.58s/it]\u001b[A\n",
      " 24%|██▍       | 12/50 [00:42<02:15,  3.58s/it]\u001b[A\n",
      " 26%|██▌       | 13/50 [00:46<02:13,  3.60s/it]\u001b[A\n",
      " 28%|██▊       | 14/50 [00:50<02:09,  3.60s/it]\u001b[A\n",
      " 30%|███       | 15/50 [00:53<02:06,  3.61s/it]\u001b[A\n",
      " 32%|███▏      | 16/50 [00:57<02:02,  3.60s/it]\u001b[A\n",
      " 34%|███▍      | 17/50 [01:00<01:58,  3.59s/it]\u001b[A\n",
      " 36%|███▌      | 18/50 [01:04<01:54,  3.58s/it]\u001b[A\n",
      " 38%|███▊      | 19/50 [01:08<01:51,  3.58s/it]\u001b[A\n",
      " 40%|████      | 20/50 [01:11<01:47,  3.58s/it]\u001b[A\n",
      " 42%|████▏     | 21/50 [01:15<01:43,  3.59s/it]\u001b[A\n",
      " 44%|████▍     | 22/50 [01:18<01:40,  3.59s/it]\u001b[A\n",
      " 46%|████▌     | 23/50 [01:22<01:36,  3.59s/it]\u001b[A\n",
      " 48%|████▊     | 24/50 [01:25<01:33,  3.59s/it]\u001b[A\n",
      " 50%|█████     | 25/50 [01:29<01:29,  3.59s/it]\u001b[A\n",
      " 52%|█████▏    | 26/50 [01:33<01:28,  3.68s/it]\u001b[A\n",
      " 54%|█████▍    | 27/50 [01:37<01:23,  3.65s/it]\u001b[A\n",
      " 56%|█████▌    | 28/50 [01:40<01:19,  3.63s/it]\u001b[A\n",
      " 58%|█████▊    | 29/50 [01:44<01:15,  3.62s/it]\u001b[A\n",
      " 60%|██████    | 30/50 [01:47<01:11,  3.60s/it]\u001b[A\n",
      " 62%|██████▏   | 31/50 [01:51<01:08,  3.60s/it]\u001b[A\n",
      " 64%|██████▍   | 32/50 [01:54<01:04,  3.60s/it]\u001b[A\n",
      " 66%|██████▌   | 33/50 [01:58<01:01,  3.60s/it]\u001b[A\n",
      " 68%|██████▊   | 34/50 [02:02<00:57,  3.59s/it]\u001b[A\n",
      " 70%|███████   | 35/50 [02:05<00:53,  3.59s/it]\u001b[A\n",
      " 72%|███████▏  | 36/50 [02:09<00:50,  3.60s/it]\u001b[A\n",
      " 74%|███████▍  | 37/50 [02:12<00:46,  3.60s/it]\u001b[A\n",
      " 76%|███████▌  | 38/50 [02:16<00:43,  3.59s/it]\u001b[A\n",
      " 78%|███████▊  | 39/50 [02:20<00:39,  3.58s/it]\u001b[A\n",
      " 80%|████████  | 40/50 [02:23<00:35,  3.58s/it]\u001b[A\n",
      " 82%|████████▏ | 41/50 [02:27<00:32,  3.58s/it]\u001b[A\n",
      " 84%|████████▍ | 42/50 [02:30<00:28,  3.58s/it]\u001b[A\n",
      " 86%|████████▌ | 43/50 [02:34<00:25,  3.58s/it]\u001b[A\n",
      " 88%|████████▊ | 44/50 [02:37<00:21,  3.58s/it]\u001b[A\n",
      " 90%|█████████ | 45/50 [02:41<00:17,  3.58s/it]\u001b[A\n",
      " 92%|█████████▏| 46/50 [02:45<00:14,  3.61s/it]\u001b[A\n",
      " 94%|█████████▍| 47/50 [02:48<00:10,  3.61s/it]\u001b[A\n",
      " 96%|█████████▌| 48/50 [02:52<00:07,  3.60s/it]\u001b[A\n",
      " 98%|█████████▊| 49/50 [02:56<00:03,  3.61s/it]\u001b[A\n",
      "100%|██████████| 50/50 [02:59<00:00,  3.59s/it]\u001b[A\n",
      "\u001b[A\n",
      "  0%|          | 0/50 [00:00<?, ?it/s]\u001b[A\n",
      "  2%|▏         | 1/50 [00:04<04:02,  4.96s/it]\u001b[A\n",
      "  4%|▍         | 2/50 [00:09<03:55,  4.90s/it]\u001b[A\n",
      "  6%|▌         | 3/50 [00:14<03:47,  4.83s/it]\u001b[A\n",
      "  8%|▊         | 4/50 [00:18<03:34,  4.66s/it]\u001b[A\n",
      " 10%|█         | 5/50 [00:22<03:18,  4.41s/it]\u001b[A\n",
      " 12%|█▏        | 6/50 [00:26<03:07,  4.27s/it]\u001b[A\n",
      " 14%|█▍        | 7/50 [00:30<02:58,  4.14s/it]\u001b[A\n",
      " 16%|█▌        | 8/50 [00:34<02:49,  4.04s/it]\u001b[A\n",
      " 18%|█▊        | 9/50 [00:37<02:43,  3.98s/it]\u001b[A\n",
      " 20%|██        | 10/50 [00:41<02:37,  3.94s/it]\u001b[A\n",
      " 22%|██▏       | 11/50 [00:45<02:31,  3.89s/it]\u001b[A\n",
      " 24%|██▍       | 12/50 [00:49<02:22,  3.76s/it]\u001b[A\n",
      " 26%|██▌       | 13/50 [00:52<02:19,  3.78s/it]\u001b[A\n",
      " 28%|██▊       | 14/50 [00:56<02:16,  3.79s/it]\u001b[A\n",
      " 30%|███       | 15/50 [01:00<02:08,  3.67s/it]\u001b[A\n",
      " 32%|███▏      | 16/50 [01:03<02:02,  3.61s/it]\u001b[A\n",
      " 34%|███▍      | 17/50 [01:07<02:01,  3.67s/it]\u001b[A\n",
      " 36%|███▌      | 18/50 [01:11<01:58,  3.71s/it]\u001b[A\n",
      " 38%|███▊      | 19/50 [01:14<01:55,  3.74s/it]\u001b[A\n",
      " 40%|████      | 20/50 [01:18<01:52,  3.77s/it]\u001b[A\n",
      " 42%|████▏     | 21/50 [01:22<01:49,  3.78s/it]\u001b[A\n",
      " 44%|████▍     | 22/50 [01:26<01:48,  3.89s/it]\u001b[A\n",
      " 46%|████▌     | 23/50 [01:30<01:44,  3.87s/it]\u001b[A\n",
      " 48%|████▊     | 24/50 [01:34<01:40,  3.85s/it]\u001b[A\n",
      " 50%|█████     | 25/50 [01:38<01:35,  3.83s/it]\u001b[A\n",
      " 52%|█████▏    | 26/50 [01:41<01:31,  3.83s/it]\u001b[A\n",
      " 54%|█████▍    | 27/50 [01:45<01:28,  3.86s/it]\u001b[A\n",
      " 56%|█████▌    | 28/50 [01:49<01:25,  3.88s/it]\u001b[A\n",
      " 58%|█████▊    | 29/50 [01:53<01:21,  3.86s/it]\u001b[A\n",
      " 60%|██████    | 30/50 [01:57<01:16,  3.83s/it]\u001b[A\n",
      " 62%|██████▏   | 31/50 [02:01<01:12,  3.84s/it]\u001b[A\n",
      " 64%|██████▍   | 32/50 [02:05<01:10,  3.94s/it]\u001b[A\n",
      " 66%|██████▌   | 33/50 [02:09<01:06,  3.91s/it]\u001b[A\n",
      " 68%|██████▊   | 34/50 [02:13<01:02,  3.89s/it]\u001b[A\n",
      " 70%|███████   | 35/50 [02:16<00:58,  3.88s/it]\u001b[A\n",
      " 72%|███████▏  | 36/50 [02:21<00:55,  3.97s/it]\u001b[A\n",
      " 74%|███████▍  | 37/50 [02:25<00:51,  3.94s/it]\u001b[A\n",
      " 76%|███████▌  | 38/50 [02:28<00:46,  3.91s/it]\u001b[A\n",
      " 78%|███████▊  | 39/50 [02:32<00:42,  3.88s/it]\u001b[A\n",
      " 80%|████████  | 40/50 [02:36<00:38,  3.86s/it]\u001b[A\n",
      " 82%|████████▏ | 41/50 [02:40<00:34,  3.87s/it]\u001b[A\n",
      " 84%|████████▍ | 42/50 [02:44<00:30,  3.86s/it]\u001b[A\n",
      " 86%|████████▌ | 43/50 [02:48<00:26,  3.85s/it]\u001b[A\n",
      " 88%|████████▊ | 44/50 [02:51<00:22,  3.73s/it]\u001b[A\n",
      " 90%|█████████ | 45/50 [02:55<00:18,  3.73s/it]\u001b[A\n",
      " 92%|█████████▏| 46/50 [02:59<00:15,  3.77s/it]\u001b[A\n",
      " 94%|█████████▍| 47/50 [03:02<00:11,  3.70s/it]\u001b[A\n",
      " 96%|█████████▌| 48/50 [03:06<00:07,  3.75s/it]\u001b[A\n",
      " 98%|█████████▊| 49/50 [03:10<00:03,  3.69s/it]\u001b[A\n",
      "100%|██████████| 50/50 [03:14<00:00,  3.80s/it]\u001b[A\n",
      "\u001b[A\n",
      "  0%|          | 0/50 [00:00<?, ?it/s]\u001b[A\n",
      "  2%|▏         | 1/50 [00:03<02:59,  3.67s/it]\u001b[A\n",
      "  4%|▍         | 2/50 [00:07<02:56,  3.68s/it]\u001b[A\n",
      "  6%|▌         | 3/50 [00:11<02:52,  3.67s/it]\u001b[A\n",
      "  8%|▊         | 4/50 [00:14<02:44,  3.58s/it]\u001b[A\n",
      " 10%|█         | 5/50 [00:18<02:42,  3.61s/it]\u001b[A\n",
      " 12%|█▏        | 6/50 [00:21<02:39,  3.63s/it]\u001b[A\n",
      " 14%|█▍        | 7/50 [00:25<02:36,  3.65s/it]\u001b[A\n"
     ]
    },
    {
     "name": "stderr",
     "output_type": "stream",
     "text": [
      " 16%|█▌        | 8/50 [00:29<02:33,  3.66s/it]\u001b[A\n",
      " 18%|█▊        | 9/50 [00:32<02:30,  3.68s/it]\u001b[A\n",
      " 20%|██        | 10/50 [00:36<02:22,  3.56s/it]\u001b[A\n",
      " 22%|██▏       | 11/50 [00:39<02:15,  3.47s/it]\u001b[A\n",
      " 24%|██▍       | 12/50 [00:43<02:13,  3.52s/it]\u001b[A\n",
      " 26%|██▌       | 13/50 [00:46<02:07,  3.44s/it]\u001b[A\n",
      " 28%|██▊       | 14/50 [00:49<02:06,  3.51s/it]\u001b[A\n",
      " 30%|███       | 15/50 [00:53<02:04,  3.56s/it]\u001b[A\n",
      " 32%|███▏      | 16/50 [00:57<02:02,  3.60s/it]\u001b[A\n",
      " 34%|███▍      | 17/50 [01:01<01:59,  3.63s/it]\u001b[A\n",
      " 36%|███▌      | 18/50 [01:05<02:05,  3.93s/it]\u001b[A\n",
      " 38%|███▊      | 19/50 [01:10<02:08,  4.13s/it]\u001b[A\n",
      " 40%|████      | 20/50 [01:14<02:02,  4.08s/it]\u001b[A\n",
      " 42%|████▏     | 21/50 [01:17<01:54,  3.96s/it]\u001b[A\n",
      " 44%|████▍     | 22/50 [01:21<01:48,  3.88s/it]\u001b[A\n",
      " 46%|████▌     | 23/50 [01:25<01:43,  3.83s/it]\u001b[A\n",
      " 48%|████▊     | 24/50 [01:28<01:38,  3.78s/it]\u001b[A\n",
      " 50%|█████     | 25/50 [01:32<01:33,  3.75s/it]\u001b[A\n",
      " 52%|█████▏    | 26/50 [01:36<01:29,  3.72s/it]\u001b[A\n",
      " 54%|█████▍    | 27/50 [01:39<01:22,  3.60s/it]\u001b[A\n",
      " 56%|█████▌    | 28/50 [01:43<01:19,  3.62s/it]\u001b[A\n",
      " 58%|█████▊    | 29/50 [01:46<01:16,  3.64s/it]\u001b[A\n",
      " 60%|██████    | 30/50 [01:50<01:12,  3.64s/it]\u001b[A\n",
      " 62%|██████▏   | 31/50 [01:54<01:09,  3.66s/it]\u001b[A\n",
      " 64%|██████▍   | 32/50 [01:57<01:05,  3.64s/it]\u001b[A\n",
      " 66%|██████▌   | 33/50 [02:01<01:01,  3.63s/it]\u001b[A\n",
      " 68%|██████▊   | 34/50 [02:05<00:58,  3.64s/it]\u001b[A\n",
      " 70%|███████   | 35/50 [02:08<00:54,  3.65s/it]\u001b[A\n",
      " 72%|███████▏  | 36/50 [02:12<00:51,  3.67s/it]\u001b[A\n",
      " 74%|███████▍  | 37/50 [02:16<00:47,  3.63s/it]\u001b[A\n",
      " 76%|███████▌  | 38/50 [02:19<00:43,  3.64s/it]\u001b[A\n",
      " 78%|███████▊  | 39/50 [02:23<00:39,  3.64s/it]\u001b[A\n",
      " 80%|████████  | 40/50 [02:27<00:36,  3.65s/it]\u001b[A\n",
      " 82%|████████▏ | 41/50 [02:30<00:32,  3.65s/it]\u001b[A\n",
      " 84%|████████▍ | 42/50 [02:34<00:29,  3.69s/it]\u001b[A\n",
      " 86%|████████▌ | 43/50 [02:38<00:25,  3.66s/it]\u001b[A\n",
      " 88%|████████▊ | 44/50 [02:41<00:21,  3.66s/it]\u001b[A\n",
      " 90%|█████████ | 45/50 [02:45<00:18,  3.66s/it]\u001b[A\n",
      " 92%|█████████▏| 46/50 [02:49<00:14,  3.68s/it]\u001b[A\n",
      " 94%|█████████▍| 47/50 [02:52<00:11,  3.68s/it]\u001b[A\n",
      " 96%|█████████▌| 48/50 [02:56<00:07,  3.68s/it]\u001b[A\n",
      " 98%|█████████▊| 49/50 [03:00<00:03,  3.68s/it]\u001b[A\n",
      "100%|██████████| 50/50 [03:03<00:00,  3.68s/it]\u001b[A\n",
      "\u001b[A\n",
      "  0%|          | 0/50 [00:00<?, ?it/s]\u001b[A\n",
      "  2%|▏         | 1/50 [00:03<02:41,  3.29s/it]\u001b[A\n",
      "  4%|▍         | 2/50 [00:06<02:37,  3.29s/it]\u001b[A\n",
      "  6%|▌         | 3/50 [00:09<02:34,  3.28s/it]\u001b[A\n",
      "  8%|▊         | 4/50 [00:13<02:30,  3.27s/it]\u001b[A\n",
      " 10%|█         | 5/50 [00:16<02:27,  3.27s/it]\u001b[A\n",
      " 12%|█▏        | 6/50 [00:19<02:23,  3.26s/it]\u001b[A\n",
      " 14%|█▍        | 7/50 [00:22<02:20,  3.26s/it]\u001b[A\n",
      " 16%|█▌        | 8/50 [00:26<02:17,  3.26s/it]\u001b[A\n",
      " 18%|█▊        | 9/50 [00:29<02:13,  3.27s/it]\u001b[A\n",
      " 20%|██        | 10/50 [00:32<02:10,  3.26s/it]\u001b[A\n",
      " 22%|██▏       | 11/50 [00:35<02:07,  3.26s/it]\u001b[A\n",
      " 24%|██▍       | 12/50 [00:39<02:03,  3.26s/it]\u001b[A\n",
      " 26%|██▌       | 13/50 [00:42<01:58,  3.19s/it]\u001b[A\n",
      " 28%|██▊       | 14/50 [00:45<01:55,  3.21s/it]\u001b[A\n",
      " 30%|███       | 15/50 [00:48<01:52,  3.23s/it]\u001b[A\n",
      " 32%|███▏      | 16/50 [00:52<01:50,  3.25s/it]\u001b[A\n",
      " 34%|███▍      | 17/50 [00:55<01:47,  3.26s/it]\u001b[A\n",
      " 36%|███▌      | 18/50 [00:58<01:44,  3.25s/it]\u001b[A\n",
      " 38%|███▊      | 19/50 [01:01<01:40,  3.26s/it]\u001b[A\n",
      " 40%|████      | 20/50 [01:05<01:38,  3.27s/it]\u001b[A\n",
      " 42%|████▏     | 21/50 [01:08<01:34,  3.26s/it]\u001b[A\n",
      " 44%|████▍     | 22/50 [01:11<01:31,  3.27s/it]\u001b[A\n",
      " 46%|████▌     | 23/50 [01:14<01:28,  3.26s/it]\u001b[A\n",
      " 48%|████▊     | 24/50 [01:18<01:24,  3.26s/it]\u001b[A\n",
      " 50%|█████     | 25/50 [01:21<01:22,  3.28s/it]\u001b[A\n",
      " 52%|█████▏    | 26/50 [01:24<01:18,  3.28s/it]\u001b[A\n",
      " 54%|█████▍    | 27/50 [01:28<01:15,  3.30s/it]\u001b[A\n",
      " 56%|█████▌    | 28/50 [01:31<01:12,  3.32s/it]\u001b[A\n",
      " 58%|█████▊    | 29/50 [01:34<01:09,  3.30s/it]\u001b[A\n",
      " 60%|██████    | 30/50 [01:37<01:05,  3.28s/it]\u001b[A\n",
      " 62%|██████▏   | 31/50 [01:41<01:02,  3.28s/it]\u001b[A\n",
      " 64%|██████▍   | 32/50 [01:44<00:59,  3.29s/it]\u001b[A\n",
      " 66%|██████▌   | 33/50 [01:47<00:55,  3.28s/it]\u001b[A\n",
      " 68%|██████▊   | 34/50 [01:51<00:52,  3.29s/it]\u001b[A\n",
      " 70%|███████   | 35/50 [01:54<00:49,  3.28s/it]\u001b[A\n",
      " 72%|███████▏  | 36/50 [01:57<00:45,  3.27s/it]\u001b[A\n",
      " 74%|███████▍  | 37/50 [02:00<00:42,  3.27s/it]\u001b[A\n",
      " 76%|███████▌  | 38/50 [02:04<00:39,  3.27s/it]\u001b[A\n",
      " 78%|███████▊  | 39/50 [02:07<00:35,  3.27s/it]\u001b[A\n",
      " 80%|████████  | 40/50 [02:10<00:32,  3.27s/it]\u001b[A\n",
      " 82%|████████▏ | 41/50 [02:13<00:29,  3.27s/it]\u001b[A\n",
      " 84%|████████▍ | 42/50 [02:17<00:26,  3.26s/it]\u001b[A\n",
      " 86%|████████▌ | 43/50 [02:20<00:22,  3.26s/it]\u001b[A\n",
      " 88%|████████▊ | 44/50 [02:23<00:19,  3.27s/it]\u001b[A\n",
      " 90%|█████████ | 45/50 [02:27<00:16,  3.27s/it]\u001b[A\n",
      " 92%|█████████▏| 46/50 [02:30<00:13,  3.27s/it]\u001b[A\n",
      " 94%|█████████▍| 47/50 [02:33<00:09,  3.27s/it]\u001b[A\n",
      " 96%|█████████▌| 48/50 [02:36<00:06,  3.27s/it]\u001b[A\n",
      " 98%|█████████▊| 49/50 [02:40<00:03,  3.27s/it]\u001b[A\n",
      "100%|██████████| 50/50 [02:43<00:00,  3.27s/it]\u001b[A\n",
      "\u001b[A\n",
      "  0%|          | 0/50 [00:00<?, ?it/s]\u001b[A\n",
      "  2%|▏         | 1/50 [00:03<03:10,  3.89s/it]\u001b[A\n",
      "  4%|▍         | 2/50 [00:08<03:11,  3.99s/it]\u001b[A\n",
      "  6%|▌         | 3/50 [00:11<02:55,  3.74s/it]\u001b[A\n",
      "  8%|▊         | 4/50 [00:14<02:44,  3.58s/it]\u001b[A\n",
      " 10%|█         | 5/50 [00:17<02:35,  3.46s/it]\u001b[A\n",
      " 12%|█▏        | 6/50 [00:20<02:28,  3.37s/it]\u001b[A\n",
      " 14%|█▍        | 7/50 [00:23<02:22,  3.31s/it]\u001b[A\n",
      " 16%|█▌        | 8/50 [00:27<02:17,  3.27s/it]\u001b[A\n",
      " 18%|█▊        | 9/50 [00:30<02:12,  3.23s/it]\u001b[A\n",
      " 20%|██        | 10/50 [00:33<02:08,  3.21s/it]\u001b[A\n",
      " 22%|██▏       | 11/50 [00:36<02:04,  3.20s/it]\u001b[A\n",
      " 24%|██▍       | 12/50 [00:39<02:01,  3.19s/it]\u001b[A\n",
      " 26%|██▌       | 13/50 [00:42<01:57,  3.18s/it]\u001b[A\n",
      " 28%|██▊       | 14/50 [00:46<01:55,  3.21s/it]\u001b[A\n",
      " 30%|███       | 15/50 [00:49<01:51,  3.20s/it]\u001b[A\n",
      " 32%|███▏      | 16/50 [00:52<01:48,  3.18s/it]\u001b[A\n",
      " 34%|███▍      | 17/50 [00:55<01:44,  3.17s/it]\u001b[A\n",
      " 36%|███▌      | 18/50 [00:58<01:41,  3.17s/it]\u001b[A\n",
      " 38%|███▊      | 19/50 [01:02<01:38,  3.16s/it]\u001b[A\n",
      " 40%|████      | 20/50 [01:05<01:34,  3.15s/it]\u001b[A\n",
      " 42%|████▏     | 21/50 [01:08<01:31,  3.16s/it]\u001b[A\n",
      " 44%|████▍     | 22/50 [01:11<01:28,  3.17s/it]\u001b[A\n",
      " 46%|████▌     | 23/50 [01:14<01:25,  3.16s/it]\u001b[A\n",
      " 48%|████▊     | 24/50 [01:17<01:22,  3.17s/it]\u001b[A\n",
      " 50%|█████     | 25/50 [01:20<01:19,  3.16s/it]\u001b[A\n",
      " 52%|█████▏    | 26/50 [01:24<01:16,  3.20s/it]\u001b[A\n",
      " 54%|█████▍    | 27/50 [01:27<01:13,  3.19s/it]\u001b[A\n",
      " 56%|█████▌    | 28/50 [01:30<01:09,  3.16s/it]\u001b[A\n",
      " 58%|█████▊    | 29/50 [01:33<01:06,  3.15s/it]\u001b[A\n",
      " 60%|██████    | 30/50 [01:36<01:03,  3.15s/it]\u001b[A\n",
      " 62%|██████▏   | 31/50 [01:39<01:00,  3.16s/it]\u001b[A\n",
      " 64%|██████▍   | 32/50 [01:42<00:55,  3.10s/it]\u001b[A\n",
      " 66%|██████▌   | 33/50 [01:45<00:51,  3.05s/it]\u001b[A\n",
      " 68%|██████▊   | 34/50 [01:49<00:49,  3.08s/it]\u001b[A\n",
      " 70%|███████   | 35/50 [01:52<00:46,  3.10s/it]\u001b[A\n",
      " 72%|███████▏  | 36/50 [01:55<00:43,  3.12s/it]\u001b[A\n",
      " 74%|███████▍  | 37/50 [01:58<00:40,  3.14s/it]\u001b[A\n",
      " 76%|███████▌  | 38/50 [02:01<00:37,  3.12s/it]\u001b[A\n",
      " 78%|███████▊  | 39/50 [02:04<00:34,  3.12s/it]\u001b[A\n",
      " 80%|████████  | 40/50 [02:07<00:31,  3.15s/it]\u001b[A\n",
      " 82%|████████▏ | 41/50 [02:11<00:28,  3.16s/it]\u001b[A\n",
      " 84%|████████▍ | 42/50 [02:14<00:25,  3.17s/it]\u001b[A\n",
      " 86%|████████▌ | 43/50 [02:17<00:22,  3.16s/it]\u001b[A\n",
      " 88%|████████▊ | 44/50 [02:20<00:19,  3.17s/it]\u001b[A\n",
      " 90%|█████████ | 45/50 [02:23<00:15,  3.12s/it]\u001b[A\n",
      " 92%|█████████▏| 46/50 [02:26<00:11,  3.00s/it]\u001b[A\n",
      " 94%|█████████▍| 47/50 [02:29<00:08,  2.93s/it]\u001b[A\n",
      " 96%|█████████▌| 48/50 [02:33<00:06,  3.38s/it]\u001b[A\n",
      " 98%|█████████▊| 49/50 [02:36<00:03,  3.38s/it]\u001b[A\n",
      "100%|██████████| 50/50 [02:40<00:00,  3.37s/it]\u001b[A\n",
      "\u001b[A\n",
      "  0%|          | 0/50 [00:00<?, ?it/s]\u001b[A\n",
      "  2%|▏         | 1/50 [00:03<02:52,  3.53s/it]\u001b[A\n",
      "  4%|▍         | 2/50 [00:06<02:47,  3.49s/it]\u001b[A\n",
      "  6%|▌         | 3/50 [00:11<02:56,  3.76s/it]\u001b[A\n",
      "  8%|▊         | 4/50 [00:15<03:03,  4.00s/it]\u001b[A\n",
      " 10%|█         | 5/50 [00:19<02:53,  3.85s/it]\u001b[A\n",
      " 12%|█▏        | 6/50 [00:22<02:40,  3.65s/it]\u001b[A\n",
      " 14%|█▍        | 7/50 [00:25<02:30,  3.50s/it]\u001b[A\n",
      " 16%|█▌        | 8/50 [00:28<02:22,  3.40s/it]\u001b[A\n",
      " 18%|█▊        | 9/50 [00:32<02:16,  3.34s/it]\u001b[A\n",
      " 20%|██        | 10/50 [00:35<02:11,  3.29s/it]\u001b[A\n",
      " 22%|██▏       | 11/50 [00:38<02:09,  3.33s/it]\u001b[A\n",
      " 24%|██▍       | 12/50 [00:41<02:04,  3.28s/it]\u001b[A\n",
      " 26%|██▌       | 13/50 [00:44<01:59,  3.24s/it]\u001b[A\n",
      " 28%|██▊       | 14/50 [00:48<01:56,  3.22s/it]\u001b[A\n",
      " 30%|███       | 15/50 [00:51<01:52,  3.21s/it]\u001b[A\n"
     ]
    },
    {
     "name": "stderr",
     "output_type": "stream",
     "text": [
      " 32%|███▏      | 16/50 [00:54<01:48,  3.19s/it]\u001b[A\n",
      " 34%|███▍      | 17/50 [00:57<01:45,  3.20s/it]\u001b[A\n",
      " 36%|███▌      | 18/50 [01:00<01:42,  3.20s/it]\u001b[A\n",
      " 38%|███▊      | 19/50 [01:04<01:38,  3.19s/it]\u001b[A\n",
      " 40%|████      | 20/50 [01:06<01:31,  3.05s/it]\u001b[A\n",
      " 42%|████▏     | 21/50 [01:09<01:29,  3.08s/it]\u001b[A\n",
      " 44%|████▍     | 22/50 [01:13<01:27,  3.11s/it]\u001b[A\n",
      " 46%|████▌     | 23/50 [01:16<01:24,  3.13s/it]\u001b[A\n",
      " 48%|████▊     | 24/50 [01:19<01:21,  3.14s/it]\u001b[A\n",
      " 50%|█████     | 25/50 [01:22<01:18,  3.15s/it]\u001b[A\n",
      " 52%|█████▏    | 26/50 [01:25<01:15,  3.15s/it]\u001b[A\n",
      " 54%|█████▍    | 27/50 [01:28<01:12,  3.16s/it]\u001b[A\n",
      " 56%|█████▌    | 28/50 [01:32<01:09,  3.16s/it]\u001b[A\n",
      " 58%|█████▊    | 29/50 [01:35<01:06,  3.16s/it]\u001b[A\n",
      " 60%|██████    | 30/50 [01:38<01:03,  3.17s/it]\u001b[A\n",
      " 62%|██████▏   | 31/50 [01:41<01:00,  3.17s/it]\u001b[A\n",
      " 64%|██████▍   | 32/50 [01:44<00:56,  3.16s/it]\u001b[A\n",
      " 66%|██████▌   | 33/50 [01:47<00:51,  3.03s/it]\u001b[A\n",
      " 68%|██████▊   | 34/50 [01:50<00:46,  2.94s/it]\u001b[A\n",
      " 70%|███████   | 35/50 [01:52<00:43,  2.87s/it]\u001b[A\n",
      " 72%|███████▏  | 36/50 [01:55<00:39,  2.84s/it]\u001b[A\n",
      " 74%|███████▍  | 37/50 [01:58<00:38,  2.94s/it]\u001b[A\n",
      " 76%|███████▌  | 38/50 [02:02<00:36,  3.01s/it]\u001b[A\n",
      " 78%|███████▊  | 39/50 [02:05<00:33,  3.08s/it]\u001b[A\n",
      " 80%|████████  | 40/50 [02:08<00:31,  3.12s/it]\u001b[A\n",
      " 82%|████████▏ | 41/50 [02:11<00:28,  3.13s/it]\u001b[A\n",
      " 84%|████████▍ | 42/50 [02:14<00:25,  3.14s/it]\u001b[A\n",
      " 86%|████████▌ | 43/50 [02:18<00:22,  3.15s/it]\u001b[A\n",
      " 88%|████████▊ | 44/50 [02:21<00:18,  3.15s/it]\u001b[A\n",
      " 90%|█████████ | 45/50 [02:24<00:15,  3.15s/it]\u001b[A\n",
      " 92%|█████████▏| 46/50 [02:27<00:12,  3.17s/it]\u001b[A\n",
      " 94%|█████████▍| 47/50 [02:30<00:09,  3.17s/it]\u001b[A\n",
      " 96%|█████████▌| 48/50 [02:33<00:06,  3.17s/it]\u001b[A\n",
      " 98%|█████████▊| 49/50 [02:37<00:03,  3.17s/it]\u001b[A\n",
      "100%|██████████| 50/50 [02:40<00:00,  3.17s/it]\u001b[A\n",
      "\u001b[A"
     ]
    },
    {
     "name": "stdout",
     "output_type": "stream",
     "text": [
      "Leave-one-out optimal lambda is:  100\n",
      "Leave-one-out misclassification rate:  0.01582\n"
     ]
    }
   ],
   "source": [
    "loocv_lamb_opt = compute_lamb_opt(x_train_sample, y_train_sample, lamb_vals, eps, rho, method = 'loocv')\n",
    "loocv_error = loocv(x_train_sample, y_train_sample, loocv_lamb_opt, rho, eps)\n",
    "print('Leave-one-out optimal lambda is: ',loocv_lamb_opt)\n",
    "print('Leave-one-out misclassification rate: ',loocv_error)"
   ]
  },
  {
   "cell_type": "code",
   "execution_count": 881,
   "metadata": {},
   "outputs": [],
   "source": [
    "# Train model with ideal lambda, as computed by LOOCV\n",
    "loocv_lamb_opt_betas = myrhologistic(x_train_sample, y_train_sample, \n",
    "                                     beta_init, theta_init, loocv_lamb_opt, rho, eta_init, eps)"
   ]
  },
  {
   "cell_type": "code",
   "execution_count": 882,
   "metadata": {
    "scrolled": true
   },
   "outputs": [
    {
     "data": {
      "image/png": "[encoded data removed]",
      "text/plain": [
       "<Figure size 432x288 with 1 Axes>"
      ]
     },
     "metadata": {
      "needs_background": "light"
     },
     "output_type": "display_data"
    }
   ],
   "source": [
    "plot_misclassification_errors(x_train_sample, y_train_sample, x_val_sample, y_val_sample, loocv_lamb_opt_betas)"
   ]
  },
  {
   "cell_type": "markdown",
   "metadata": {},
   "source": [
    "This could be due to the sub-sampling, but it's certainly suspicious. Why would there be no change until the 3rd iteration when it snaps perfectly to 0%??"
   ]
  },
  {
   "cell_type": "code",
   "execution_count": 883,
   "metadata": {},
   "outputs": [
    {
     "name": "stdout",
     "output_type": "stream",
     "text": [
      "Training Misclassificaiton Rate:  0.0\n",
      "Validation Misclassificaiton Rate:  0.0\n"
     ]
    }
   ],
   "source": [
    "print('Training Misclassificaiton Rate: ',compute_error(x_train_sample, y_train_sample, loocv_lamb_opt_betas[-1,:]))\n",
    "print('Validation Misclassificaiton Rate: ',compute_error(x_val_sample, y_val_sample, loocv_lamb_opt_betas[-1,:]))"
   ]
  },
  {
   "cell_type": "markdown",
   "metadata": {},
   "source": [
    "#### HOCV"
   ]
  },
  {
   "cell_type": "code",
   "execution_count": 851,
   "metadata": {},
   "outputs": [
    {
     "name": "stdout",
     "output_type": "stream",
     "text": [
      "80/20 Hold-out optimal lambda is:  0.001\n",
      "80/20 Hold-out misclassification rate:  0.0\n"
     ]
    }
   ],
   "source": [
    "hocv_lamb_opt = compute_lamb_opt(x_train, y_train, lamb_vals, eps, rho, method = 'hocv')\n",
    "hocv_error = hocv(x_train, y_train, hocv_lamb_opt, eps, rho, test_size = 0.2)\n",
    "print('80/20 Hold-out optimal lambda is: ',hocv_lamb_opt)\n",
    "print('80/20 Hold-out misclassification rate: ',hocv_error)"
   ]
  },
  {
   "cell_type": "code",
   "execution_count": 852,
   "metadata": {},
   "outputs": [],
   "source": [
    "# Train model with ideal lambda, as computed by HOCV\n",
    "hocv_lamb_opt_betas = myrhologistic(x_train, y_train, beta_init, theta_init, hocv_lamb_opt, rho, eta_init, eps)"
   ]
  },
  {
   "cell_type": "code",
   "execution_count": 853,
   "metadata": {
    "scrolled": true
   },
   "outputs": [
    {
     "data": {
      "image/png": "[encoded data removed]",
      "text/plain": [
       "<Figure size 432x288 with 1 Axes>"
      ]
     },
     "metadata": {
      "needs_background": "light"
     },
     "output_type": "display_data"
    }
   ],
   "source": [
    "plot_misclassification_errors(x_train, y_train, x_val, y_val, hocv_lamb_opt_betas)"
   ]
  },
  {
   "cell_type": "code",
   "execution_count": 854,
   "metadata": {
    "scrolled": true
   },
   "outputs": [
    {
     "name": "stdout",
     "output_type": "stream",
     "text": [
      "Training Misclassificaiton Rate:  0.0\n",
      "Validation Misclassificaiton Rate:  0.005\n"
     ]
    }
   ],
   "source": [
    "print('Training Misclassificaiton Rate: ',compute_error(x_train, y_train, hocv_lamb_opt_betas[-1,:]))\n",
    "print('Validation Misclassificaiton Rate: ',compute_error(x_val, y_val, hocv_lamb_opt_betas[-1,:]))"
   ]
  },
  {
   "cell_type": "markdown",
   "metadata": {},
   "source": [
    "This is an _obscenely_ good misclassification rate. Too good, perhaps."
   ]
  },
  {
   "cell_type": "markdown",
   "metadata": {},
   "source": [
    "**Instructions**  \n",
    "Consider all pairs of classes from the dataset. For each pair of classes, train a classifier using\n",
    "a $\\ell_2^2$-regularized binary logistic regression with $\\rho$-logistic loss on the training set comprising\n",
    "only the data-points for that pair of classes using your own fast gradient algorithm. For each\n",
    "pair of classes, find the value of the regularization parameter $\\lambda$ using hold-out cross-validation\n",
    "on the training set comprising only the data-points for that pair of classes."
   ]
  },
  {
   "cell_type": "code",
   "execution_count": 855,
   "metadata": {},
   "outputs": [],
   "source": [
    "class_possibilities = np.unique(y_train_raw)"
   ]
  },
  {
   "cell_type": "code",
   "execution_count": 856,
   "metadata": {},
   "outputs": [],
   "source": [
    "# create array of all possible pairs\n",
    "all_pairs = np.empty((0,2),int)\n",
    "for i in class_possibilities:\n",
    "    for j in class_possibilities:\n",
    "        all_pairs = np.append(all_pairs, \n",
    "                              np.array([class_possibilities[i],class_possibilities[j]]).reshape(1,2), \n",
    "                              axis = 0)"
   ]
  },
  {
   "cell_type": "code",
   "execution_count": 857,
   "metadata": {},
   "outputs": [],
   "source": [
    "keep_index = []\n",
    "for i in range(len(all_pairs)):\n",
    "    # remove pairs with same class\n",
    "    if all_pairs[i,0] != all_pairs[i,1]:\n",
    "        # remove pairs already in the array higher up, but in different order\n",
    "        if any(([all_pairs[i,1],all_pairs[i,0]] == x).all() for x in list(all_pairs[0:i-1]))==False:\n",
    "            keep_index.append(i) "
   ]
  },
  {
   "cell_type": "code",
   "execution_count": 858,
   "metadata": {},
   "outputs": [],
   "source": [
    "all_pairs = all_pairs[keep_index]"
   ]
  },
  {
   "cell_type": "code",
   "execution_count": 788,
   "metadata": {},
   "outputs": [],
   "source": [
    "lambdas_opt = []\n",
    "models = []\n",
    "for i in tqdm(range(len(all_pairs))):\n",
    "    # Subset to pair\n",
    "    class1, class2 = all_pairs[i]\n",
    "    train_ids = np.array([np.where(y_train_raw==class1),np.where(y_train_raw==class2)]).reshape(-1)\n",
    "    x_train = x_train_raw[train_ids]\n",
    "    y_train = y_train_raw[train_ids]\n",
    "    val_ids = np.array([np.where(y_val_raw==class1),np.where(y_val_raw==class2)]).reshape(-1)\n",
    "    x_val = x_val_raw[val_ids]\n",
    "    y_val = y_val_raw[val_ids]\n",
    "    # Replace class indicators with +/-1; make sure to set -1 to avoid converting all values to 1 (if the class2 is 1)\n",
    "    y_train[y_train==class2] = -1\n",
    "    y_train[y_train==class1] = 1\n",
    "    y_val[y_val==class2] = -1\n",
    "    y_val[y_val==class1] = 1\n",
    "    # Standardize\n",
    "    x_standardizer = preprocessing.StandardScaler()\n",
    "    x_train = x_standardizer.fit_transform(x_train)\n",
    "    x_val = x_standardizer.fit_transform(x_val)\n",
    "    # Calculate optimal lambda\n",
    "    hocv_lamb_opt = compute_lamb_opt(x_train, y_train, lamb_vals, eps, rho, method = 'hocv')\n",
    "    lambdas_opt.append(hocv_lamb_opt)\n",
    "    # train model with optimal lambda\n",
    "    betas = myrhologistic(x_train, \n",
    "                          y_train, \n",
    "                          beta_init, \n",
    "                          theta_init, \n",
    "                          lambdas_opt[i], \n",
    "                          rho, \n",
    "                          computeEtaInit(x_train, y_train, lambdas_opt[i]), \n",
    "                          eps)\n",
    "    betas_opt = betas[-1]\n",
    "    models.append(betas_opt)"
   ]
  },
  {
   "cell_type": "markdown",
   "metadata": {},
   "source": [
    "**Instructions**  \n",
    "Write a function that for any new data point predicts its label. To do this, you will perform the following: input the data point into each classifier (for each pair of classes) you trained above. Record the class predicted by each classifier. Then your prediction for this data point is the most frequently predicted class. If there is a tie, randomly choose between the tied classes. Report the misclassification error on the validation set and test set. Report the precision/recall on the validation set.\n"
   ]
  },
  {
   "cell_type": "code",
   "execution_count": 884,
   "metadata": {},
   "outputs": [],
   "source": [
    "def compute_prediction(x, y, beta):\n",
    "    y_pred = 1/(1+np.exp(-x.dot(beta))) > 0.5 \n",
    "    y_pred = y_pred*2 - 1 # Convert to +/- 1\n",
    "    return y_pred"
   ]
  },
  {
   "cell_type": "code",
   "execution_count": 910,
   "metadata": {},
   "outputs": [],
   "source": [
    "# Set train/validation to total dataset\n",
    "x_train = x_train_raw.copy()\n",
    "y_train = y_train_raw.copy()\n",
    "x_val = x_val_raw.copy()\n",
    "y_val = y_val_raw.copy()\n",
    "\n",
    "# Standardize\n",
    "x_standardizer = preprocessing.StandardScaler()\n",
    "x_train = x_standardizer.fit_transform(x_train)\n",
    "x_val = x_standardizer.fit_transform(x_val)"
   ]
  },
  {
   "cell_type": "markdown",
   "metadata": {},
   "source": [
    "#### Training set predictions and results"
   ]
  },
  {
   "cell_type": "code",
   "execution_count": 1015,
   "metadata": {},
   "outputs": [],
   "source": [
    "train_predictions = np.zeros((len(y_train),len(models)))"
   ]
  },
  {
   "cell_type": "code",
   "execution_count": 1016,
   "metadata": {},
   "outputs": [],
   "source": [
    "for i in range(len(y_train)):\n",
    "    for j in range(len(models)):\n",
    "        train_predictions[i,j] = compute_prediction(x_train[i], y_train[i], models[j])"
   ]
  },
  {
   "cell_type": "code",
   "execution_count": 1017,
   "metadata": {},
   "outputs": [],
   "source": [
    "# convert from +/-1 to the original class \n",
    "for i in range(train_predictions.shape[0]):\n",
    "    for j in range(train_predictions.shape[1]):\n",
    "        if train_predictions[i,j]==1:\n",
    "            train_predictions[i,j]=all_pairs[j,0]\n",
    "        else:\n",
    "            train_predictions[i,j]=all_pairs[j,1]"
   ]
  },
  {
   "cell_type": "code",
   "execution_count": 1018,
   "metadata": {},
   "outputs": [],
   "source": [
    "def countX(lst, x): \n",
    "    return lst.count(x) "
   ]
  },
  {
   "cell_type": "code",
   "execution_count": 1020,
   "metadata": {},
   "outputs": [],
   "source": [
    "# for each data point, pick either the most occurring prediction by all the classifiers or, if tie, random between\n",
    "# the tied classes\n",
    "train_prediction_results = []\n",
    "for i in range(len(train_predictions)):\n",
    "    freq = []\n",
    "    for j in class_possibilities:\n",
    "        freq.append(countX(list(train_predictions[i]),class_possibilities[j]))\n",
    "    prediction = class_possibilities[choice([k for k,x in enumerate(freq) if x==max(freq)])]\n",
    "    train_prediction_results.append(prediction)"
   ]
  },
  {
   "cell_type": "code",
   "execution_count": 1021,
   "metadata": {},
   "outputs": [],
   "source": [
    "freq = []\n",
    "for i in class_possibilities:\n",
    "    freq.append(countX(train_prediction_results,class_possibilities[i]))"
   ]
  },
  {
   "cell_type": "code",
   "execution_count": 1022,
   "metadata": {},
   "outputs": [
    {
     "data": {
      "text/html": [
       "<div>\n",
       "<style scoped>\n",
       "    .dataframe tbody tr th:only-of-type {\n",
       "        vertical-align: middle;\n",
       "    }\n",
       "\n",
       "    .dataframe tbody tr th {\n",
       "        vertical-align: top;\n",
       "    }\n",
       "\n",
       "    .dataframe thead th {\n",
       "        text-align: right;\n",
       "    }\n",
       "</style>\n",
       "<table border=\"1\" class=\"dataframe\">\n",
       "  <thead>\n",
       "    <tr style=\"text-align: right;\">\n",
       "      <th></th>\n",
       "      <th>class_indicator</th>\n",
       "      <th>freq</th>\n",
       "    </tr>\n",
       "  </thead>\n",
       "  <tbody>\n",
       "    <tr>\n",
       "      <th>0</th>\n",
       "      <td>0</td>\n",
       "      <td>549</td>\n",
       "    </tr>\n",
       "    <tr>\n",
       "      <th>1</th>\n",
       "      <td>1</td>\n",
       "      <td>460</td>\n",
       "    </tr>\n",
       "    <tr>\n",
       "      <th>2</th>\n",
       "      <td>2</td>\n",
       "      <td>500</td>\n",
       "    </tr>\n",
       "    <tr>\n",
       "      <th>3</th>\n",
       "      <td>3</td>\n",
       "      <td>389</td>\n",
       "    </tr>\n",
       "    <tr>\n",
       "      <th>4</th>\n",
       "      <td>4</td>\n",
       "      <td>472</td>\n",
       "    </tr>\n",
       "    <tr>\n",
       "      <th>5</th>\n",
       "      <td>5</td>\n",
       "      <td>539</td>\n",
       "    </tr>\n",
       "    <tr>\n",
       "      <th>6</th>\n",
       "      <td>6</td>\n",
       "      <td>566</td>\n",
       "    </tr>\n",
       "    <tr>\n",
       "      <th>7</th>\n",
       "      <td>7</td>\n",
       "      <td>460</td>\n",
       "    </tr>\n",
       "    <tr>\n",
       "      <th>8</th>\n",
       "      <td>8</td>\n",
       "      <td>527</td>\n",
       "    </tr>\n",
       "    <tr>\n",
       "      <th>9</th>\n",
       "      <td>9</td>\n",
       "      <td>538</td>\n",
       "    </tr>\n",
       "  </tbody>\n",
       "</table>\n",
       "</div>"
      ],
      "text/plain": [
       "   class_indicator  freq\n",
       "0                0   549\n",
       "1                1   460\n",
       "2                2   500\n",
       "3                3   389\n",
       "4                4   472\n",
       "5                5   539\n",
       "6                6   566\n",
       "7                7   460\n",
       "8                8   527\n",
       "9                9   538"
      ]
     },
     "execution_count": 1022,
     "metadata": {},
     "output_type": "execute_result"
    }
   ],
   "source": [
    "# show results\n",
    "pd.DataFrame({'Class': class_possibilities, 'Freq': freq})"
   ]
  },
  {
   "cell_type": "code",
   "execution_count": 1023,
   "metadata": {},
   "outputs": [
    {
     "name": "stdout",
     "output_type": "stream",
     "text": [
      "Training Misclassificaiton Rate:  0.0664\n"
     ]
    }
   ],
   "source": [
    "# misclassification on the test set\n",
    "print('Training Misclassificaiton Rate: ',np.mean(train_prediction_results != y_train))"
   ]
  },
  {
   "cell_type": "code",
   "execution_count": 1042,
   "metadata": {
    "scrolled": false
   },
   "outputs": [],
   "source": [
    "train_conf_matrix = confusion_matrix(y_train, train_prediction_results)"
   ]
  },
  {
   "cell_type": "code",
   "execution_count": 1047,
   "metadata": {},
   "outputs": [
    {
     "data": {
      "text/plain": [
       "<matplotlib.axes._subplots.AxesSubplot at 0x1c1ffaca20>"
      ]
     },
     "execution_count": 1047,
     "metadata": {},
     "output_type": "execute_result"
    },
    {
     "data": {
      "image/png": "[encoded data removed]",
      "text/plain": [
       "<Figure size 720x504 with 2 Axes>"
      ]
     },
     "metadata": {},
     "output_type": "display_data"
    }
   ],
   "source": [
    "array = train_conf_matrix\n",
    "df_cm = pd.DataFrame(array, index = class_possibilities,\n",
    "                  columns = class_possibilities)\n",
    "plt.figure(figsize = (10,7))\n",
    "sn.set(font_scale=1.4)#for label size\n",
    "sn.heatmap(df_cm, annot=True,annot_kws={\"size\": 16}, fmt = 'g')# font size"
   ]
  },
  {
   "cell_type": "code",
   "execution_count": 1048,
   "metadata": {},
   "outputs": [],
   "source": [
    "precision, recall, fscore, support = precision_recall_fscore_support(y_train, train_prediction_results)"
   ]
  },
  {
   "cell_type": "code",
   "execution_count": 1051,
   "metadata": {},
   "outputs": [
    {
     "data": {
      "text/html": [
       "<div>\n",
       "<style scoped>\n",
       "    .dataframe tbody tr th:only-of-type {\n",
       "        vertical-align: middle;\n",
       "    }\n",
       "\n",
       "    .dataframe tbody tr th {\n",
       "        vertical-align: top;\n",
       "    }\n",
       "\n",
       "    .dataframe thead th {\n",
       "        text-align: right;\n",
       "    }\n",
       "</style>\n",
       "<table border=\"1\" class=\"dataframe\">\n",
       "  <thead>\n",
       "    <tr style=\"text-align: right;\">\n",
       "      <th></th>\n",
       "      <th>Class</th>\n",
       "      <th>Training Pecision</th>\n",
       "      <th>Training Recall</th>\n",
       "    </tr>\n",
       "  </thead>\n",
       "  <tbody>\n",
       "    <tr>\n",
       "      <th>0</th>\n",
       "      <td>0</td>\n",
       "      <td>0.905282</td>\n",
       "      <td>0.994</td>\n",
       "    </tr>\n",
       "    <tr>\n",
       "      <th>1</th>\n",
       "      <td>1</td>\n",
       "      <td>0.967391</td>\n",
       "      <td>0.890</td>\n",
       "    </tr>\n",
       "    <tr>\n",
       "      <th>2</th>\n",
       "      <td>2</td>\n",
       "      <td>0.910000</td>\n",
       "      <td>0.910</td>\n",
       "    </tr>\n",
       "    <tr>\n",
       "      <th>3</th>\n",
       "      <td>3</td>\n",
       "      <td>0.989717</td>\n",
       "      <td>0.770</td>\n",
       "    </tr>\n",
       "    <tr>\n",
       "      <th>4</th>\n",
       "      <td>4</td>\n",
       "      <td>0.966102</td>\n",
       "      <td>0.912</td>\n",
       "    </tr>\n",
       "    <tr>\n",
       "      <th>5</th>\n",
       "      <td>5</td>\n",
       "      <td>0.927644</td>\n",
       "      <td>1.000</td>\n",
       "    </tr>\n",
       "    <tr>\n",
       "      <th>6</th>\n",
       "      <td>6</td>\n",
       "      <td>0.871025</td>\n",
       "      <td>0.986</td>\n",
       "    </tr>\n",
       "    <tr>\n",
       "      <th>7</th>\n",
       "      <td>7</td>\n",
       "      <td>0.978261</td>\n",
       "      <td>0.900</td>\n",
       "    </tr>\n",
       "    <tr>\n",
       "      <th>8</th>\n",
       "      <td>8</td>\n",
       "      <td>0.941176</td>\n",
       "      <td>0.992</td>\n",
       "    </tr>\n",
       "    <tr>\n",
       "      <th>9</th>\n",
       "      <td>9</td>\n",
       "      <td>0.912639</td>\n",
       "      <td>0.982</td>\n",
       "    </tr>\n",
       "  </tbody>\n",
       "</table>\n",
       "</div>"
      ],
      "text/plain": [
       "   Class  Training Pecision  Training Recall\n",
       "0      0           0.905282            0.994\n",
       "1      1           0.967391            0.890\n",
       "2      2           0.910000            0.910\n",
       "3      3           0.989717            0.770\n",
       "4      4           0.966102            0.912\n",
       "5      5           0.927644            1.000\n",
       "6      6           0.871025            0.986\n",
       "7      7           0.978261            0.900\n",
       "8      8           0.941176            0.992\n",
       "9      9           0.912639            0.982"
      ]
     },
     "execution_count": 1051,
     "metadata": {},
     "output_type": "execute_result"
    }
   ],
   "source": [
    "pd.DataFrame({'Class': class_possibilities,\n",
    "             'Training Pecision': precision,\n",
    "             'Training Recall': recall,})"
   ]
  },
  {
   "cell_type": "markdown",
   "metadata": {},
   "source": [
    "#### Test set predictions and results"
   ]
  },
  {
   "cell_type": "code",
   "execution_count": 1024,
   "metadata": {},
   "outputs": [
    {
     "data": {
      "text/html": [
       "<div>\n",
       "<style scoped>\n",
       "    .dataframe tbody tr th:only-of-type {\n",
       "        vertical-align: middle;\n",
       "    }\n",
       "\n",
       "    .dataframe tbody tr th {\n",
       "        vertical-align: top;\n",
       "    }\n",
       "\n",
       "    .dataframe thead th {\n",
       "        text-align: right;\n",
       "    }\n",
       "</style>\n",
       "<table border=\"1\" class=\"dataframe\">\n",
       "  <thead>\n",
       "    <tr style=\"text-align: right;\">\n",
       "      <th></th>\n",
       "      <th>class_indicator</th>\n",
       "      <th>freq</th>\n",
       "    </tr>\n",
       "  </thead>\n",
       "  <tbody>\n",
       "    <tr>\n",
       "      <th>0</th>\n",
       "      <td>0</td>\n",
       "      <td>139</td>\n",
       "    </tr>\n",
       "    <tr>\n",
       "      <th>1</th>\n",
       "      <td>1</td>\n",
       "      <td>74</td>\n",
       "    </tr>\n",
       "    <tr>\n",
       "      <th>2</th>\n",
       "      <td>2</td>\n",
       "      <td>101</td>\n",
       "    </tr>\n",
       "    <tr>\n",
       "      <th>3</th>\n",
       "      <td>3</td>\n",
       "      <td>56</td>\n",
       "    </tr>\n",
       "    <tr>\n",
       "      <th>4</th>\n",
       "      <td>4</td>\n",
       "      <td>80</td>\n",
       "    </tr>\n",
       "    <tr>\n",
       "      <th>5</th>\n",
       "      <td>5</td>\n",
       "      <td>124</td>\n",
       "    </tr>\n",
       "    <tr>\n",
       "      <th>6</th>\n",
       "      <td>6</td>\n",
       "      <td>108</td>\n",
       "    </tr>\n",
       "    <tr>\n",
       "      <th>7</th>\n",
       "      <td>7</td>\n",
       "      <td>77</td>\n",
       "    </tr>\n",
       "    <tr>\n",
       "      <th>8</th>\n",
       "      <td>8</td>\n",
       "      <td>133</td>\n",
       "    </tr>\n",
       "    <tr>\n",
       "      <th>9</th>\n",
       "      <td>9</td>\n",
       "      <td>108</td>\n",
       "    </tr>\n",
       "  </tbody>\n",
       "</table>\n",
       "</div>"
      ],
      "text/plain": [
       "   class_indicator  freq\n",
       "0                0   139\n",
       "1                1    74\n",
       "2                2   101\n",
       "3                3    56\n",
       "4                4    80\n",
       "5                5   124\n",
       "6                6   108\n",
       "7                7    77\n",
       "8                8   133\n",
       "9                9   108"
      ]
     },
     "execution_count": 1024,
     "metadata": {},
     "output_type": "execute_result"
    }
   ],
   "source": [
    "val_predictions = np.zeros((len(y_val),len(models)))\n",
    "for i in range(len(y_val)):\n",
    "    for j in range(len(models)):\n",
    "        val_predictions[i,j] = compute_prediction(x_val[i], y_val[i], models[j])\n",
    "        \n",
    "# convert from +/-1 to the original class \n",
    "for i in range(val_predictions.shape[0]):\n",
    "    for j in range(val_predictions.shape[1]):\n",
    "        if val_predictions[i,j]==1:\n",
    "            val_predictions[i,j]=all_pairs[j,0]\n",
    "        else:\n",
    "            val_predictions[i,j]=all_pairs[j,1]\n",
    "            \n",
    "# for each data point, pick either the most occurring prediction by all the classifiers or, if tie, random between\n",
    "# the tied classes\n",
    "val_prediction_results = []\n",
    "for i in range(len(val_predictions)):\n",
    "    freq = []\n",
    "    for j in class_possibilities:\n",
    "        freq.append(countX(list(val_predictions[i]),class_possibilities[j]))\n",
    "    prediction = class_possibilities[choice([k for k,x in enumerate(freq) if x==max(freq)])]\n",
    "    val_prediction_results.append(prediction)\n",
    "    \n",
    "freq = []\n",
    "for i in class_possibilities:\n",
    "    freq.append(countX(val_prediction_results,class_possibilities[i]))\n",
    "    \n",
    "# show results\n",
    "pd.DataFrame({'Class Indicator': class_possibilities, 'Freq': freq})"
   ]
  },
  {
   "cell_type": "code",
   "execution_count": 1027,
   "metadata": {},
   "outputs": [
    {
     "name": "stdout",
     "output_type": "stream",
     "text": [
      "Test Misclassificaiton Rate:  0.256\n"
     ]
    }
   ],
   "source": [
    "# misclassification on the test set\n",
    "print('Test Misclassificaiton Rate: ',np.mean(val_prediction_results != y_val))"
   ]
  },
  {
   "cell_type": "code",
   "execution_count": 1052,
   "metadata": {},
   "outputs": [],
   "source": [
    "val_conf_matrix = confusion_matrix(y_val, val_prediction_results)"
   ]
  },
  {
   "cell_type": "code",
   "execution_count": 1053,
   "metadata": {},
   "outputs": [
    {
     "data": {
      "text/plain": [
       "<matplotlib.axes._subplots.AxesSubplot at 0x1c1cf5b358>"
      ]
     },
     "execution_count": 1053,
     "metadata": {},
     "output_type": "execute_result"
    },
    {
     "data": {
      "image/png": "[encoded data removed]",
      "text/plain": [
       "<Figure size 720x504 with 2 Axes>"
      ]
     },
     "metadata": {},
     "output_type": "display_data"
    }
   ],
   "source": [
    "array = val_conf_matrix\n",
    "df_cm = pd.DataFrame(array, index = class_possibilities,\n",
    "                  columns = class_possibilities)\n",
    "plt.figure(figsize = (10,7))\n",
    "sn.set(font_scale=1.4)#for label size\n",
    "sn.heatmap(df_cm, annot=True,annot_kws={\"size\": 16}, fmt = 'g')# font size"
   ]
  },
  {
   "cell_type": "code",
   "execution_count": 1054,
   "metadata": {},
   "outputs": [],
   "source": [
    "precision, recall, fscore, support = precision_recall_fscore_support(y_val, val_prediction_results)"
   ]
  },
  {
   "cell_type": "code",
   "execution_count": 1055,
   "metadata": {},
   "outputs": [
    {
     "data": {
      "text/html": [
       "<div>\n",
       "<style scoped>\n",
       "    .dataframe tbody tr th:only-of-type {\n",
       "        vertical-align: middle;\n",
       "    }\n",
       "\n",
       "    .dataframe tbody tr th {\n",
       "        vertical-align: top;\n",
       "    }\n",
       "\n",
       "    .dataframe thead th {\n",
       "        text-align: right;\n",
       "    }\n",
       "</style>\n",
       "<table border=\"1\" class=\"dataframe\">\n",
       "  <thead>\n",
       "    <tr style=\"text-align: right;\">\n",
       "      <th></th>\n",
       "      <th>Class</th>\n",
       "      <th>Training Pecision</th>\n",
       "      <th>Training Recall</th>\n",
       "    </tr>\n",
       "  </thead>\n",
       "  <tbody>\n",
       "    <tr>\n",
       "      <th>0</th>\n",
       "      <td>0</td>\n",
       "      <td>0.676259</td>\n",
       "      <td>0.94</td>\n",
       "    </tr>\n",
       "    <tr>\n",
       "      <th>1</th>\n",
       "      <td>1</td>\n",
       "      <td>0.837838</td>\n",
       "      <td>0.62</td>\n",
       "    </tr>\n",
       "    <tr>\n",
       "      <th>2</th>\n",
       "      <td>2</td>\n",
       "      <td>0.772277</td>\n",
       "      <td>0.78</td>\n",
       "    </tr>\n",
       "    <tr>\n",
       "      <th>3</th>\n",
       "      <td>3</td>\n",
       "      <td>0.857143</td>\n",
       "      <td>0.48</td>\n",
       "    </tr>\n",
       "    <tr>\n",
       "      <th>4</th>\n",
       "      <td>4</td>\n",
       "      <td>0.787500</td>\n",
       "      <td>0.63</td>\n",
       "    </tr>\n",
       "    <tr>\n",
       "      <th>5</th>\n",
       "      <td>5</td>\n",
       "      <td>0.693548</td>\n",
       "      <td>0.86</td>\n",
       "    </tr>\n",
       "    <tr>\n",
       "      <th>6</th>\n",
       "      <td>6</td>\n",
       "      <td>0.675926</td>\n",
       "      <td>0.73</td>\n",
       "    </tr>\n",
       "    <tr>\n",
       "      <th>7</th>\n",
       "      <td>7</td>\n",
       "      <td>0.831169</td>\n",
       "      <td>0.64</td>\n",
       "    </tr>\n",
       "    <tr>\n",
       "      <th>8</th>\n",
       "      <td>8</td>\n",
       "      <td>0.714286</td>\n",
       "      <td>0.95</td>\n",
       "    </tr>\n",
       "    <tr>\n",
       "      <th>9</th>\n",
       "      <td>9</td>\n",
       "      <td>0.750000</td>\n",
       "      <td>0.81</td>\n",
       "    </tr>\n",
       "  </tbody>\n",
       "</table>\n",
       "</div>"
      ],
      "text/plain": [
       "   Class  Training Pecision  Training Recall\n",
       "0      0           0.676259             0.94\n",
       "1      1           0.837838             0.62\n",
       "2      2           0.772277             0.78\n",
       "3      3           0.857143             0.48\n",
       "4      4           0.787500             0.63\n",
       "5      5           0.693548             0.86\n",
       "6      6           0.675926             0.73\n",
       "7      7           0.831169             0.64\n",
       "8      8           0.714286             0.95\n",
       "9      9           0.750000             0.81"
      ]
     },
     "execution_count": 1055,
     "metadata": {},
     "output_type": "execute_result"
    }
   ],
   "source": [
    "pd.DataFrame({'Class': class_possibilities,\n",
    "             'Training Pecision': precision,\n",
    "             'Training Recall': recall,})"
   ]
  }
 ],
 "metadata": {
  "kernelspec": {
   "display_name": "Python 3",
   "language": "python",
   "name": "python3"
  },
  "language_info": {
   "codemirror_mode": {
    "name": "ipython",
    "version": 3
   },
   "file_extension": ".py",
   "mimetype": "text/x-python",
   "name": "python",
   "nbconvert_exporter": "python",
   "pygments_lexer": "ipython3",
   "version": "3.7.1"
  }
 },
 "nbformat": 4,
 "nbformat_minor": 2
}
