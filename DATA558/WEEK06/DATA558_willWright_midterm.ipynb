{
 "cells": [
  {
   "cell_type": "markdown",
   "metadata": {},
   "source": [
    "# DATA 558 Midterm\n",
    "\n",
    "Will Wright"
   ]
  },
  {
   "cell_type": "markdown",
   "metadata": {},
   "source": [
    "### Exercise 1"
   ]
  },
  {
   "cell_type": "markdown",
   "metadata": {},
   "source": [
    "**Instruction**  \n",
    "Compute the gradient $\\nabla F(\\beta)$ where the objective is:\n",
    "$$\\min_{\\mathbf{\\beta \\in \\mathbb{R}^d}} F(\\beta):=\\frac{1}{n}\\sum_{i=1}^{n} \\frac{1}{\\rho}log(1+exp(-\\rho y_ix_i^T\\beta)) + \\lambda\\lVert\\beta\\rVert_2^2$$"
   ]
  },
  {
   "cell_type": "markdown",
   "metadata": {},
   "source": [
    "**Solution**  \n",
    "Start by moving the scalar $\\frac{1}{\\rho}$ outside the summation:  \n",
    "$F(\\beta)=\\frac{1}{n\\rho}\\sum_{i=1}^{n} log(1+exp(-\\rho y_ix_i^T\\beta)) + \\lambda\\lVert\\beta\\rVert_2^2$\n",
    "\n",
    "Next, break up into two terms:  \n",
    "(1) $\\frac{1}{n\\rho}\\sum_{i=1}^{n} log(1+exp(-\\rho y_ix_i^T\\beta))$  \n",
    "(2) $\\lambda\\lVert \\beta\\rVert_2^2$ \n",
    "\n",
    "Find the derivative of the first term:  \n",
    "(1) $\\frac{\\partial}{\\partial \\beta}\\Big[\\frac{1}{n\\rho}\\sum_{i=1}^{n} log(1+exp(-\\rho y_ix_i^T\\beta))\\Big]$  \n",
    "  \n",
    "> Move the constant and summation to the outside of the derivative: \n",
    "$\\frac{1}{n\\rho}\\sum_{i=1}^{n}\\frac{\\partial}{\\partial \\beta}\\Big[ log(1+exp(-\\rho y_ix_i^T\\beta))\\Big]$ \n",
    "  \n",
    "> Use the chain rule with the following functions and their derivatives:  \n",
    "$(f\\circ g \\circ h) = log(g\\circ h)$  \n",
    "$(f\\circ g \\circ h)' = \\frac{1}{(g\\circ h)} \\cdot (g \\circ h)' $  \n",
    "$(g\\circ h) = 1+exp(-h)$  \n",
    "$(g\\circ h)' = -exp(-h)\\cdot h'$  \n",
    "$h = \\rho y_ix_i^T\\beta$  \n",
    "$h' = \\rho y_ix_i$  \n",
    "  \n",
    "> Putting the chains together, we have:  \n",
    "$(f\\circ g \\circ h)' = -\\rho y_ix_i \\cdot \\frac{exp(- \\rho y_ix_i^T\\beta)}{1+exp(-\\rho y_ix_i^T\\beta)}$\n",
    "  \n",
    "> Re-apply constant scalar and summation:  \n",
    "$=\\frac{1}{n\\rho}\\sum_{i=1}^{n}-\\rho y_ix_i \\cdot \\frac{exp(- \\rho y_ix_i^T\\beta)}{1+exp(-\\rho y_ix_i^T\\beta)}$\n",
    "\n",
    "> Move the constant $-\\rho$ outside the summation and cancel it out:\n",
    "$=-\\frac{1}{n}\\sum_{i=1}^{n}y_ix_i \\cdot \\frac{exp(- \\rho y_ix_i^T\\beta)}{1+exp(-\\rho y_ix_i^T\\beta)}$\n",
    "\n",
    "Next, derive the second term:  \n",
    "(2) $\\frac{\\partial}{\\partial \\beta}\\lambda\\lVert \\beta\\rVert_2^2$  \n",
    "  \n",
    "> Move the constant $\\lambda$ outside the derivation and convert to matrix form:  \n",
    "$ =\\lambda \\frac{\\partial}{\\partial \\beta}\\beta^T \\beta$\n",
    "  \n",
    "> Multiply by the identity matrix $I$:  \n",
    "$ =\\lambda \\frac{\\partial}{\\partial \\beta}\\beta^T I \\beta$\n",
    "  \n",
    "> Apply the property $\\frac{\\partial}{\\partial x}x^T Ax = (A+A^T)x$:  \n",
    "$ =\\lambda (I + I^T)\\beta$  \n",
    "  \n",
    "> Given that $(I + I^T)$ is simply a scalar of 2 for matrices, we can simplify:  \n",
    "\n",
    "> $=2\\lambda \\beta $  \n",
    "  \n",
    "Next, we add (1) and (2) to get:  \n",
    "$\\nabla F(\\beta) = -\\frac{1}{n}\\sum_{i=1}^{n}y_ix_i \\cdot \\frac{exp(- \\rho y_ix_i^T\\beta)}{1+exp(-\\rho y_ix_i^T\\beta)} + 2\\lambda \\beta$"
   ]
  },
  {
   "cell_type": "markdown",
   "metadata": {},
   "source": [
    "**Instruction**  \n",
    "Consider the Spam dataset from The Elements of Statistical Learning. Standardize the data, if you have not done so already. Be sure to use the training and test splits from the website."
   ]
  },
  {
   "cell_type": "code",
   "execution_count": 93,
   "metadata": {},
   "outputs": [],
   "source": [
    "# Load Packages\n",
    "import numpy as np\n",
    "import matplotlib.pyplot as plt\n",
    "import pandas as pd\n",
    "import statsmodels.api as sm\n",
    "import copy\n",
    "import sklearn.preprocessing\n",
    "from sklearn.linear_model import LogisticRegression\n",
    "\n",
    "spam = pd.read_table('https://web.stanford.edu/~hastie/ElemStatLearn/datasets/spam.data', \n",
    "                   delim_whitespace=True, header = None)\n",
    "test_indicator = pd.read_table('https://web.stanford.edu/~hastie/ElemStatLearn/datasets/spam.traintest',\n",
    "                         delim_whitespace=True, header = None)"
   ]
  },
  {
   "cell_type": "code",
   "execution_count": 94,
   "metadata": {},
   "outputs": [],
   "source": [
    "x = np.asarray(spam)[:, 0:-1]\n",
    "y = np.asarray(spam)[:, -1]*2 - 1\n",
    "test_indicator = np.array(test_indicator).T[0]\n",
    "\n",
    "# Divide the data into train, test sets\n",
    "x_train = x[test_indicator == 0, :]\n",
    "x_test = x[test_indicator == 1, :]\n",
    "y_train = y[test_indicator == 0]\n",
    "y_test = y[test_indicator == 1]\n",
    "\n",
    "# Standardize the data.\n",
    "scaler = sklearn.preprocessing.StandardScaler()\n",
    "scaler.fit(x_train)\n",
    "x_train = scaler.transform(x_train)\n",
    "x_test = scaler.transform(x_test)\n",
    "\n",
    "# Keep track of the number of samples and dimension of each sample\n",
    "n_train = len(y_train)\n",
    "n_test = len(y_test)\n",
    "d = np.size(x, 1)"
   ]
  },
  {
   "cell_type": "markdown",
   "metadata": {},
   "source": [
    "**Instruction**  \n",
    "Write a function _myrhologistic_ that implements the accelerated gradient algorithm to train the $\\ell_2^2$-regularized binary logistic regression with $\\rho$-logistic loss. The function takes as input\n",
    "the initial step-size for the backtracking rule, the $\\epsilon$ for the stopping criterion based on thenorm of the gradient of the objective, and the value of $\\rho$."
   ]
  },
  {
   "cell_type": "markdown",
   "metadata": {},
   "source": [
    "**Instruction**  \n",
    "Train you $\\ell_2^2$-regularized binary logistic regression with $\\rho$-logistic loss with $\\rho=2$ and $\\epsilon=10^{-3}$ o the Spam dataset for $\\lambda=1$. Report your misclassification error for this value of $\\lambda$."
   ]
  },
  {
   "cell_type": "markdown",
   "metadata": {},
   "source": [
    "**Instruction**  \n",
    "Write a function _crossval_ that implements leave-one-out cross-validation."
   ]
  },
  {
   "cell_type": "code",
   "execution_count": null,
   "metadata": {},
   "outputs": [],
   "source": []
  }
 ],
 "metadata": {
  "kernelspec": {
   "display_name": "Python 3",
   "language": "python",
   "name": "python3"
  },
  "language_info": {
   "codemirror_mode": {
    "name": "ipython",
    "version": 3
   },
   "file_extension": ".py",
   "mimetype": "text/x-python",
   "name": "python",
   "nbconvert_exporter": "python",
   "pygments_lexer": "ipython3",
   "version": "3.7.1"
  }
 },
 "nbformat": 4,
 "nbformat_minor": 2
}
