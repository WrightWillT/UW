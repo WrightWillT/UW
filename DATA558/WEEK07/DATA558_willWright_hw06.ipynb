{
 "cells": [
  {
   "cell_type": "markdown",
   "metadata": {},
   "source": [
    "# DATA 558 - Homework 6  \n",
    "Will Wright\n",
    "***"
   ]
  },
  {
   "cell_type": "markdown",
   "metadata": {},
   "source": [
    "## Exercise 1"
   ]
  },
  {
   "cell_type": "markdown",
   "metadata": {},
   "source": [
    "In this exercise, you will implement in Python a first version of your own coordinate descent algorithm to solve the LASSO problem, that is the $\\ell_1$-regularized least-squares regression problem.  \n",
    "Recall from the lectures that the LASSO problem writes as:\n",
    "$$\\min_{\\mathbf{\\beta \\in \\mathbb{R}^d}} F(\\beta):=\\frac{1}{n}\\sum_{i=1}^{n}(y_i - x_i^T\\beta)^2 + \\lambda\\lVert\\beta\\rVert_1$$"
   ]
  },
  {
   "cell_type": "markdown",
   "metadata": {},
   "source": [
    "#### Coordinate Descent  \n",
    "The coordinate descent algorithm is outlined in Algorithm 1. The algorithm requires a subroutine that performs the partial minimization of the objective for any coordinate $\\beta_j$."
   ]
  },
  {
   "cell_type": "markdown",
   "metadata": {},
   "source": [
    "> **Algorithm 1** Coordinate Descent Algorithm, general form:  \n",
    "**initialize** $\\beta=0$.  \n",
    "**repeat** for $t = 0,1,2,...$  \n",
    "- Pick a coordinate index $j$ in ${1,...,d}$  \n",
    "- Find $\\beta_j^{new}$ by minimizing $F(\\beta)$ with respect to $\\beta_j$ only.  \n",
    "- Perform update $\\beta_j^{t+1} = \\beta_j^{new}$.\n",
    "- Perform update $\\beta_\\ell^{t+1} = \\beta_\\ell^{(t)}$ for all $\\ell \\neq j$.\n",
    "**until** the stopping criterion is satisfied."
   ]
  },
  {
   "cell_type": "markdown",
   "metadata": {},
   "source": [
    "**Instructions**  \n",
    "Assume that $d = 1$ and $n=1$. The sample is then of size 1 and boils down to just $(x,y)$; the learning parameter $\\beta$ is then a scalar.  The function $F$ writes simply as:  \n",
    "$$F(\\beta)=(y-x\\beta)^2+\\lambda|\\beta|$$  \n",
    "The solution to the minimization problem  $\\min_{\\mathbf{\\beta}}F(\\beta)$ is given by:  \n"
   ]
  },
  {
   "cell_type": "code",
   "execution_count": null,
   "metadata": {},
   "outputs": [],
   "source": []
  }
 ],
 "metadata": {
  "kernelspec": {
   "display_name": "Python 3",
   "language": "python",
   "name": "python3"
  },
  "language_info": {
   "codemirror_mode": {
    "name": "ipython",
    "version": 3
   },
   "file_extension": ".py",
   "mimetype": "text/x-python",
   "name": "python",
   "nbconvert_exporter": "python",
   "pygments_lexer": "ipython3",
   "version": "3.7.1"
  }
 },
 "nbformat": 4,
 "nbformat_minor": 2
}
