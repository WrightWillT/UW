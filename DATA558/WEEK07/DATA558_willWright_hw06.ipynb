{
 "cells": [
  {
   "cell_type": "markdown",
   "metadata": {},
   "source": [
    "# DATA 558 - Homework 6  \n",
    "Will Wright\n",
    "***"
   ]
  },
  {
   "cell_type": "markdown",
   "metadata": {},
   "source": [
    "## Exercise 1"
   ]
  },
  {
   "cell_type": "markdown",
   "metadata": {},
   "source": [
    "In this exercise, you will implement in Python a first version of your own coordinate descent algorithm to solve the LASSO problem, that is the $\\ell_1$-regularized least-squares regression problem.  \n",
    "Recall from the lectures that the LASSO problem writes as:\n",
    "$$\\min_{\\mathbf{\\beta \\in \\mathbb{R}^d}} F(\\beta):=\\frac{1}{n}\\sum_{i=1}^{n}(y_i - x_i^T\\beta)^2 + \\lambda\\lVert\\beta\\rVert_1$$"
   ]
  },
  {
   "cell_type": "markdown",
   "metadata": {},
   "source": [
    "#### Coordinate Descent  \n",
    "The coordinate descent algorithm is outlined in Algorithm 1. The algorithm requires a subroutine that performs the partial minimization of the objective for any coordinate $\\beta_j$."
   ]
  },
  {
   "cell_type": "markdown",
   "metadata": {},
   "source": [
    "> **Algorithm 1** Coordinate Descent Algorithm, general form:  \n",
    "**initialize** $\\beta=0$.  \n",
    "**repeat** for $t = 0,1,2,...$  \n",
    "- Pick a coordinate index $j$ in ${1,...,d}$  \n",
    "- Find $\\beta_j^{new}$ by minimizing $F(\\beta)$ with respect to $\\beta_j$ only.  \n",
    "- Perform update $\\beta_j^{t+1} = \\beta_j^{new}$.\n",
    "- Perform update $\\beta_\\ell^{t+1} = \\beta_\\ell^{(t)}$ for all $\\ell \\neq j$.\n",
    "**until** the stopping criterion is satisfied."
   ]
  },
  {
   "cell_type": "markdown",
   "metadata": {},
   "source": [
    "**Instructions**  \n",
    "Assume that $d = 1$ and $n=1$. The sample is then of size 1 and boils down to just $(x,y)$; the learning parameter $\\beta$ is then a scalar.  The function $F$ writes simply as:  \n",
    "$$F(\\beta)=(y-x\\beta)^2+\\lambda|\\beta|_1$$  \n",
    "The solution to the minimization problem  $\\min_{\\mathbf{\\beta}}F(\\beta)$ is given by Coordinate Descent where $\\hat{\\beta}_j$ is calculated iteratively in a closed-form.  \n",
    "  \n",
    "Write a function that computes the formula of the solution of this minimization problem."
   ]
  },
  {
   "cell_type": "code",
   "execution_count": 1,
   "metadata": {},
   "outputs": [],
   "source": [
    "# Load Packages\n",
    "import numpy as np\n",
    "import matplotlib.pyplot as plt\n",
    "import pandas as pd\n",
    "import sklearn.preprocessing\n",
    "import scipy.linalg\n",
    "from sklearn.linear_model import LogisticRegression\n",
    "from tqdm import tqdm\n",
    "import copy\n",
    "from random import sample\n",
    "from random import choice\n",
    "from sklearn.metrics import confusion_matrix\n",
    "from sklearn.metrics import precision_recall_fscore_support\n",
    "import seaborn as sn"
   ]
  },
  {
   "cell_type": "code",
   "execution_count": 5,
   "metadata": {},
   "outputs": [],
   "source": [
    "x = np.array([[1,2,3],[6,3,5]])"
   ]
  },
  {
   "cell_type": "code",
   "execution_count": 6,
   "metadata": {},
   "outputs": [
    {
     "data": {
      "text/plain": [
       "(2, 3)"
      ]
     },
     "execution_count": 6,
     "metadata": {},
     "output_type": "execute_result"
    }
   ],
   "source": [
    "x.shape"
   ]
  },
  {
   "cell_type": "code",
   "execution_count": null,
   "metadata": {},
   "outputs": [],
   "source": [
    "np.asscalar() # recommended from ben"
   ]
  },
  {
   "cell_type": "markdown",
   "metadata": {},
   "source": [
    "**Instructions**  \n",
    "Assume now that $d>1$ and $n>1$. Write a function that computes the formula of the solution of this partial minimization problem with respect to $\\beta_j$ for any $j=1,...,d$."
   ]
  },
  {
   "cell_type": "code",
   "execution_count": null,
   "metadata": {},
   "outputs": [],
   "source": [
    "def compute_L1_obj(x, y, lamb):\n",
    "    n, d = x.shape\n",
    "    for j in d\n",
    "        for i in n:\n",
    "            c = \n",
    "            j = "
   ]
  },
  {
   "cell_type": "markdown",
   "metadata": {},
   "source": []
  },
  {
   "cell_type": "code",
   "execution_count": null,
   "metadata": {},
   "outputs": [],
   "source": []
  }
 ],
 "metadata": {
  "kernelspec": {
   "display_name": "Python 3",
   "language": "python",
   "name": "python3"
  },
  "language_info": {
   "codemirror_mode": {
    "name": "ipython",
    "version": 3
   },
   "file_extension": ".py",
   "mimetype": "text/x-python",
   "name": "python",
   "nbconvert_exporter": "python",
   "pygments_lexer": "ipython3",
   "version": "3.7.1"
  }
 },
 "nbformat": 4,
 "nbformat_minor": 2
}
