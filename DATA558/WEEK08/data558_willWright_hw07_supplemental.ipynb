{
 "cells": [
  {
   "cell_type": "markdown",
   "metadata": {},
   "source": [
    "Computing the gradient"
   ]
  },
  {
   "cell_type": "code",
   "execution_count": null,
   "metadata": {},
   "outputs": [],
   "source": []
  },
  {
   "cell_type": "markdown",
   "metadata": {},
   "source": [
    "## Exercise 3 - Data Competition Project"
   ]
  },
  {
   "cell_type": "code",
   "execution_count": null,
   "metadata": {},
   "outputs": [],
   "source": [
    "# Load packages\n",
    "import numpy as np\n",
    "import pandas as pd\n",
    "from sklearn.svm import LinearSVC\n",
    "from sklearn.multiclass import OneVsOneClassifier\n",
    "from sklearn.multiclass import OneVsRestClassifier\n",
    "from sklearn import preprocessing"
   ]
  },
  {
   "cell_type": "code",
   "execution_count": null,
   "metadata": {},
   "outputs": [],
   "source": [
    "# Load data\n",
    "x_train_raw = np.load('/Users/willwright/Downloads/data558spring2019-competition2/train_features.npy')\n",
    "y_train_raw = np.load('/Users/willwright/Downloads/data558spring2019-competition2/train_labels.npy')\n",
    "x_val_raw = np.load('/Users/willwright/Downloads/data558spring2019-competition2/val_features.npy')\n",
    "y_val_raw = np.load('/Users/willwright/Downloads/data558spring2019-competition2/val_labels.npy')\n",
    "x_test_raw = np.load('/Users/willwright/Downloads/data558spring2019-competition2/test_features.npy')"
   ]
  },
  {
   "cell_type": "code",
   "execution_count": null,
   "metadata": {},
   "outputs": [],
   "source": [
    "# Standardize x\n",
    "x_standardizer = preprocessing.StandardScaler()\n",
    "x_train = x_standardizer.fit_transform(x_train_raw)\n",
    "x_val = x_standardizer.fit_transform(x_val_raw)\n",
    "x_test = x_standardizer.fit_transform(x_test_raw)\n",
    "\n",
    "# No further processing needed for y\n",
    "y_train = y_train_raw\n",
    "y_val = y_val_raw"
   ]
  },
  {
   "cell_type": "code",
   "execution_count": 59,
   "metadata": {},
   "outputs": [
    {
     "data": {
      "text/plain": [
       "0.5423"
      ]
     },
     "execution_count": 59,
     "metadata": {},
     "output_type": "execute_result"
    }
   ],
   "source": [
    "OneVsOne_pred = OneVsOneClassifier(\n",
    "    LinearSVC(random_state=0, tol=1e-5, fit_intercept=False\n",
    "             )).fit(x_train,y_train).predict(x_val)\n",
    "\n",
    "np.mean(OneVsOne_pred==y_val)"
   ]
  },
  {
   "cell_type": "code",
   "execution_count": null,
   "metadata": {},
   "outputs": [],
   "source": [
    "OneVsRest_pred = OneVsRestClassifier(\n",
    "    LinearSVC(random_state=0, tol=1e-5, fit_intercept=False\n",
    "             )).fit(x_train[:1000,:],y_train[:1000]).predict(x_val[:200,])\n",
    "\n",
    "np.mean(OneVsRest_pred==y_val)"
   ]
  },
  {
   "cell_type": "code",
   "execution_count": 63,
   "metadata": {},
   "outputs": [
    {
     "ename": "NameError",
     "evalue": "name 'OneVsRest_pred' is not defined",
     "output_type": "error",
     "traceback": [
      "\u001b[0;31m---------------------------------------------------------------------------\u001b[0m",
      "\u001b[0;31mNameError\u001b[0m                                 Traceback (most recent call last)",
      "\u001b[0;32m<ipython-input-63-8c8ea787c228>\u001b[0m in \u001b[0;36m<module>\u001b[0;34m\u001b[0m\n\u001b[0;32m----> 1\u001b[0;31m \u001b[0mnp\u001b[0m\u001b[0;34m.\u001b[0m\u001b[0mmean\u001b[0m\u001b[0;34m(\u001b[0m\u001b[0mOneVsRest_pred\u001b[0m\u001b[0;34m==\u001b[0m\u001b[0my_val\u001b[0m\u001b[0;34m)\u001b[0m\u001b[0;34m\u001b[0m\u001b[0;34m\u001b[0m\u001b[0m\n\u001b[0m",
      "\u001b[0;31mNameError\u001b[0m: name 'OneVsRest_pred' is not defined"
     ]
    }
   ],
   "source": [
    "np.mean(OneVsRest_pred==y_val)"
   ]
  },
  {
   "cell_type": "code",
   "execution_count": null,
   "metadata": {},
   "outputs": [],
   "source": [
    "kaggle_submission = pd.DataFrame({'Id':range(10000),'Category':test_prediction_results})"
   ]
  },
  {
   "cell_type": "code",
   "execution_count": null,
   "metadata": {},
   "outputs": [],
   "source": [
    "kaggle_submission.to_csv('willWright_competition2_submission.csv', index = False)"
   ]
  }
 ],
 "metadata": {
  "kernelspec": {
   "display_name": "Python 3",
   "language": "python",
   "name": "python3"
  },
  "language_info": {
   "codemirror_mode": {
    "name": "ipython",
    "version": 3
   },
   "file_extension": ".py",
   "mimetype": "text/x-python",
   "name": "python",
   "nbconvert_exporter": "python",
   "pygments_lexer": "ipython3",
   "version": "3.7.1"
  }
 },
 "nbformat": 4,
 "nbformat_minor": 2
}
